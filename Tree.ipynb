{
 "cells": [
  {
   "cell_type": "markdown",
   "metadata": {},
   "source": [
    "## 二叉搜索树中第K小的元素\n",
    "---\n",
    "给定一个二叉搜索树，编写一个函数 kthSmallest 来查找其中第 `k`个最小的元素。  \n",
    "**说明：**\n",
    "你可以假设 k 总是有效的，1 ≤ k ≤ 二叉搜索树元素个数。  \n",
    "**示例 1:**  \n",
    "```\n",
    "输入: root = [3,1,4,null,2], k = 1\n",
    "   3\n",
    "  / \\\n",
    " 1   4\n",
    "  \\\n",
    "   2\n",
    "输出: 1\n",
    "```\n",
    "**示例 2:**\n",
    "```\n",
    "输入: root = [5,3,6,2,4,null,null,1], k = 3\n",
    "       5\n",
    "      / \\\n",
    "     3   6\n",
    "    / \\\n",
    "   2   4\n",
    "  /\n",
    " 1\n",
    "输出: 3\n",
    "\n",
    "\n",
    "```\n",
    "进阶：\n",
    "如果二叉搜索树经常被修改（插入/删除操作）并且你需要频繁地查找第 k 小的值，你将如何优化 kthSmallest 函数？"
   ]
  },
  {
   "cell_type": "markdown",
   "metadata": {},
   "source": [
    "## 230.中序遍历(递归)"
   ]
  },
  {
   "cell_type": "code",
   "execution_count": null,
   "metadata": {},
   "outputs": [],
   "source": [
    "# Definition for a binary tree node.\n",
    "# class TreeNode:\n",
    "#     def __init__(self, val=0, left=None, right=None):\n",
    "#         self.val = val\n",
    "#         self.left = left\n",
    "#         self.right = right\n",
    "class Solution:\n",
    "    def __init__(self):\n",
    "        self.q=[]\n",
    "    def kthSmallest(self, root: TreeNode, k: int) -> int:\n",
    "        def Inorder(root):\n",
    "            if root!=None:\n",
    "                Inorder(root.left)\n",
    "                self.q.append(root.val)\n",
    "                #if len(self.q)>=k:\n",
    "                #    return\n",
    "                Inorder(root.right)\n",
    "        Inorder(root)\n",
    "        print(self.q)\n",
    "        return self.q[k-1]"
   ]
  },
  {
   "cell_type": "code",
   "execution_count": null,
   "metadata": {},
   "outputs": [],
   "source": [
    "class Solution:\n",
    "    def kthSmallest(self, root, k):\n",
    "        \"\"\"\n",
    "        :type root: TreeNode\n",
    "        :type k: int\n",
    "        :rtype: int\n",
    "        \"\"\"\n",
    "        def inorder(r):\n",
    "            return inorder(r.left) + [r.val] + inorder(r.right) if r else []\n",
    "    \n",
    "        return inorder(root)[k - 1]\n"
   ]
  },
  {
   "cell_type": "markdown",
   "metadata": {},
   "source": [
    "### 迭代"
   ]
  },
  {
   "cell_type": "code",
   "execution_count": 2,
   "metadata": {},
   "outputs": [],
   "source": [
    "class Solution:\n",
    "    def kthSmallest(self, root, k):\n",
    "        \"\"\"\n",
    "        :type root: TreeNode\n",
    "        :type k: int\n",
    "        :rtype: int\n",
    "        \"\"\"\n",
    "        stack = []\n",
    "        \n",
    "        while True:\n",
    "            while root:\n",
    "                stack.append(root)\n",
    "                root = root.left\n",
    "            root = stack.pop()\n",
    "            k -= 1\n",
    "            if not k:\n",
    "                return root.val\n",
    "            root = root.right\n",
    "\n"
   ]
  },
  {
   "cell_type": "code",
   "execution_count": null,
   "metadata": {},
   "outputs": [],
   "source": []
  }
 ],
 "metadata": {
  "kernelspec": {
   "display_name": "Python 3",
   "language": "python",
   "name": "python3"
  },
  "language_info": {
   "codemirror_mode": {
    "name": "ipython",
    "version": 3
   },
   "file_extension": ".py",
   "mimetype": "text/x-python",
   "name": "python",
   "nbconvert_exporter": "python",
   "pygments_lexer": "ipython3",
   "version": "3.8.3"
  }
 },
 "nbformat": 4,
 "nbformat_minor": 4
}
