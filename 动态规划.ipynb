{
 "cells": [
  {
   "cell_type": "markdown",
   "metadata": {},
   "source": [
    "## 395.至少有K个重复字符的最长子串\n",
    "---\n",
    "找到给定（由小写字符组成）中的最长子串`T`，要求`T`中的每一个字符出现的次数都不小于k。输出`T`的长度。\n",
    "**示例1：**\n",
    "```\n",
    "输入：\n",
    "s = \"aaabb\", k=3\n",
    "\n",
    "输出：\n",
    "3\n",
    "\n",
    "最长子串为\"aaa\",其中'a'重复了3次。\n",
    "```\n",
    "**示例2：**\n",
    "```\n",
    "输入:\n",
    "s=\"ababbc\", k=2\n",
    "\n",
    "输出：\n",
    "5\n",
    "\n",
    "最长子串为\"ababb\",其中 `a`重复了 2 次，`b` 重复了3次。\n",
    "```"
   ]
  },
  {
   "cell_type": "markdown",
   "metadata": {},
   "source": [
    "### 将原字符串以数量不够的字符为分隔符进行分割\n",
    "---\n",
    "\n",
    "- 对字符串 s 中的字符 c，如果 c 在 s 中的数量一共都不足 k 个\n",
    "- 那么将 s 以 c 为分隔符进行分割，对分割后的子串 t\n",
    "- 递归调用函数，返回满足题目要求的最长子串长度\n",
    "- 如果 s 中所有字符 c 的数量都大于等于 k 个，则返回 s 的长度\n"
   ]
  },
  {
   "cell_type": "code",
   "execution_count": 1,
   "metadata": {},
   "outputs": [],
   "source": [
    "class Solution:\n",
    "    def longestSubstring(self, s: str, k: int) -> int:\n",
    "        if len(s)<k: return 0\n",
    "        for c in set(s):\n",
    "            if s.count(c) <k:\n",
    "                return max(self.longestSubstring(t,k)for t in s.split(c))\n",
    "        return len(s)"
   ]
  },
  {
   "cell_type": "markdown",
   "metadata": {},
   "source": [
    "上面递归方法使用系统栈，不用递归时创建一个栈来模拟\n",
    "注意，[for ... else ...](https://book.pythontips.com/en/latest/for_-_else.html) 语句\n",
    "当 for 循环正常结束之后（不是由 break 语句强制跳出循环而导致的结束），执行 else 语句\n"
   ]
  },
  {
   "cell_type": "code",
   "execution_count": 2,
   "metadata": {},
   "outputs": [],
   "source": [
    "class Solution:\n",
    "    def longestSubstring(self, s: str, k: int) -> int:\n",
    "        self.stack=[]\n",
    "        self.stack.append(s)\n",
    "        maxlen =0\n",
    "        while len(self.stack)>0:\n",
    "            st=self.stack.pop(0)\n",
    "            for a in set(st):\n",
    "                if st.count(a)< k:\n",
    "                    self.stack.extend(st.split(a))\n",
    "                    break\n",
    "            else:\n",
    "                maxlen= max(maxlen,len(st))\n",
    "            \n",
    "        return maxlen"
   ]
  },
  {
   "cell_type": "markdown",
   "metadata": {},
   "source": [
    "## 二叉树中的最大路径和\n",
    "---\n",
    "给定一个**非空**二叉树，返回其最大路径和。  \n",
    "本题中，路径被定义为一条从树中任意节点出发，沿父节点-子节点连接，达到任意节点的序列。该路径**至少包含一个**节点，且不一定经过根节点。\n",
    "**示例1：**\n",
    "```\n",
    "输入：[1,2,3]\n",
    "\n",
    "       1\n",
    "      / \\\n",
    "     2   3\n",
    "\n",
    "输出：6\n",
    "```\n",
    "\n",
    "**示例2：**\n",
    "```\n",
    "输入：[-10,9,20,null,null,15,7]\n",
    "\n",
    "   -10\n",
    "   / \\\n",
    "  9  20\n",
    "    /  \\\n",
    "   15   7\n",
    "\n",
    "输出：42\n",
    "```"
   ]
  },
  {
   "cell_type": "code",
   "execution_count": null,
   "metadata": {},
   "outputs": [],
   "source": [
    "class Solution:\n",
    "    def __init__(self):\n",
    "        self.maxSum = float(\"-inf\")\n",
    "    \n",
    "    def maxPathSum(self,root:TreeNode) -> int:\n",
    "        def maxGain(node):\n",
    "            if not node:\n",
    "                return 0\n",
    "            \n",
    "            # 递归计算左右子节点的最大贡献值\n",
    "            # 只有在最大贡献值大于0时，才会选取对应子节点\n",
    "            left = max(maxGain(node.left),0)\n",
    "            right = max(maxGain(node.right),0)\n",
    "            \n",
    "            #节点的最大路径和取决于该节点的值与该节点的左右子节点的最大贡献值\n",
    "            priceNewpath = node.val + left +right\n",
    "            #更新答案\n",
    "            self.maxSum = max(self.maxSum,priceNewpath)\n",
    "            \n",
    "            #返回节点的最大贡献值\n",
    "            return node.val + max(left,right)\n",
    "        maxGain(root)\n",
    "        return self.maxSum"
   ]
  },
  {
   "cell_type": "markdown",
   "metadata": {},
   "source": [
    "## 128 最长连续序列\n",
    "---\n",
    "给定一个未排序的整数数组,找出最长连续序列的长度。  \n",
    "要求算法的时间复杂度为O(n)。  \n",
    "**示例**\n",
    "```\n",
    "输入：[100,4,200,1,3,2]\n",
    "输出：4\n",
    "解释：最长连续序列是[1,2,3,4]。它的长度为4。\n",
    "```"
   ]
  },
  {
   "cell_type": "markdown",
   "metadata": {},
   "source": [
    "### 方法一：哈希表\n",
    "思路和算法"
   ]
  },
  {
   "cell_type": "markdown",
   "metadata": {},
   "source": [
    "\n",
    "我们考虑枚举数组中的每个数 x，考虑以其为起点，不断尝试匹配x+1,x+2,⋯ 是否存在，假设最长匹配到了 x+y，那么以 x 为起点的最长连续序列即为 x, x+1, x+2,x+y,⋯，其长度为 y+1，我们不断枚举并更新答案即可。\n",
    "\n",
    "对于匹配的过程，暴力的方法是 O(n) 遍历数组去看是否存在这个数，但其实更高效的方法是用一个哈希表存储数组中的数，这样查看一个数是否存在即能优化至 O(1) 的时间复杂度。\n",
    "\n",
    "仅仅是这样我们的算法时间复杂度最坏情况下还是会达到 O(n^2)（即外层需要枚举 O(n) 个数，内层需要暴力匹配 O(n) 次），无法满足题目的要求。但仔细分析这个过程，我们会发现其中执行了很多不必要的枚举，如果已知有一个 x, x+1, x+2,⋯,x+y 的连续序列，而我们却重新从 x+1，x+2 或者是 x+y 处开始尝试匹配，那么得到的结果肯定不会优于枚举 x 为起点的答案，因此我们在外层循环的时候碰到这种情况跳过即可。\n",
    "\n",
    "那么怎么判断是否跳过呢？由于我们要枚举的数 x 一定是在数组中不存在前驱数 x-1 的，不然按照上面的分析我们会从 x-1 开始尝试匹配，因此我们每次在哈希表中检查是否存在 x-1 即能判断是否需要跳过了。\n"
   ]
  },
  {
   "cell_type": "code",
   "execution_count": null,
   "metadata": {},
   "outputs": [],
   "source": [
    "class Solution:\n",
    "    def longestConsecutive(self, nums: List[int]) -> int:\n",
    "        from collections import defaultdict\n",
    "        dic =defaultdict(bool)\n",
    "        maxnum=0\n",
    "        for s in nums:\n",
    "            dic[s]=True\n",
    "        for i,s in enumerate(nums):\n",
    "            if dic[s-1]==True:\n",
    "                continue\n",
    "            else:\n",
    "                j=1\n",
    "                while dic[s+j]==True:\n",
    "                    j+=1\n",
    "                if j >maxnum:\n",
    "                    maxnum=j\n",
    "        return maxnum"
   ]
  },
  {
   "cell_type": "markdown",
   "metadata": {},
   "source": [
    "### 方法二：动态规划"
   ]
  },
  {
   "cell_type": "markdown",
   "metadata": {},
   "source": [
    "#### 解题思路：\n",
    "题目要求O(n)复杂度。  \n",
    "- 用哈希表存储每个端点值对应连续区间的长度\n",
    "- 若数已在哈希表中：跳过不作处理\n",
    "- 若是新数加入：\n",
    "    - 取出其左右相邻数已有的连续区间长度 left 和 right\n",
    "    - 计算当前数的区间长度为：cur_length = left + right + 1\n",
    "    - 根据 cur_length 更新最大长度 max_length的值\n",
    "    - 更新区间两端点的长度值"
   ]
  },
  {
   "cell_type": "markdown",
   "metadata": {},
   "source": [
    "Python 字典(Dictionary) get() 函数返回指定键的值，如果值不在字典中返回默认值。"
   ]
  },
  {
   "cell_type": "code",
   "execution_count": null,
   "metadata": {},
   "outputs": [],
   "source": [
    "class Solution(object):\n",
    "    def longestConsecutive(self,nums):\n",
    "        hash_dict = dict()\n",
    "        \n",
    "        max_length = 0\n",
    "        for num in nums:\n",
    "            if num not in hash_dict:\n",
    "                left = hash_dict.get(num-1, 0)\n",
    "                right = hash_dict.get(num+1,0)\n",
    "                \n",
    "                cur_length = 1+left+right\n",
    "                if cur_length > max_length:\n",
    "                    max_length = cur_length\n",
    "                    \n",
    "                hash_dict[num] = cur_length\n",
    "                hash_dict[num - left] = cur_length\n",
    "                hash_dict[num + right] = cur_length\n",
    "        \n",
    "        return max_length\n",
    "        "
   ]
  },
  {
   "cell_type": "markdown",
   "metadata": {},
   "source": [
    "### 方法三：并查集"
   ]
  },
  {
   "cell_type": "code",
   "execution_count": null,
   "metadata": {},
   "outputs": [],
   "source": [
    "class Solution:\n",
    "    def longestConsecutive(self, nums: List[int]) -> int:\n",
    "        nums=list(set(nums))\n",
    "        def find_root(p):\n",
    "            while dic_tree[p]!=p:p= dic_tree[p]\n",
    "            return p\n",
    "        def union(p,q):\n",
    "            root= find_root(p)\n",
    "            while True:\n",
    "                next = dic_tree[q]\n",
    "                dic_tree[q] = root\n",
    "                q =next\n",
    "                if q == dic_tree[q]:break\n",
    "        from collections import defaultdict\n",
    "        dic = defaultdict(bool)\n",
    "        dic_tree = {}\n",
    "        dic_root=defaultdict(int)\n",
    "        for s in nums:\n",
    "            dic[s] = True\n",
    "            dic_tree[s] = s\n",
    "        for s in nums:\n",
    "            if dic[s-1] == True:\n",
    "                if find_root(s)!=find_root(s-1):\n",
    "                    union(s-1,s)\n",
    "        for s in nums:\n",
    "            dic_root[find_root(s)]+=1\n",
    "        maxnum=0\n",
    "        for s in dic_root:\n",
    "            if dic_root[s]>maxnum:\n",
    "                maxnum=dic_root[s]\n",
    "        return maxnum"
   ]
  },
  {
   "cell_type": "markdown",
   "metadata": {},
   "source": [
    "## 198.打家劫舍\n",
    "---\n",
    "你是一个专业的小偷，计划偷窃沿街的房屋。每间房内都藏有一定的现金，影响你偷窃的唯一制约因素就是相邻的房屋装有相互连通的防盗系统，如果两间相邻的房屋在同一晚上被小偷闯入，系统会自动报警。\n",
    "\n",
    "给定一个代表每个房屋存放金额的非负整数数组，计算你 不触动警报装置的情况下 ，一夜之内能够偷窃到的最高金额。\n",
    "\n",
    "**示例1：**  \n",
    "```\n",
    "输入：[1,2,3,1]\n",
    "输出：4\n",
    "解释：偷窃 1 号房屋 (金额 = 1) ，然后偷窃 3 号房屋 (金额 = 3)。\n",
    "     偷窃到的最高金额 = 1 + 3 = 4 。\n",
    "\n",
    "```\n",
    "\n",
    "**示例2：**\n",
    "```\n",
    "输入：[2,7,9,3,1]\n",
    "输出：12\n",
    "解释：偷窃 1 号房屋 (金额 = 2), 偷窃 3 号房屋 (金额 = 9)，接着偷窃 5 号房屋 (金额 = 1)。\n",
    "     偷窃到的最高金额 = 2 + 9 + 1 = 12 。\n",
    "```\n",
    "**提示**\n",
    "- `0 <= nums.length <= 100`\n",
    "- `0 <= nums[i] <= 400`"
   ]
  },
  {
   "cell_type": "markdown",
   "metadata": {},
   "source": [
    "### 动态规划"
   ]
  },
  {
   "cell_type": "code",
   "execution_count": null,
   "metadata": {},
   "outputs": [],
   "source": [
    "class Solution:\n",
    "    def rob(self, nums: List[int]) -> int:\n",
    "        len_nums = len(nums)\n",
    "        if len_nums==0:return 0\n",
    "        if len_nums==1:return nums[0]\n",
    "        if len_nums==2:return max(nums[0],nums[1])\n",
    "        dp = [0]*(len_nums+1)\n",
    "        dp[1]=nums[0]\n",
    "        for i in range(2,len_nums+1):\n",
    "            dp[i] = max(dp[i-2]+nums[i-1],dp[i-1])\n",
    "        return max(dp)\n",
    "        "
   ]
  },
  {
   "cell_type": "markdown",
   "metadata": {},
   "source": [
    "## 279.完全平方数\n",
    "---\n",
    "给定正整数 n，找到若干个完全平方数（比如 1, 4, 9, 16, ...）使得它们的和等于 n。你需要让组成和的完全平方数的个数最少。  \n",
    "**示例1：**\n",
    "```\n",
    "输入: n = 12\n",
    "输出: 3 \n",
    "解释: 12 = 4 + 4 + 4.\n",
    "```\n",
    "**示例2：**\n",
    "```\n",
    "输入: n = 13\n",
    "输出: 2\n",
    "解释: 13 = 4 + 9.\n",
    "```"
   ]
  },
  {
   "cell_type": "markdown",
   "metadata": {},
   "source": [
    "### 动态规划\n",
    "---\n",
    "**思路**\n",
    "- 标签：动态规划\n",
    "- 首先初始长度为`n+1`的数组`dp`,每个位置都为`0`\n",
    "- 如果`n`为`0`，则结果为`0`\n",
    "- 对数组进行遍历，下标为`i`，每次都将当前数字先更新为最大的结果，即`dp[i]=i`,比如`i=4`,最坏结果为`4=1+1+1+1`即为`4`个数字 \n",
    "- 动态转移方程为`dp[i] = MIN(dp[i], dp[i - j * j] + 1)`，i表示当前数字，`j*j`表示平方数\n",
    "- 时间复杂度为：O(n*sqrt(n)),sqrt为平方根。"
   ]
  },
  {
   "cell_type": "code",
   "execution_count": 6,
   "metadata": {},
   "outputs": [],
   "source": [
    "class Solution:\n",
    "    def numSquares(self, n: int) -> int:\n",
    "        nums = [0]*(n+1)\n",
    "        for i in range(n+1):\n",
    "            nums[i]=i\n",
    "            j=1\n",
    "            while True:\n",
    "                if i-j*j<0:\n",
    "                    break\n",
    "                nums[i]=min(nums[i],nums[i-j*j]+1)\n",
    "                j+=1\n",
    "        return nums[n]"
   ]
  },
  {
   "cell_type": "markdown",
   "metadata": {},
   "source": [
    "### 暴力枚举法 [超出时间限制]\n",
    "$$ numSquares(n) = min(numSquares(n-k)+1)   \\forall k\\in square numbers  $$"
   ]
  },
  {
   "cell_type": "code",
   "execution_count": 7,
   "metadata": {},
   "outputs": [],
   "source": [
    "class Solution(object):\n",
    "    def numSquares(self,n):\n",
    "        square_nums = [i**2 for i in range(1,int(math.sqrt(n))+1)]\n",
    "        \n",
    "        def minNumSquares(k):\n",
    "            \"\"\"recursive solution\"\"\"\n",
    "            # bottom cases: find a square number\n",
    "            if k in square_nums:\n",
    "                return 1\n",
    "            min_num =float('inf')\n",
    "            \n",
    "            #Find the minimal value among all possible solutions\n",
    "            for square in squrae_nums:\n",
    "                if k<square:\n",
    "                    break\n",
    "                new_num = minNumSquares(k-square) + 1\n",
    "                min_num = min(min_num,new_num)\n",
    "            return min_num\n",
    "        return minNumSquares(n)"
   ]
  },
  {
   "cell_type": "code",
   "execution_count": null,
   "metadata": {},
   "outputs": [],
   "source": []
  },
  {
   "cell_type": "code",
   "execution_count": null,
   "metadata": {},
   "outputs": [],
   "source": []
  },
  {
   "cell_type": "markdown",
   "metadata": {},
   "source": [
    "### 300.最长上升子序列\n",
    "---\n",
    "给定一个无序的整数数组，找到其中最长上升子序列的长度。  \n",
    "**示例：**\n",
    "```\n",
    "输入：[10,9,2,5,3,7,101,18]\n",
    "输出：4\n",
    "解释：最长的上升子序列是[2,3,7,101],它的长度是4。\n",
    "```\n",
    "**说明：**\n",
    "- 可能会有多种最长上升子序列的组合，你只需要输出对应的长度即可。\n",
    "- 你算法的时间复杂度应该为$O(n^2)$。\n",
    "\n",
    "**进阶：** 你能将算法的时间复杂度降低到O(nlog n)吗?"
   ]
  },
  {
   "cell_type": "markdown",
   "metadata": {},
   "source": [
    "### 方法一：动态规划\n",
    "时间复杂度$O(n^2)$"
   ]
  },
  {
   "cell_type": "code",
   "execution_count": 8,
   "metadata": {},
   "outputs": [],
   "source": [
    "from typing import List\n",
    "class Solution:\n",
    "    def lengthOfLIS(self, nums: List[int]) -> int:\n",
    "        lens = len(nums)\n",
    "        if lens==0:\n",
    "            return 0\n",
    "        dp = [1]*lens\n",
    "        maxlen=1\n",
    "        for i in range(1,lens):#从前向后遍历，确定当前位置的最长子序列\n",
    "            for j in range(i):#从前向后遍历，选择其中的最大长度值\n",
    "                if nums[i]<=nums[j]:continue\n",
    "                else: dp[i]=max(dp[j]+1,dp[i])\n",
    "            if dp[i]>maxlen:maxlen=dp[i]\n",
    "        return maxlen\n"
   ]
  },
  {
   "cell_type": "markdown",
   "metadata": {},
   "source": [
    "### 方法二：贪心 + 二分查找\n",
    "---\n",
    "考虑一个简单的贪心，如果我们要使上升子序列尽可能的长，则我们需要让序列上升得尽可能慢，因此我们希望每次在上升子序列最后加上的那个数尽可能的小。  \n",
    "基于上面的贪心思路，我们维护一个数组 $d[i]$ ，表示长度为 $i$ 的最长上升子序列的末尾元素的最小值，用 $\\textit{len}$ 记录目前最长上升子序列的长度，起始时 $len$ 为 1，$d[1] = \\textit{nums}[0]$。\n",
    "\n",
    "同时我们可以注意到 d[i] 是关于 i 单调递增的。因为如果 $d[j] \\geq d[i]$ 且 j < i，我们考虑从长度为 i 的最长上升子序列的末尾删除 i-j 个元素，那么这个序列长度变为 j，且第 j 个元素 x（末尾元素）必然小于 d[i]，也就小于 d[j]。那么我们就找到了一个长度为 j 的最长上升子序列，并且末尾元素比 d[j] 小，从而产生了矛盾。因此数组 d[]的单调性得证。  \n",
    "我们依次遍历数组 nums[]中的每个元素，并更新数组d[] 和len 的值。如果nums[i]>d[len]则更新 len=len+1.否则在d[1...len]中找满足d[i-1] < nums[j]<d[i]的下标，并更新d[i] = nums[j].  \n",
    "根据d数组的单调性，我们可以使用二分查找寻找下标i，优化时间复杂度。  \n",
    "最后整个算法流程为：  \n",
    "- 设当前已求出的最长上升子序列的长度为`len`(初始时为1),从前往后遍历数组nums，在遍历到nums[i]时:\n",
    "    - 如果 nums[i] > d[len],则直接加入到d数组末尾，并更新len = len + 1;\n",
    "    - 否则，在d数组中二分查找， 找到第一个比nums[i]小的数 d[k],并更新d[k+1] = nums[i].\n",
    "\n",
    "以输入序列 [0,8,4,12,2] 为例：\n",
    "\n",
    "第一步插入 0，d = [0]；\n",
    "\n",
    "第二步插入 8，d = [0, 8]；\n",
    "\n",
    "第三步插入 4，d = [0, 4]；\n",
    "\n",
    "第四步插入 12，d = [0, 4, 12]；\n",
    "\n",
    "第五步插入 2，d = [0, 2, 12]。\n",
    "\n",
    "最终得到最大递增子序列长度为 33。\n",
    "\n"
   ]
  },
  {
   "cell_type": "markdown",
   "metadata": {},
   "source": [
    "时间复杂度O(nlog n)  \n",
    "空间复杂度O(n),需要额外使用长度为n 的 d 数组  "
   ]
  },
  {
   "cell_type": "code",
   "execution_count": 10,
   "metadata": {},
   "outputs": [],
   "source": [
    "from typing import List\n",
    "class Solution:\n",
    "    def lengthOfLIS(self, nums: List[int]) -> int:\n",
    "        d = []\n",
    "        for n in nums:\n",
    "            if not d or n>d[-1]:\n",
    "                d.append(n)\n",
    "            else:\n",
    "                l,r = 0,len(d)-1\n",
    "                loc = r\n",
    "                while l<=r:\n",
    "                    mid = (l+r)//2\n",
    "                    if d[mid]>=n:\n",
    "                        loc =mid\n",
    "                        r= mid-1\n",
    "                    else:\n",
    "                        l=mid+1\n",
    "                d[loc] = n\n",
    "        return len(d)"
   ]
  },
  {
   "cell_type": "markdown",
   "metadata": {},
   "source": [
    "[reference:二分查找的边界问题](https://leetcode-cn.com/problems/binary-search/solution/er-fen-cha-zhao-de-xun-huan-bu-bian-liang-zhi-yao-/)"
   ]
  },
  {
   "cell_type": "code",
   "execution_count": null,
   "metadata": {},
   "outputs": [],
   "source": []
  }
 ],
 "metadata": {
  "kernelspec": {
   "display_name": "Python 3",
   "language": "python",
   "name": "python3"
  },
  "language_info": {
   "codemirror_mode": {
    "name": "ipython",
    "version": 3
   },
   "file_extension": ".py",
   "mimetype": "text/x-python",
   "name": "python",
   "nbconvert_exporter": "python",
   "pygments_lexer": "ipython3",
   "version": "3.8.3"
  }
 },
 "nbformat": 4,
 "nbformat_minor": 4
}
