{
 "cells": [
  {
   "cell_type": "markdown",
   "metadata": {},
   "source": [
    "## 395.至少有K个重复字符的最长子串\n",
    "---\n",
    "找到给定（由小写字符组成）中的最长子串`T`，要求`T`中的每一个字符出现的次数都不小于k。输出`T`的长度。\n",
    "**示例1：**\n",
    "```\n",
    "输入：\n",
    "s = \"aaabb\", k=3\n",
    "\n",
    "输出：\n",
    "3\n",
    "\n",
    "最长子串为\"aaa\",其中'a'重复了3次。\n",
    "```\n",
    "**示例2：**\n",
    "```\n",
    "输入:\n",
    "s=\"ababbc\", k=2\n",
    "\n",
    "输出：\n",
    "5\n",
    "\n",
    "最长子串为\"ababb\",其中 `a`重复了 2 次，`b` 重复了3次。\n",
    "```"
   ]
  },
  {
   "cell_type": "markdown",
   "metadata": {},
   "source": [
    "### 将原字符串以数量不够的字符为分隔符进行分割\n",
    "---\n",
    "\n",
    "- 对字符串 s 中的字符 c，如果 c 在 s 中的数量一共都不足 k 个\n",
    "- 那么将 s 以 c 为分隔符进行分割，对分割后的子串 t\n",
    "- 递归调用函数，返回满足题目要求的最长子串长度\n",
    "- 如果 s 中所有字符 c 的数量都大于等于 k 个，则返回 s 的长度\n"
   ]
  },
  {
   "cell_type": "code",
   "execution_count": 1,
   "metadata": {},
   "outputs": [],
   "source": [
    "class Solution:\n",
    "    def longestSubstring(self, s: str, k: int) -> int:\n",
    "        if len(s)<k: return 0\n",
    "        for c in set(s):\n",
    "            if s.count(c) <k:\n",
    "                return max(self.longestSubstring(t,k)for t in s.split(c))\n",
    "        return len(s)"
   ]
  },
  {
   "cell_type": "markdown",
   "metadata": {},
   "source": [
    "上面递归方法使用系统栈，不用递归时创建一个栈来模拟\n",
    "注意，[for ... else ...](https://book.pythontips.com/en/latest/for_-_else.html) 语句\n",
    "当 for 循环正常结束之后（不是由 break 语句强制跳出循环而导致的结束），执行 else 语句\n"
   ]
  },
  {
   "cell_type": "code",
   "execution_count": 2,
   "metadata": {},
   "outputs": [],
   "source": [
    "class Solution:\n",
    "    def longestSubstring(self, s: str, k: int) -> int:\n",
    "        self.stack=[]\n",
    "        self.stack.append(s)\n",
    "        maxlen =0\n",
    "        while len(self.stack)>0:\n",
    "            st=self.stack.pop(0)\n",
    "            for a in set(st):\n",
    "                if st.count(a)< k:\n",
    "                    self.stack.extend(st.split(a))\n",
    "                    break\n",
    "            else:\n",
    "                maxlen= max(maxlen,len(st))\n",
    "            \n",
    "        return maxlen"
   ]
  },
  {
   "cell_type": "code",
   "execution_count": null,
   "metadata": {},
   "outputs": [],
   "source": []
  }
 ],
 "metadata": {
  "kernelspec": {
   "display_name": "Python 3",
   "language": "python",
   "name": "python3"
  },
  "language_info": {
   "codemirror_mode": {
    "name": "ipython",
    "version": 3
   },
   "file_extension": ".py",
   "mimetype": "text/x-python",
   "name": "python",
   "nbconvert_exporter": "python",
   "pygments_lexer": "ipython3",
   "version": "3.8.3"
  }
 },
 "nbformat": 4,
 "nbformat_minor": 4
}
