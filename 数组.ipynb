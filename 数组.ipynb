{
 "cells": [
  {
   "cell_type": "markdown",
   "metadata": {},
   "source": [
    "## 152.乘积最大子数组\n",
    "\n",
    "给你一个整数数组的nums，请找出数组中乘积最大的连续子数组（该子数组至少包含一个数字），并返回该子数组所对应的乘积\n",
    "\n",
    "示例1：\n",
    "```\n",
    "输入: [2,3,-2,4]\n",
    "输出: 6\n",
    "解释: 子数组 [2,3] 有最大乘积 6。\n",
    "```\n",
    "\n",
    "示例2：\n",
    "```\n",
    "输入: [-2,0,-1]\n",
    "输出: 0\n",
    "解释: 结果不能为 2, 因为 [-2,-1] 不是子数组。\n",
    "```"
   ]
  },
  {
   "cell_type": "markdown",
   "metadata": {},
   "source": [
    "### 暴力法（超时）"
   ]
  },
  {
   "cell_type": "code",
   "execution_count": 31,
   "metadata": {},
   "outputs": [],
   "source": [
    "class Solution:\n",
    "    from functools import reduce\n",
    "    def maxProduct(self, nums):\n",
    "        max_num = float('-inf')\n",
    "        for i,s in enumerate(nums):\n",
    "            print(i)\n",
    "            for j in range(i+1,len(nums)+1):\n",
    "                print(j)\n",
    "                n=reduce(lambda x,y:x*y,nums[i:j])\n",
    "                print(n)\n",
    "                if max_num <n:\n",
    "                    max_num=n\n",
    "        return max_num"
   ]
  },
  {
   "cell_type": "markdown",
   "metadata": {},
   "source": [
    "### 动态规划法"
   ]
  },
  {
   "cell_type": "code",
   "execution_count": 38,
   "metadata": {},
   "outputs": [
    {
     "data": {
      "text/plain": [
       "[3, 4]"
      ]
     },
     "execution_count": 38,
     "metadata": {},
     "output_type": "execute_result"
    }
   ],
   "source": [
    "max([1,2],[3,4])"
   ]
  },
  {
   "cell_type": "code",
   "execution_count": 45,
   "metadata": {},
   "outputs": [],
   "source": [
    "class Solution:\n",
    "    def maxProduct(self, nums):\n",
    "        lens = len(nums)\n",
    "        dp = [[0 for i in range(2)] for j in range(lens)]\n",
    "        max_num = float('-inf')\n",
    "        for i, n in enumerate(nums):\n",
    "            if i == 0:\n",
    "                dp[i][0]=nums[i]\n",
    "                dp[i][1]=nums[i]\n",
    "            else:\n",
    "                dp[i][0]=min(dp[i-1][0]*nums[i],dp[i-1][1]*nums[i],nums[i])\n",
    "                dp[i][1]=max(dp[i-1][0]*nums[i],dp[i-1][1]*nums[i],nums[i])\n",
    "                #print(dp[i-1][1]*nums[i])\n",
    "            #print(dp)\n",
    "        return max(list(map(max,dp)))"
   ]
  },
  {
   "cell_type": "code",
   "execution_count": null,
   "metadata": {},
   "outputs": [],
   "source": []
  },
  {
   "cell_type": "code",
   "execution_count": null,
   "metadata": {},
   "outputs": [],
   "source": []
  }
 ],
 "metadata": {
  "kernelspec": {
   "display_name": "Python 3",
   "language": "python",
   "name": "python3"
  },
  "language_info": {
   "codemirror_mode": {
    "name": "ipython",
    "version": 3
   },
   "file_extension": ".py",
   "mimetype": "text/x-python",
   "name": "python",
   "nbconvert_exporter": "python",
   "pygments_lexer": "ipython3",
   "version": "3.8.3"
  }
 },
 "nbformat": 4,
 "nbformat_minor": 4
}
