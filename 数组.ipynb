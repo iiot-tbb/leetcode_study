{
 "cells": [
  {
   "cell_type": "markdown",
   "metadata": {},
   "source": [
    "## 152.乘积最大子数组\n",
    "\n",
    "给你一个整数数组的nums，请找出数组中乘积最大的连续子数组（该子数组至少包含一个数字），并返回该子数组所对应的乘积\n",
    "\n",
    "示例1：\n",
    "```\n",
    "输入: [2,3,-2,4]\n",
    "输出: 6\n",
    "解释: 子数组 [2,3] 有最大乘积 6。\n",
    "```\n",
    "\n",
    "示例2：\n",
    "```\n",
    "输入: [-2,0,-1]\n",
    "输出: 0\n",
    "解释: 结果不能为 2, 因为 [-2,-1] 不是子数组。\n",
    "```"
   ]
  },
  {
   "cell_type": "markdown",
   "metadata": {},
   "source": [
    "### 暴力法（超时）"
   ]
  },
  {
   "cell_type": "code",
   "execution_count": 31,
   "metadata": {},
   "outputs": [],
   "source": [
    "class Solution:\n",
    "    from functools import reduce\n",
    "    def maxProduct(self, nums):\n",
    "        max_num = float('-inf')\n",
    "        for i,s in enumerate(nums):\n",
    "            print(i)\n",
    "            for j in range(i+1,len(nums)+1):\n",
    "                print(j)\n",
    "                n=reduce(lambda x,y:x*y,nums[i:j])\n",
    "                print(n)\n",
    "                if max_num <n:\n",
    "                    max_num=n\n",
    "        return max_num"
   ]
  },
  {
   "cell_type": "markdown",
   "metadata": {},
   "source": [
    "### 动态规划法"
   ]
  },
  {
   "cell_type": "code",
   "execution_count": 45,
   "metadata": {},
   "outputs": [],
   "source": [
    "class Solution:\n",
    "    def maxProduct(self, nums):\n",
    "        lens = len(nums)\n",
    "        dp = [[0 for i in range(2)] for j in range(lens)]\n",
    "        max_num = float('-inf')\n",
    "        for i, n in enumerate(nums):\n",
    "            if i == 0:\n",
    "                dp[i][0]=nums[i]\n",
    "                dp[i][1]=nums[i]\n",
    "            else:\n",
    "                dp[i][0]=min(dp[i-1][0]*nums[i],dp[i-1][1]*nums[i],nums[i])\n",
    "                dp[i][1]=max(dp[i-1][0]*nums[i],dp[i-1][1]*nums[i],nums[i])\n",
    "                #print(dp[i-1][1]*nums[i])\n",
    "            #print(dp)\n",
    "        return max(list(map(max,dp)))"
   ]
  },
  {
   "cell_type": "markdown",
   "metadata": {},
   "source": [
    "<font face=\"黑体\">我是黑体字</font>\n",
    "<font face=\"微软雅黑\">我是微软雅黑</font>\n",
    "<font face=\"STCAIYUN\">我是华文彩云</font>\n",
    "<font color=#0099ff size=1 face=\"黑体\">color=#0099ff size=72 face=\"黑体\"</font>\n",
    "<font color=#00ffff size=1>color=#00ffff</font>\n",
    "<font color=gray size=1>color=gray</font>\n",
    "\n",
    "Size：规定文本的尺寸大小。可能的值：从 1 到 7 的数字。浏览器默认值是 3\n",
    "<table><tr><td bgcolor=orange>背景色是：orange</td></tr></table>"
   ]
  },
  {
   "cell_type": "markdown",
   "metadata": {},
   "source": [
    "## 169.多数元素\n",
    "---\n",
    "&emsp;给定一个大小为n的数组，找到其中的多数元素。 多数元素是指在数组中出现次数大于<font color=#00ffff size=1>⌊ n/2 ⌋</font>的元素。\n",
    "你可以假设数组是非空的，并且给定的数组总是存在多数元素。\n",
    "\n",
    "示例1：\n",
    "```\n",
    "输入: [3,2,3]\n",
    "输出: 3\n",
    "```\n",
    "\n",
    "示例2：\n",
    "```\n",
    "输入: [2,2,1,1,1,2,2]\n",
    "输出: 2\n",
    "```\n",
    "---"
   ]
  },
  {
   "cell_type": "code",
   "execution_count": 2,
   "metadata": {},
   "outputs": [],
   "source": [
    "class Solution:\n",
    "    def majorityElement(self, nums) -> int:\n",
    "        averageNum = nums[0]\n",
    "        average_fre = 1\n",
    "        for i in nums[1:]:\n",
    "            if i != averageNum:\n",
    "                average_fre -=1\n",
    "                if average_fre <=0:\n",
    "                    averageNum =i\n",
    "                    average_fre =1\n",
    "            else:\n",
    "                average_fre += 1\n",
    "        return averageNum                \n",
    "        "
   ]
  },
  {
   "cell_type": "markdown",
   "metadata": {},
   "source": [
    "##  189.旋转数组\n",
    "---\n",
    "\n",
    "给定一个数组，将数组中的元素向右移动k个位置，其中k是非负数。\n",
    "\n",
    "#### 示例一\n",
    "```\n",
    "输入: [1,2,3,4,5,6,7] 和 k = 3\n",
    "输出: [5,6,7,1,2,3,4]\n",
    "解释:\n",
    "向右旋转 1 步: [7,1,2,3,4,5,6]\n",
    "向右旋转 2 步: [6,7,1,2,3,4,5]\n",
    "向右旋转 3 步: [5,6,7,1,2,3,4]\n",
    "```\n",
    "#### 示例 2:\n",
    "```\n",
    "输入: [-1,-100,3,99] 和 k = 2\n",
    "输出: [3,99,-1,-100]\n",
    "解释: \n",
    "向右旋转 1 步: [99,-1,-100,3]\n",
    "向右旋转 2 步: [3,99,-1,-100]\n",
    "```\n",
    "\n",
    "说明：\n",
    "\n",
    "- 尽可能想出更多的解决方案，至少有三种不同的方法可以解决这个问题。\n",
    "- 要求使用空间复杂度为 O(1) 的 原地 算法。\n",
    "---"
   ]
  },
  {
   "cell_type": "code",
   "execution_count": 3,
   "metadata": {},
   "outputs": [],
   "source": [
    "class Solution:\n",
    "    def rotate(self, nums, k: int) -> None:\n",
    "        \"\"\"\n",
    "        Do not return anything, modify nums in-place instead.\n",
    "        \"\"\"\n",
    "        k =k%len(nums)\n",
    "        b=nums[-k:] + nums[:-k]\n",
    "        for i,s in enumerate(nums):\n",
    "            nums[i]=b[i]"
   ]
  },
  {
   "cell_type": "code",
   "execution_count": 1,
   "metadata": {},
   "outputs": [],
   "source": [
    "import random"
   ]
  },
  {
   "cell_type": "code",
   "execution_count": 2,
   "metadata": {},
   "outputs": [],
   "source": [
    "s=[1,2,3,4]"
   ]
  },
  {
   "cell_type": "code",
   "execution_count": 14,
   "metadata": {},
   "outputs": [],
   "source": [
    "random.shuffle(s)"
   ]
  },
  {
   "cell_type": "code",
   "execution_count": 15,
   "metadata": {},
   "outputs": [
    {
     "data": {
      "text/plain": [
       "[4, 3, 1, 2]"
      ]
     },
     "execution_count": 15,
     "metadata": {},
     "output_type": "execute_result"
    }
   ],
   "source": [
    "s\n"
   ]
  },
  {
   "cell_type": "markdown",
   "metadata": {},
   "source": [
    "### 打乱数组\n",
    "---\n",
    "打乱一个没有重复元素的数组。\n",
    "\n",
    "示例：\n",
    "```\n",
    "// 以数字集合 1, 2 和 3 初始化数组。\n",
    "int[] nums = {1,2,3};\n",
    "Solution solution = new Solution(nums);\n",
    "\n",
    "// 打乱数组 [1,2,3] 并返回结果。任何 [1,2,3]的排列返回的概率应该相同。\n",
    "solution.shuffle();\n",
    "\n",
    "// 重设数组到它的初始状态[1,2,3]。\n",
    "solution.reset();\n",
    "\n",
    "// 随机返回数组[1,2,3]打乱后的结果。\n",
    "solution.shuffle();\n",
    "\n",
    "\n",
    "```"
   ]
  },
  {
   "cell_type": "markdown",
   "metadata": {},
   "source": [
    "### 方法1：用random的shuffle"
   ]
  },
  {
   "cell_type": "code",
   "execution_count": 33,
   "metadata": {},
   "outputs": [],
   "source": [
    "class Solution:\n",
    "\n",
    "    def __init__(self, nums):\n",
    "        self.__start = nums\n",
    "        self.__shuffle=self.__start\n",
    "\n",
    "    def reset(self):\n",
    "        \"\"\"\n",
    "        Resets the array to its original configuration and return it.\n",
    "        \"\"\"\n",
    "        return self.__start[:]\n",
    "        \n",
    "\n",
    "    def shuffle(self):\n",
    "        \"\"\"\n",
    "        Returns a random shuffling of the array.\n",
    "        \"\"\"\n",
    "        import random\n",
    "        nums =self.__start[:]\n",
    "        random.shuffle(nums)\n",
    "        return nums"
   ]
  },
  {
   "cell_type": "markdown",
   "metadata": {},
   "source": [
    "### 方法二 洗牌算法 + 蒙特卡洛"
   ]
  },
  {
   "cell_type": "code",
   "execution_count": null,
   "metadata": {},
   "outputs": [],
   "source": [
    "from random import randint\n",
    "class Solution:\n",
    "\n",
    "    def __init__(self, nums: List[int]):\n",
    "        self.nums = nums\n",
    "        \n",
    "\n",
    "    def reset(self) -> List[int]:\n",
    "        \"\"\"\n",
    "        Resets the array to its original configuration and return it.\n",
    "        \"\"\"\n",
    "        return self.nums\n",
    "        \n",
    "\n",
    "    def shuffle(self) -> List[int]:\n",
    "        \"\"\"\n",
    "        Returns a random shuffling of the array.\n",
    "        \"\"\"\n",
    "        nums = [x for x in self.nums]\n",
    "        for i in range(len(nums)-1):\n",
    "            rand = randint(i, len(nums)-1)\n",
    "            nums[i], nums[rand] = nums[rand], nums[i]\n",
    "        return nums\n",
    "\n",
    "\n",
    "        \n",
    "        \n",
    "\n",
    "\n",
    "# Your Solution object will be instantiated and called as such:\n",
    "# obj = Solution(nums)\n",
    "# param_1 = obj.reset()\n",
    "# param_2 = obj.shuffle()\n"
   ]
  },
  {
   "cell_type": "code",
   "execution_count": 34,
   "metadata": {},
   "outputs": [],
   "source": [
    "s=Solution([1,2,3])"
   ]
  },
  {
   "cell_type": "code",
   "execution_count": 35,
   "metadata": {},
   "outputs": [
    {
     "data": {
      "text/plain": [
       "[1, 2, 3]"
      ]
     },
     "execution_count": 35,
     "metadata": {},
     "output_type": "execute_result"
    }
   ],
   "source": [
    "s.reset()"
   ]
  },
  {
   "cell_type": "code",
   "execution_count": 41,
   "metadata": {},
   "outputs": [
    {
     "data": {
      "text/plain": [
       "[3, 2, 1]"
      ]
     },
     "execution_count": 41,
     "metadata": {},
     "output_type": "execute_result"
    }
   ],
   "source": [
    "s.shuffle()"
   ]
  },
  {
   "cell_type": "markdown",
   "metadata": {},
   "source": [
    "### 350.两个数组的交集\n",
    "\n",
    "给定两个数组，编写一个函数来计算它们的交集\n",
    "\n",
    "示例1：\n",
    "```\n",
    "输入：nums1 = [1,2,2,1], nums2 = [2,2]\n",
    "输出：[2,2]\n",
    "```\n",
    "示例2：\n",
    "```\n",
    "输入：nums1 = [4,9,5], nums2 = [9,4,9,8,4]\n",
    "输出：[4,9]\n",
    "```\n",
    "\n",
    "说明：\n",
    "\n",
    "-  输出结果中每个元素出现的次数，应与元素在两个数组中出现次数的最小值一致。\n",
    "-  我们可以不考虑输出结果的顺序。\n",
    "\n",
    "进阶：\n",
    "- 如果给定的数组已经排好序呢？你将如何优化你的算法？\n",
    "- 如果 nums1 的大小比 nums2 小很多，哪种方法更优？\n",
    "- 如果 nums2 的元素存储在磁盘上，磁盘内存是有限的，并且你不能一次加载所有的元素到内存中，你该怎么办？"
   ]
  },
  {
   "cell_type": "markdown",
   "metadata": {},
   "source": [
    "### 灵活运用字典"
   ]
  },
  {
   "cell_type": "code",
   "execution_count": null,
   "metadata": {},
   "outputs": [],
   "source": [
    "class Solution:\n",
    "    def intersect(self, nums1: List[int], nums2: List[int]) -> List[int]:\n",
    "        from collections import defaultdict\n",
    "        dic1 = defaultdict(int)\n",
    "        dic2 = defaultdict(int)\n",
    "        for s in nums1:\n",
    "            dic1[s]+=1\n",
    "        for s in nums2:\n",
    "            dic2[s]+=1\n",
    "        len1=len(set(nums1))\n",
    "        len2 = len(set(nums2))\n",
    "        nums=None\n",
    "        lst=[]\n",
    "        if len1<len2:\n",
    "            nums=nums1\n",
    "        else:\n",
    "            nums=nums2\n",
    "        for s in set(nums):\n",
    "            if dic1[s]!=0 and dic2[s]!=0:\n",
    "                len_tmp=0\n",
    "                if dic1[s]<dic2[s]:\n",
    "                    len_tmp=dic1[s]\n",
    "                else:\n",
    "                    len_tmp=dic2[s]\n",
    "                lst+=[s]*len_tmp\n",
    "        return lst"
   ]
  },
  {
   "cell_type": "markdown",
   "metadata": {},
   "source": [
    "## 334.递增的三元子序列\n",
    "---\n",
    "给定一个未排序的数组，判断这个数组中是否存在长度为 3 的递增子序列。\n",
    "\n",
    "数学表达式如下:\n",
    "```\n",
    "如果存在这样的 i, j, k,  且满足 0 ≤ i < j < k ≤ n-1，\n",
    "使得 arr[i] < arr[j] < arr[k] ，返回 true ; 否则返回 false 。\n",
    "```\n",
    "示例 1:\n",
    "```\n",
    "输入: [1,2,3,4,5]\n",
    "输出: true\n",
    "```\n",
    "示例 2：\n",
    "```\n",
    "输入: [5,4,3,2,1]\n",
    "输出: false\n",
    "```\n"
   ]
  },
  {
   "cell_type": "markdown",
   "metadata": {},
   "source": [
    "### 暴力搜索\n"
   ]
  },
  {
   "cell_type": "code",
   "execution_count": null,
   "metadata": {},
   "outputs": [],
   "source": [
    "class Solution:\n",
    "    def increasingTriplet(self, nums: List[int]) -> bool:\n",
    "        TheMin=float('inf')\n",
    "        for i in range(len(nums)-2):\n",
    "            if nums[i]>TheMin:\n",
    "                continue\n",
    "            for j in range(i+1,len(nums)-1):\n",
    "                if nums[j]>nums[i]:\n",
    "                    for k in range(j+1,len(nums)):\n",
    "                        if nums[k]>nums[j]:\n",
    "                            return True  \n",
    "        return False"
   ]
  },
  {
   "cell_type": "markdown",
   "metadata": {},
   "source": [
    "### 设置变量指示"
   ]
  },
  {
   "cell_type": "code",
   "execution_count": null,
   "metadata": {},
   "outputs": [],
   "source": [
    "class Solution:\n",
    "    def increasingTriplet(self, nums: List[int]) -> bool:\n",
    "        r1, r2 = sys.maxsize, sys.maxsize\n",
    "        for n in nums :\n",
    "            if n <= r1 : r1 = n\n",
    "            elif n <= r2 : r2 = n\n",
    "            else : return True\n",
    "        return False\n"
   ]
  },
  {
   "cell_type": "markdown",
   "metadata": {},
   "source": [
    "## 240.搜索二维矩阵II\n",
    "\n",
    "编写一个高效的算法来搜索 m x n 矩阵 matrix 中的一个目标值 target。该矩阵具有以下特性：\n",
    "- 每行的元素从左到右升序排列。\n",
    "- 每列的元素从上到下升序排列。\n",
    "示例:\n",
    "现有矩阵matrix如下：\n",
    "```\n",
    "[\n",
    "  [1,   4,  7, 11, 15],\n",
    "  [2,   5,  8, 12, 19], \n",
    "  [3,   6,  9, 16, 22],\n",
    "  [10, 13, 14, 17, 24],\n",
    "  [18, 21, 23, 26, 30]\n",
    "]\n",
    "```\n",
    "\n",
    "给定 target= 5， 返回true。\n",
    "\n",
    "给定target = 20， 返回false.\n"
   ]
  },
  {
   "cell_type": "markdown",
   "metadata": {},
   "source": [
    "### 思路一： DFS（BFS）+ 剪枝"
   ]
  },
  {
   "cell_type": "code",
   "execution_count": 49,
   "metadata": {},
   "outputs": [],
   "source": [
    "class Solution:\n",
    "    def searchMatrix(self, matrix, target):\n",
    "        \"\"\"\n",
    "        :type matrix: List[List[int]]\n",
    "        :type target: int\n",
    "        :rtype: bool\n",
    "        \"\"\"\n",
    "        sequence = []\n",
    "        H = len(matrix)\n",
    "        if H==0:\n",
    "            return False\n",
    "        W = len(matrix[0])\n",
    "        vist = [[False]*W for s in range(H)]\n",
    "        self.find=False\n",
    "        def DFS(pos):\n",
    "            if self.find==True:\n",
    "                return\n",
    "            if len(sequence)==0:\n",
    "                return\n",
    "            s=sequence.pop(0)#从栈顶pop出当前要访问的节点\n",
    "            vist[pos[0]][pos[1]]=True\n",
    "            #print(matrix[pos[0]][pos[1]])\n",
    "            if matrix[pos[0]][pos[1]]==target:\n",
    "                #print(self.find)\n",
    "                self.find =True\n",
    "            elif matrix[pos[0]][pos[1]]> target:\n",
    "                for x,y in ([0,-1],[-1,0],[-1,-1]):\n",
    "                    if pos[0]+x>=0 and pos[1]+y>=0 and vist[pos[0]+x][pos[1]+y]==False :\n",
    "                        sequence.insert(0,(pos[0]+x,pos[1]+y))\n",
    "                        DFS((pos[0]+x,pos[1]+y))\n",
    "                        #vist[pos[0]+x][pos[1]+y]=False\n",
    "            else:\n",
    "                for x,y in ([0,1],[1,0],[1,1]):\n",
    "                    if pos[0]+x<H and pos[1]+y<W and vist[pos[0]+x][pos[1]+y]==False:\n",
    "                        sequence.insert(0,(pos[0]+x,pos[1]+y))\n",
    "                        DFS((pos[0]+x,pos[1]+y))\n",
    "                        #vist[pos[0]+x][pos[1]+y]=False\n",
    "\n",
    "        if H==0 or W==0:\n",
    "            return False\n",
    "        sequence.append((0,0))\n",
    "        DFS((0,0))\n",
    "        return self.find"
   ]
  },
  {
   "cell_type": "markdown",
   "metadata": {},
   "source": [
    "### 思路二：\n",
    "从左下角遍历，如果小于target,往上移动一行寻找，否则往右移动一列寻找寻找"
   ]
  },
  {
   "cell_type": "code",
   "execution_count": 51,
   "metadata": {},
   "outputs": [],
   "source": [
    "class Solution:\n",
    "    def searchMatrix(self, matrix, target):\n",
    "        \"\"\"\n",
    "        :type matrix: List[List[int]]\n",
    "        :type target: int\n",
    "        :rtype: bool\n",
    "        \"\"\"\n",
    "        if len(matrix)==0:\n",
    "            return False\n",
    "        H = len(matrix) \n",
    "        W = len(matrix[0])\n",
    "        pos0=H-1\n",
    "        pos1= 0\n",
    "        while pos0>=0 and pos1<W:\n",
    "            if matrix[pos0][pos1] == target:\n",
    "                return True\n",
    "            elif matrix[pos0][pos1]<target:\n",
    "                pos1+=1\n",
    "            else:\n",
    "                pos0-=1\n",
    "        return False     "
   ]
  },
  {
   "cell_type": "markdown",
   "metadata": {},
   "source": [
    "## 238.除自身以外数组的乘积\n",
    "\n",
    "给你一个长度为 n 的整数数组 nums，其中 n > 1，返回输出数组 output ，其中 output[i] 等于 nums 中除 nums[i] 之外其余各元素的乘积。\n",
    "\n",
    "示例：\n",
    "```\n",
    "输入: [1,2,3,4]\n",
    "输出: [24,12,8,6]\n",
    "```\n",
    "\n",
    "提示：题目数据保证数组之中任意元素的全部前缀元素和后缀（甚至是整个数组）的乘积都在 32 位整数范围内。\n",
    "\n",
    "说明: 请不要使用除法，且在 O(n) 时间复杂度内完成此题。\n",
    "\n",
    "进阶：\n",
    "你可以在常数空间复杂度内完成这个题目吗？（ 出于对空间复杂度分析的目的，输出数组不被视为额外空间。）\n",
    "\n"
   ]
  },
  {
   "cell_type": "markdown",
   "metadata": {},
   "source": [
    "#### 双向循环"
   ]
  },
  {
   "cell_type": "code",
   "execution_count": null,
   "metadata": {},
   "outputs": [],
   "source": [
    "class Solution:\n",
    "    def productExceptSelf(self, nums: List[int]) -> List[int]:\n",
    "        left =[1]*len(nums)\n",
    "        k=1\n",
    "        for i in range(len(nums)):\n",
    "            left[i] = k\n",
    "            k*=nums[i]\n",
    "        k=1\n",
    "        for i in range(len(nums)-1,-1,-1):\n",
    "            left[i]*=k\n",
    "            k*=nums[i] \n",
    "        return left\n"
   ]
  },
  {
   "cell_type": "code",
   "execution_count": null,
   "metadata": {},
   "outputs": [],
   "source": []
  }
 ],
 "metadata": {
  "kernelspec": {
   "display_name": "Python 3",
   "language": "python",
   "name": "python3"
  },
  "language_info": {
   "codemirror_mode": {
    "name": "ipython",
    "version": 3
   },
   "file_extension": ".py",
   "mimetype": "text/x-python",
   "name": "python",
   "nbconvert_exporter": "python",
   "pygments_lexer": "ipython3",
   "version": "3.8.3"
  }
 },
 "nbformat": 4,
 "nbformat_minor": 4
}
