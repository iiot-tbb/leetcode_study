{
 "cells": [
  {
   "cell_type": "markdown",
   "metadata": {},
   "source": [
    "## 最大数\n",
    "---\n",
    "**示例1：**\n",
    "```\n",
    "输入: [10,2]\n",
    "输出: 210\n",
    "```\n",
    "**示例2：**\n",
    "```\n",
    "输入: [3,30,34,5,9]\n",
    "输出: 9534330\n",
    "```\n",
    "**说明：** 输出结果可能非常大，所以你需要返回一个字符串而不是整数。"
   ]
  },
  {
   "cell_type": "markdown",
   "metadata": {},
   "source": [
    "#### 自定义排序  \n",
    "#### 想法  \n",
    "为了构建最大数字，我们希望越高位的数字越大越好。  \n",
    "#### 算法\n",
    "首先，我们将每个整数变成字符串。然后进行排序。\n",
    "\n",
    "如果仅按降序排序，有相同的开头数字的时候会出现问题。比方说，样例 2 按降序排序得到的数字是 9534330395343303 ，然而交换 33 和 3030 的位置可以得到正确答案 95343309534330 。因此，每一对数在排序的比较过程中，我们比较两种连接顺序哪一种更好。我们可以证明这样的做法是正确的：\n",
    "\n",
    "假设（不是一般性），某一对整数 a 和 b ，我们的比较结果是 a 应该在 b 前面，这意味着 a⌢b>b⌢a ，其中 ⌢ 表示连接。如果排序结果是错的，说明存在一个 c，b 在 c 前面且 c 在 a 的前面。这产生了矛盾，因为a⌢b>b⌢a 和 b⌢c>c⌢b 意味着 a⌢c>c⌢a 。换言之，我们的自定义比较方法保证了传递性，所以这样子排序是对的。\n",
    "\n"
   ]
  },
  {
   "cell_type": "code",
   "execution_count": 6,
   "metadata": {},
   "outputs": [],
   "source": [
    "class LargerNumKey(str):\n",
    "    def __lt__(x, y):\n",
    "        return x+y > y+x\n",
    "        \n",
    "class Solution:\n",
    "    def largestNumber(self, nums):\n",
    "        largest_num = ''.join(sorted(map(str, nums), key=LargerNumKey))\n",
    "        return '0' if largest_num[0] == '0' else largest_num\n"
   ]
  },
  {
   "cell_type": "code",
   "execution_count": null,
   "metadata": {},
   "outputs": [],
   "source": [
    "###不太对\n",
    "class Solution:\n",
    "    def largestNumber(self, nums: List[int]) -> str:\n",
    "        import functools\n",
    "        def func(x,y):\n",
    "            str_x ,str_y= str(x),str(y)\n",
    "            len_x,len_y =len(str_x),len(str_y)\n",
    "            for i in range(min(len_x,len_y)):\n",
    "                if str_x[i]>str_y[i]:\n",
    "                    return -1\n",
    "                elif str_x[i]<str_y[i]:\n",
    "                    return 1\n",
    "            if len_x<len_y:\n",
    "                if str_y[i+1]>str_x[i]:\n",
    "                    return 1\n",
    "                else:return -1\n",
    "            elif len_x>len_y:\n",
    "                if str_y[i]<str_x[i+1]:\n",
    "                    return -1\n",
    "                else:return 1\n",
    "            else: return 0\n",
    "        if len(set(nums))==1 and nums[0]==0:\n",
    "            return '0'\n",
    "        nums=sorted((nums),key=functools.cmp_to_key(func))\n",
    "        return ''.join(map(str,nums))"
   ]
  },
  {
   "cell_type": "markdown",
   "metadata": {},
   "source": [
    "## 324.摆动排序II\n",
    "---\n",
    "给定一个无序的数组`nums`,将它重新排列成 `nums[0] <nums[1] >nums[2] <nums[3]...`的顺序。\n",
    "**示例1:**\n",
    "```\n",
    "输入: nums = [1, 5, 1, 1, 6, 4]\n",
    "输出: 一个可能的答案是 [1, 4, 1, 5, 1, 6]\n",
    "```\n",
    "**示例2:**\n",
    "```\n",
    "输入: nums = [1, 3, 2, 2, 3, 1]\n",
    "输出: 一个可能的答案是 [2, 3, 1, 3, 1, 2]\n",
    "```\n",
    "**说明：**\n",
    "你可以假设所有输入都会得到有效的结果。\n",
    "**进阶:**\n",
    "你能用 O(n) 时间复杂度和 / 或原地 O(1) 额外空间来实现吗？"
   ]
  },
  {
   "cell_type": "markdown",
   "metadata": {},
   "source": [
    "##### 思路：先把排序后的数组从中间分成2个数组，再把这2个数组分别逆序，最后交叉2个数组成一个数组即可。"
   ]
  },
  {
   "cell_type": "code",
   "execution_count": null,
   "metadata": {},
   "outputs": [],
   "source": [
    "class Solution:\n",
    "    def wiggleSort(self, nums: List[int]) -> None:\n",
    "        \"\"\"\n",
    "        Do not return anything, modify nums in-place instead.\n",
    "        \"\"\"\n",
    "        import random\n",
    "        flag = True\n",
    "        nums.sort()\n",
    "\n",
    "        lens = len(nums)\n",
    "        flag = False\n",
    "        if lens%2==0:len_half = lens//2\n",
    "        else:\n",
    "            len_half = lens//2+1\n",
    "            flag = True\n",
    "        nums0,nums1 = nums[:len_half], nums[len_half:]\n",
    "        nums0=nums0[::-1]\n",
    "        nums1 = nums1[::-1]\n",
    "        j=0\n",
    "        if flag==True:len_half-=1\n",
    "        for i in range(len_half):\n",
    "            nums[j]=nums0[i]\n",
    "            j+=1\n",
    "            nums[j]=nums1[i]\n",
    "            j+=1\n",
    "        if flag:\n",
    "            nums[j]=nums0[-1]\n",
    "        "
   ]
  }
 ],
 "metadata": {
  "kernelspec": {
   "display_name": "Python 3",
   "language": "python",
   "name": "python3"
  },
  "language_info": {
   "codemirror_mode": {
    "name": "ipython",
    "version": 3
   },
   "file_extension": ".py",
   "mimetype": "text/x-python",
   "name": "python",
   "nbconvert_exporter": "python",
   "pygments_lexer": "ipython3",
   "version": "3.8.3"
  }
 },
 "nbformat": 4,
 "nbformat_minor": 4
}
