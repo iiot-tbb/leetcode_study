{
 "cells": [
  {
   "cell_type": "markdown",
   "metadata": {},
   "source": [
    "## 136.只出现一次的数字\n",
    "---\n",
    "给定一个非空整数数组，除了某个元素只出现一次以外，其余每个元素均出现两次，找出了哪个只出现一次的元素。  \n",
    "**说明**  \n",
    "你的算法应该具备线性时间复杂度。你可以不使用额外空间来实现吗？  \n",
    "**示例1:**  \n",
    "```\n",
    "输入: [2,2,1]\n",
    "输出: 1\n",
    "```\n",
    "**示例2:**\n",
    "```\n",
    "输入: [4,1,2,1,2]\n",
    "输出: 4\n",
    "```"
   ]
  },
  {
   "cell_type": "markdown",
   "metadata": {},
   "source": [
    "### 思路一，排序后进行遍历"
   ]
  },
  {
   "cell_type": "code",
   "execution_count": 2,
   "metadata": {},
   "outputs": [],
   "source": [
    "from typing import List\n",
    "class Solution:\n",
    "    def singleNumber(self, nums: List[int]) -> int:\n",
    "        nums = sorted(nums)\n",
    "        print(nums)\n",
    "        print(list(range(0,len(nums),2)))\n",
    "        for i in range(0,len(nums)-1,2):\n",
    "            if nums[i]!=nums[i+1]:\n",
    "                return nums[i]\n",
    "        return nums[-1]"
   ]
  },
  {
   "cell_type": "markdown",
   "metadata": {},
   "source": [
    "### 思路二：构造辅助空间(略)"
   ]
  },
  {
   "cell_type": "markdown",
   "metadata": {},
   "source": [
    "### 思路三：使用位运算"
   ]
  },
  {
   "cell_type": "markdown",
   "metadata": {},
   "source": [
    "假设数组中有2m+1 个数，其中m个数各出现两次，一个数出现一次。令 $a_1,a_2、... a_m$为出现两次的m个数,$a_{m+1}$ 为出现一次的数。根据性质3,数组中的全部元素的异或运算结果总是可以写成如下形式:\n",
    "$$(a_1\\oplus{a_1})\\oplus(a_2\\oplus{a_2})\\oplus...\\oplus(a_m\\oplus{a_m})\\oplus{a_{m+1}}$$\n",
    "根据性质2和性质1，上式可简化和计算得到如下结果:  \n",
    "$$0\\oplus{0}\\oplus{0}...\\oplus{0}\\oplus{a_{m+1}} = a_{m+1}$$  \n",
    "因此，数组中的全部元素的异或运算结果即为数组中出现一次的数字"
   ]
  },
  {
   "cell_type": "code",
   "execution_count": 3,
   "metadata": {},
   "outputs": [],
   "source": [
    "class Solution:\n",
    "    def singleNumber(self, nums: List[int]) -> int:\n",
    "        return reduce(lambda x,y:x^y,nums)"
   ]
  },
  {
   "cell_type": "markdown",
   "metadata": {},
   "source": [
    "## 149. 直线上最多的点数\n",
    "---\n",
    "给定一个二维平面，平面上有`n`个点，求最多有多少个点在同一直线上。  \n",
    "**示例1:**\n",
    "```\n",
    "输入: [[1,1],[2,2],[3,3]]\n",
    "输出: 3\n",
    "解释:\n",
    "^\n",
    "|\n",
    "|        o\n",
    "|     o\n",
    "|  o  \n",
    "+------------->\n",
    "0  1  2  3  4\n",
    "\n",
    "```\n",
    "**示例2:**\n",
    "```\n",
    "输入: [[1,1],[3,2],[5,3],[4,1],[2,3],[1,4]]\n",
    "输出: 4\n",
    "解释:\n",
    "^\n",
    "|\n",
    "|  o\n",
    "|     o        o\n",
    "|        o\n",
    "|  o        o\n",
    "+------------------->\n",
    "0  1  2  3  4  5  6\n",
    "\n",
    "```"
   ]
  },
  {
   "cell_type": "markdown",
   "metadata": {},
   "source": [
    "### [方法:枚举](https://leetcode-cn.com/problems/max-points-on-a-line/solution/zhi-xian-shang-zui-duo-de-dian-shu-by-leetcode/)\n"
   ]
  },
  {
   "cell_type": "code",
   "execution_count": 4,
   "metadata": {},
   "outputs": [],
   "source": [
    "def gcd(a,b):\n",
    "    while b:\n",
    "        a,b=b,a%b\n",
    "    return a"
   ]
  },
  {
   "cell_type": "code",
   "execution_count": 18,
   "metadata": {},
   "outputs": [
    {
     "data": {
      "text/plain": [
       "-27"
      ]
     },
     "execution_count": 18,
     "metadata": {},
     "output_type": "execute_result"
    }
   ],
   "source": [
    "gcd(-27,0)"
   ]
  },
  {
   "cell_type": "code",
   "execution_count": 19,
   "metadata": {},
   "outputs": [],
   "source": [
    "from typing import List\n",
    "class Solution:\n",
    "    def maxPoints(self, points: List[List[int]]) -> int:\n",
    "        def gcd(a,b):\n",
    "            x1,y1=a,b\n",
    "            while b:\n",
    "                a,b=b,a%b\n",
    "            return x1/a,y1/a\n",
    "        def fuhao(x,y):\n",
    "            if x*y>0:\n",
    "                if x<0:\n",
    "                    return -x,-y\n",
    "                return x,y\n",
    "            else:\n",
    "                if x<0:\n",
    "                    return x,y\n",
    "                else:return -x,y\n",
    "        def cal(p1,p2):\n",
    "            k1,k2 = fuhao(*gcd(p1[1]-p2[1],p1[0]-p2[0]))\n",
    "            b1,b2 = fuhao(*gcd(p2[0]*p1[1]-p1[0]*p2[1],p2[0]-p1[0]))\n",
    "            \n",
    "            return (int(k1),int(k2),int(b1),int(b2))\n",
    "        if len(points)<2: return len(points)\n",
    "        points=sorted(points)\n",
    "        print(points)\n",
    "        dic = {}\n",
    "        dic2 = {}# 记录水平或竖直的线\n",
    "        from collections import defaultdict\n",
    "        dic3=defaultdict(int)\n",
    "        for s in points:\n",
    "            dic3[(s[0],s[1])]+=1\n",
    "        maval = 1\n",
    "        lens = len(points)\n",
    "        for i,s in enumerate(points):\n",
    "            for j in range(i+1,lens):\n",
    "                if s[0]-points[j][0]==0 or s[1]-points[j][1]==0:\n",
    "                    if s[0]-points[j][0]==0:\n",
    "                        if (s[0],0) in dic2:\n",
    "                            continue\n",
    "                        dic2[(s[0],0)]=2\n",
    "                        for i in range(j+1,lens):\n",
    "                            if points[i][0]==s[0]:\n",
    "                                dic2[(s[0],0)]+=1\n",
    "                        if dic2[(s[0],0)]>maval:maval=dic2[(s[0],0)]\n",
    "                    elif s[1]-points[j][1]==0:\n",
    "                        if (0,s[1]) in dic2:\n",
    "                            continue\n",
    "                        dic2[(0,s[1])]=2\n",
    "                        for i in range(j+1,lens):\n",
    "                            if points[i][1]==s[1]:\n",
    "                                dic2[(0,s[1])]+=1\n",
    "                        if dic2[(0,s[1])]>maval:maval=dic2[(0,s[1])]\n",
    "                    continue\n",
    "                k1,k2,b1,b2 = cal(s,points[j])\n",
    "                #print(k1,k2,b1,b2)\n",
    "                if (k1,k2,b1,b2) in dic:\n",
    "                    continue\n",
    "                #print('yes')\n",
    "                dic[(k1,k2,b1,b2)] = dic3[(s[0],s[1])]+1\n",
    "                a=j+1\n",
    "                while a<lens:\n",
    "                    #print(\"****\")\n",
    "                    #print(k2*points[a][1])\n",
    "                    #print(k1*b2*points[a][0]+b1*k2)\n",
    "                    #print(\"****\")\n",
    "                    if k2*b2*points[a][1] == k1*b2*points[a][0]+b1*k2:\n",
    "                        dic[(k1,k2,b1,b2)]+=1\n",
    "                        print(dic[(k1,k2,b1,b2)])\n",
    "                    a+=1\n",
    "                if dic[(k1,k2,b1,b2)]>maval:maval=dic[(k1,k2,b1,b2)]\n",
    "        return maval\n"
   ]
  },
  {
   "cell_type": "markdown",
   "metadata": {},
   "source": [
    "## 166.分数到小数\n",
    "---\n",
    "给定两个整数，分别表示分数的分子numerator和分母denominaator，以字符串形式返回小数。如果小数部分为循环小数，则将循环的部分括在括号内。\n",
    "\n",
    "**示例1：**\n",
    "```\n",
    "输入: numerator = 1, denominator = 2\n",
    "输出: \"0.5\"\n",
    "```\n",
    "**示例2:**\n",
    "```\n",
    "输入: numerator = 2, denominator = 1\n",
    "输出: \"2\"\n",
    "```\n",
    "**示例3:**\n",
    "```\n",
    "输入: numerator = 2, denominator = 3\n",
    "输出: \"0.(6)\"\n",
    "```"
   ]
  },
  {
   "cell_type": "markdown",
   "metadata": {},
   "source": [
    "### 思路\n",
    "分析清楚各种情况条件下的处理。"
   ]
  },
  {
   "cell_type": "code",
   "execution_count": 23,
   "metadata": {},
   "outputs": [],
   "source": [
    "class Solution:\n",
    "    def fractionToDecimal(self, numerator: int, denominator: int) -> str:\n",
    "        if numerator>=0: ##正负号会影响最后结果，应当单独处理\n",
    "            fu1=1\n",
    "        else:\n",
    "            fu1=-1\n",
    "            numerator=-numerator\n",
    "        if denominator>=0:\n",
    "            fu2=1\n",
    "        else:\n",
    "            fu2=-1\n",
    "            denominator=-denominator\n",
    "        if numerator==0: return  '0' #分子是0需要单独处理\n",
    "        from collections import defaultdict\n",
    "        dic = defaultdict(bool)\n",
    "        dic2 = {}\n",
    "        str_result = ''\n",
    "        if fu1*fu2<0:\n",
    "            str_result+='-'\n",
    "        stack=[]\n",
    "        int_str = numerator//denominator\n",
    "        str_result+=str(int_str)\n",
    "        dboule_num = numerator%denominator\n",
    "        if dboule_num:\n",
    "            str_result+='.'\n",
    "        #dic[(int_str,dboule_num)]=True\n",
    "        denote=False\n",
    "        repeat ='' ##标记是否出现repeat项\n",
    "        while dboule_num:\n",
    "            dboule_num =dboule_num*10\n",
    "            tp = dboule_num//denominator\n",
    "            #tmp = dboule_num\n",
    "            dboule_num=dboule_num % denominator\n",
    "            #print('yes ',(tp,dboule_num))\n",
    "            if dic[(tp,dboule_num)]==True:\n",
    "                #print('yes ',(tp,dboule_num))\n",
    "                denote=True\n",
    "                dic2[(tp,dboule_num)]=True\n",
    "                repeat+=str(tp)\n",
    "                while True:\n",
    "                #while (tp,dboule_num) not in dic2:\n",
    "                    #print(tp)\n",
    "                    dboule_num =dboule_num*10\n",
    "                    tp = dboule_num//denominator\n",
    "                    #print(tp)\n",
    "                    dboule_num=dboule_num%denominator\n",
    "                    if (tp,dboule_num) in dic2:break\n",
    "\n",
    "                    dic2[(tp,dboule_num)]=True\n",
    "                    repeat+=str(tp)\n",
    "\n",
    "                break\n",
    "            stack.append(str(tp))\n",
    "            dic[(tp,dboule_num)]=True\n",
    "        nums = ''.join(stack)\n",
    "        if denote:\n",
    "            #print(\"...\")\n",
    "            if repeat:\n",
    "                #print('repeat',repeat)\n",
    "                po=nums.find(repeat)\n",
    "                nore,re = nums[:po],nums[po:]\n",
    "                nums = nore+'('+re+')' # 单独处理repeat项\n",
    "            #nums='({})'.format(nums)\n",
    "           \n",
    "        print(str_result+nums)\n",
    "        return str_result+nums"
   ]
  },
  {
   "cell_type": "markdown",
   "metadata": {},
   "source": [
    "### 172.阶乘后的零\n",
    "---\n",
    "给定一个整数`n`,返回`n!`结果尾数中零的数量。\n",
    "\n",
    "**示例1:**\n",
    "```\n",
    "输入: 3\n",
    "输出: 0\n",
    "解释: 3! = 6, 尾数中没有零。\n",
    "```\n",
    "**示例2:**\n",
    "```\n",
    "输入: 5\n",
    "输出: 1\n",
    "解释: 5! = 120, 尾数中有 1 个零.\n",
    "```\n",
    "**说明：** ：你算法的时间复杂度为`O(log n)`"
   ]
  },
  {
   "cell_type": "markdown",
   "metadata": {},
   "source": [
    "### 常规暴力法超出时间限制"
   ]
  },
  {
   "cell_type": "code",
   "execution_count": 29,
   "metadata": {},
   "outputs": [],
   "source": [
    "class Solution:\n",
    "    def trailingZeroes(self, n: int) -> int:\n",
    "        cont=0\n",
    "        num=1\n",
    "        for i in range(1,n+1):\n",
    "            num*= i\n",
    "            #print(num)\n",
    "            '''while num%10==0:\n",
    "                num/=10\n",
    "                cont+=1'''\n",
    "        while num %10==0:\n",
    "            num/=10#在pyhton3中，\"/\"表示的就是float除，不需要再引入模块，就算分子分母都是int，返回的也将是浮点数\n",
    "            cont+=1\n",
    "        print(num)\n",
    "        return cont"
   ]
  },
  {
   "cell_type": "code",
   "execution_count": 28,
   "metadata": {},
   "outputs": [
    {
     "data": {
      "text/plain": [
       "10"
      ]
     },
     "execution_count": 28,
     "metadata": {},
     "output_type": "execute_result"
    }
   ],
   "source": [
    "100//10"
   ]
  },
  {
   "cell_type": "markdown",
   "metadata": {},
   "source": [
    "### [数学观察法](https://leetcode-cn.com/problems/factorial-trailing-zeroes/solution/xiang-xi-tong-su-de-si-lu-fen-xi-by-windliang-3/)"
   ]
  },
  {
   "cell_type": "code",
   "execution_count": 30,
   "metadata": {},
   "outputs": [],
   "source": [
    "class Solution:\n",
    "    def trailingZeroes(self, n: int) -> int:\n",
    "        cnt=0\n",
    "        while n>0:\n",
    "            cnt+= n//5\n",
    "            n/=5\n",
    "        return int(cnt)"
   ]
  },
  {
   "cell_type": "markdown",
   "metadata": {},
   "source": [
    "## 190.[颠倒二进制位](https://leetcode-cn.com/problems/reverse-bits/solution/dian-dao-er-jin-zhi-wei-by-leetcode/)\n",
    "---\n",
    "**示例1:**\n",
    "```\n",
    "输入: 00000010100101000001111010011100\n",
    "输出: 00111001011110000010100101000000\n",
    "解释: 输入的二进制串 00000010100101000001111010011100 表示无符号整数 43261596，\n",
    "     因此返回 964176192，其二进制表示形式为 00111001011110000010100101000000。\n",
    "```\n",
    "**示例2:**\n",
    "```\n",
    "输入：11111111111111111111111111111101\n",
    "输出：10111111111111111111111111111111\n",
    "解释：输入的二进制串 11111111111111111111111111111101 表示无符号整数 4294967293，\n",
    "     因此返回 3221225471 其二进制表示形式为 10111111111111111111111111111111 。\n",
    "```\n"
   ]
  },
  {
   "cell_type": "markdown",
   "metadata": {},
   "source": [
    "### 方法一：逐位颠倒"
   ]
  },
  {
   "cell_type": "code",
   "execution_count": 53,
   "metadata": {},
   "outputs": [],
   "source": [
    "class Solution:\n",
    "    # @param n, an integer\n",
    "    # @return an integer\n",
    "    def reverseBits(self, n):\n",
    "        ret, power = 0, 31\n",
    "        while n:\n",
    "            print(\"bin(n)_before: \",n,\"   \",bin(n))\n",
    "            ret += (n & 1) << power\n",
    "            n = n >> 1\n",
    "            print(\"bin(n)_after: \",n,\"   \",bin(n))\n",
    "            power -= 1\n",
    "        return ret"
   ]
  },
  {
   "cell_type": "code",
   "execution_count": 54,
   "metadata": {},
   "outputs": [
    {
     "name": "stdout",
     "output_type": "stream",
     "text": [
      "bin(n)_before:  43261596     0b10100101000001111010011100\n",
      "bin(n)_after:  21630798     0b1010010100000111101001110\n",
      "bin(n)_before:  21630798     0b1010010100000111101001110\n",
      "bin(n)_after:  10815399     0b101001010000011110100111\n",
      "bin(n)_before:  10815399     0b101001010000011110100111\n",
      "bin(n)_after:  5407699     0b10100101000001111010011\n",
      "bin(n)_before:  5407699     0b10100101000001111010011\n",
      "bin(n)_after:  2703849     0b1010010100000111101001\n",
      "bin(n)_before:  2703849     0b1010010100000111101001\n",
      "bin(n)_after:  1351924     0b101001010000011110100\n",
      "bin(n)_before:  1351924     0b101001010000011110100\n",
      "bin(n)_after:  675962     0b10100101000001111010\n",
      "bin(n)_before:  675962     0b10100101000001111010\n",
      "bin(n)_after:  337981     0b1010010100000111101\n",
      "bin(n)_before:  337981     0b1010010100000111101\n",
      "bin(n)_after:  168990     0b101001010000011110\n",
      "bin(n)_before:  168990     0b101001010000011110\n",
      "bin(n)_after:  84495     0b10100101000001111\n",
      "bin(n)_before:  84495     0b10100101000001111\n",
      "bin(n)_after:  42247     0b1010010100000111\n",
      "bin(n)_before:  42247     0b1010010100000111\n",
      "bin(n)_after:  21123     0b101001010000011\n",
      "bin(n)_before:  21123     0b101001010000011\n",
      "bin(n)_after:  10561     0b10100101000001\n",
      "bin(n)_before:  10561     0b10100101000001\n",
      "bin(n)_after:  5280     0b1010010100000\n",
      "bin(n)_before:  5280     0b1010010100000\n",
      "bin(n)_after:  2640     0b101001010000\n",
      "bin(n)_before:  2640     0b101001010000\n",
      "bin(n)_after:  1320     0b10100101000\n",
      "bin(n)_before:  1320     0b10100101000\n",
      "bin(n)_after:  660     0b1010010100\n",
      "bin(n)_before:  660     0b1010010100\n",
      "bin(n)_after:  330     0b101001010\n",
      "bin(n)_before:  330     0b101001010\n",
      "bin(n)_after:  165     0b10100101\n",
      "bin(n)_before:  165     0b10100101\n",
      "bin(n)_after:  82     0b1010010\n",
      "bin(n)_before:  82     0b1010010\n",
      "bin(n)_after:  41     0b101001\n",
      "bin(n)_before:  41     0b101001\n",
      "bin(n)_after:  20     0b10100\n",
      "bin(n)_before:  20     0b10100\n",
      "bin(n)_after:  10     0b1010\n",
      "bin(n)_before:  10     0b1010\n",
      "bin(n)_after:  5     0b101\n",
      "bin(n)_before:  5     0b101\n",
      "bin(n)_after:  2     0b10\n",
      "bin(n)_before:  2     0b10\n",
      "bin(n)_after:  1     0b1\n",
      "bin(n)_before:  1     0b1\n",
      "bin(n)_after:  0     0b0\n"
     ]
    },
    {
     "data": {
      "text/plain": [
       "964176192"
      ]
     },
     "execution_count": 54,
     "metadata": {},
     "output_type": "execute_result"
    }
   ],
   "source": [
    "So =Solution()\n",
    "So.reverseBits(0b00000010100101000001111010011100)"
   ]
  },
  {
   "cell_type": "code",
   "execution_count": 52,
   "metadata": {},
   "outputs": [
    {
     "data": {
      "text/plain": [
       "43261596"
      ]
     },
     "execution_count": 52,
     "metadata": {},
     "output_type": "execute_result"
    }
   ],
   "source": [
    "0b00000010100101000001111010011100"
   ]
  },
  {
   "cell_type": "markdown",
   "metadata": {},
   "source": [
    "### 方法二:带记忆化的按字节颠倒"
   ]
  },
  {
   "cell_type": "code",
   "execution_count": 55,
   "metadata": {},
   "outputs": [],
   "source": [
    "s=[1,2,3,4]"
   ]
  },
  {
   "cell_type": "code",
   "execution_count": 56,
   "metadata": {},
   "outputs": [
    {
     "data": {
      "text/plain": [
       "'[1, 2, 3, 4]'"
      ]
     },
     "execution_count": 56,
     "metadata": {},
     "output_type": "execute_result"
    }
   ],
   "source": [
    "str(s)"
   ]
  },
  {
   "cell_type": "code",
   "execution_count": 57,
   "metadata": {},
   "outputs": [
    {
     "data": {
      "text/plain": [
       "'1,2,3,4'"
      ]
     },
     "execution_count": 57,
     "metadata": {},
     "output_type": "execute_result"
    }
   ],
   "source": [
    "','.join(list(map(str,s)))"
   ]
  },
  {
   "cell_type": "markdown",
   "metadata": {},
   "source": [
    "## 191.位1的个数\n",
    "---\n",
    "编写一个函数，输入是一个无符号整数，返回其二进制表达式中数字位数为 ‘1’ 的个数（也被称为汉明重量）。  \n",
    "**示例1:**\n",
    "```\n",
    "输入：00000000000000000000000000001011\n",
    "输出：3\n",
    "解释：输入的二进制串 00000000000000000000000000001011 中，共有三位为 '1'。\n",
    "\n",
    "```\n",
    "**示例2:**\n",
    "```\n",
    "输入：00000000000000000000000010000000\n",
    "输出：1\n",
    "解释：输入的二进制串 00000000000000000000000010000000 中，共有一位为 '1'。\n",
    "\n",
    "\n",
    "```\n",
    "**示例3::**\n",
    "```\n",
    "输入：11111111111111111111111111111101\n",
    "输出：31\n",
    "解释：输入的二进制串 11111111111111111111111111111101 中，共有 31 位为 '1'。\n",
    "\n",
    "```"
   ]
  },
  {
   "cell_type": "markdown",
   "metadata": {},
   "source": [
    "### 方法1：循环和位移动 "
   ]
  },
  {
   "cell_type": "code",
   "execution_count": 59,
   "metadata": {},
   "outputs": [],
   "source": [
    "class Solution:\n",
    "    def hammingWeight(self, n: int) -> int:\n",
    "        bits,mask = 0 ,1\n",
    "        for i in range(32):\n",
    "            if n&mask != 0:\n",
    "                bits+=1\n",
    "            \n",
    "            mask <<=1\n",
    "        return bits            "
   ]
  },
  {
   "cell_type": "markdown",
   "metadata": {},
   "source": [
    "### 方法 2：位操作的小技巧"
   ]
  },
  {
   "cell_type": "code",
   "execution_count": 61,
   "metadata": {},
   "outputs": [],
   "source": [
    "class Solution:\n",
    "    def hammingWeight(self, n: int) -> int:\n",
    "        sum=0\n",
    "        while n!=0:\n",
    "            sum+=1\n",
    "            n&=(n-1)\n",
    "        return sum·"
   ]
  },
  {
   "cell_type": "markdown",
   "metadata": {},
   "source": [
    "## 204.计数质数\n",
    "---\n",
    "统计所有小于非负整数`n`的质数的数量。\n",
    "\n",
    "**示例1:**\n",
    "```\n",
    "输入：n = 10\n",
    "输出：4\n",
    "解释：小于 10 的质数一共有 4 个, 它们是 2, 3, 5, 7 。\n",
    "```\n",
    "**示例2:**\n",
    "```\n",
    "输入：n = 0\n",
    "输出：0\n",
    "```\n",
    "**示例3:**\n",
    "```\n",
    "输入：n = 1\n",
    "输出：0\n",
    "```"
   ]
  },
  {
   "cell_type": "markdown",
   "metadata": {},
   "source": [
    "### 埃拉托斯特尼筛法"
   ]
  },
  {
   "cell_type": "code",
   "execution_count": 62,
   "metadata": {},
   "outputs": [],
   "source": [
    "def count_primes_py(n):\n",
    "    \"\"\"\n",
    "    求n以内的所有质数个数（纯python代码）\n",
    "    \"\"\"\n",
    "    # 最小的质数是 2\n",
    "    if n < 2:\n",
    "        return 0\n",
    "\n",
    "    isPrime = [1] * n\n",
    "    isPrime[0] = isPrime[1] = 0   # 0和1不是质数，先排除掉\n",
    "\n",
    "    # 埃式筛，把不大于根号n的所有质数的倍数剔除\n",
    "    for i in range(2, int(n ** 0.5) + 1):\n",
    "        if isPrime[i]:\n",
    "            isPrime[i * i:n:i] = [0] * ((n - 1 - i * i) // i + 1)\n",
    "\n",
    "    return sum(isPrime)"
   ]
  },
  {
   "cell_type": "code",
   "execution_count": 63,
   "metadata": {},
   "outputs": [],
   "source": [
    "s = [1,2,3,4,5,6,7]"
   ]
  },
  {
   "cell_type": "code",
   "execution_count": 65,
   "metadata": {},
   "outputs": [],
   "source": [
    "s[::2]=[2,4,6,8]"
   ]
  },
  {
   "cell_type": "code",
   "execution_count": 66,
   "metadata": {},
   "outputs": [
    {
     "data": {
      "text/plain": [
       "[2, 2, 4, 4, 6, 6, 8]"
      ]
     },
     "execution_count": 66,
     "metadata": {},
     "output_type": "execute_result"
    }
   ],
   "source": [
    "s"
   ]
  },
  {
   "cell_type": "markdown",
   "metadata": {},
   "source": [
    "### numpy优化"
   ]
  },
  {
   "cell_type": "code",
   "execution_count": null,
   "metadata": {},
   "outputs": [],
   "source": [
    "from numba import njit\n",
    "import numpy as np\n",
    "\n",
    "\n",
    "@njit\n",
    "def count_primes_numpy_jit(n):\n",
    "    \"\"\"\n",
    "    求n以内的所有质数个数，numba + numpy 最优版本\n",
    "    \"\"\"\n",
    "    assert n > 1\n",
    "\n",
    "    isPrime = np.ones(n, dtype=np.bool_)\n",
    "    isPrime[0] = isPrime[1] = 0\n",
    "\n",
    "    for i in np.arange(2, int(n ** 0.5) + 1):\n",
    "        if isPrime[i]:\n",
    "            isPrime[i * i:n:i] = 0\n",
    "\n",
    "    return int(np.sum(isPrime))\n"
   ]
  },
  {
   "cell_type": "markdown",
   "metadata": {},
   "source": [
    "### 运用比特表(Bitmap)算法对筛选进行内存优化:"
   ]
  },
  {
   "cell_type": "markdown",
   "metadata": {},
   "source": [
    "```c++\n",
    "int countPrimes(int n) {\n",
    "    int count = 0;\n",
    "    //一个 int 变量不知道占多少字节（但请注意，这里采用了常量）\n",
    "    const int size = sizeof(int) * 8;\n",
    "    vector<int> signs(n / size + 1,0);\n",
    "    for (int i = 2; i < n; i++){\n",
    "        //将元素和需确定得数字经行按位或运算，如果值改变，说明不存在该数字（未登记该数字），则其为质数。\n",
    "        //在C++中，其提供了 bitset 来操作位，在此便不做介绍了。如果用了，可读性肯定会更好。\n",
    "        //(当某个数为 2 的 n 次方时（n为自然数），其 & (n - 1) 所得值将等价于取余运算所得值)\n",
    "        //*如果 x = 2^n ，则 x & (n - 1) == x % n\n",
    "        //下面判断可以写成\n",
    "        //if ((signs[i / size] & (1 << (i % 32))) == 0)\n",
    "        if ((signs[i / size] & (1 << (i & (size - 1)))) == 0){\n",
    "            count++;\n",
    "            for (int j = i + i; j < n; j += i){\n",
    "                //登记该数字\n",
    "            \tsigns[j / size] |= 1 << (j & (size - 1));\n",
    "            }\n",
    "        }\n",
    "    }\n",
    "    return count;\n",
    "}\n",
    "\n",
    "```"
   ]
  },
  {
   "cell_type": "markdown",
   "metadata": {},
   "source": [
    "##  268. 丢失的数字\n",
    "---\n",
    "给定一个包含 `[0, n]` 中 `n` 个数的数组 `nums` ，找出 `[0, n]` 这个范围内没有出现在数组中的那个数。  \n",
    "**进阶：**  \n",
    "    - 你能否实现线性时间复杂度、仅使用额外常数空间的算法解决此问题？  \n",
    "\n",
    "**示例1:**  \n",
    "```\n",
    "输入：nums = [3,0,1]\n",
    "输出：2\n",
    "解释：n = 3，因为有 3 个数字，所以所有的数字都在范围 [0,3] 内。2 是丢失的数字，因为它没有出现在 nums 中。\n",
    "\n",
    "```\n",
    "\n",
    "**示例2:**\n",
    "```\n",
    "输入：nums = [0,1]\n",
    "输出：2\n",
    "解释：n = 2，因为有 2 个数字，所以所有的数字都在范围 [0,2] 内。2 是丢失的数字，因为它没有出现在 nums 中。\n",
    "\n",
    "```\n",
    "\n",
    "**示例3:**\n",
    "```\n",
    "输入：nums = [9,6,4,2,3,5,7,0,1]\n",
    "输出：8\n",
    "解释：n = 9，因为有 9 个数字，所以所有的数字都在范围 [0,9] 内。8 是丢失的数字，因为它没有出现在 nums 中。\n",
    "\n",
    "```\n",
    "\n",
    "**示例4:**\n",
    "```\n",
    "输入：nums = [0]\n",
    "输出：1\n",
    "解释：n = 1，因为有 1 个数字，所以所有的数字都在范围 [0,1] 内。1 是丢失的数字，因为它没有出现在 nums 中。\n",
    "```\n",
    "**提示:**\n",
    "- `n== nums.length`\n",
    "- `1<= n <= $10_4$`\n",
    "- `0<= nums[i] <= n`\n",
    "- `nums` 中的所有书籍都独一无二"
   ]
  },
  {
   "cell_type": "code",
   "execution_count": 70,
   "metadata": {},
   "outputs": [],
   "source": [
    "class Solution:\n",
    "    def missingNumber(self, nums: List[int]) -> int:\n",
    "        from collections import defaultdict\n",
    "        sums,sum2=0,0\n",
    "        n=len(nums)\n",
    "        for s in range(0,n+1):\n",
    "            sums+=s\n",
    "        for s in nums:\n",
    "\n",
    "            sum2+=s\n",
    "\n",
    "        return sums-sum2"
   ]
  },
  {
   "cell_type": "markdown",
   "metadata": {},
   "source": [
    "## 3的幂\n",
    "---\n",
    "给定一个整数，写一个函数来判断它是否是3的幂次方。\n",
    "**示例1:**  \n",
    "```\n",
    "输入: 27\n",
    "输出: true\n",
    "```\n",
    "**示例2:**\n",
    "```\n",
    "输入: 0\n",
    "输出: false\n",
    "```\n",
    "\n",
    "**示例3:**\n",
    "```\n",
    "输入: 9\n",
    "输出: true\n",
    "```\n",
    "\n",
    "**示例4:**\n",
    "```\n",
    "输入: 45\n",
    "输出: false\n",
    "```\n",
    "**进阶：**\n",
    "你能否不使用循环或递归来完成本题"
   ]
  },
  {
   "cell_type": "markdown",
   "metadata": {},
   "source": [
    "### 循环"
   ]
  },
  {
   "cell_type": "code",
   "execution_count": 74,
   "metadata": {},
   "outputs": [],
   "source": [
    "class Solution:\n",
    "    def isPowerOfThree(self, n: int) -> bool:\n",
    "        k=1\n",
    "        while k<n:k*=3\n",
    "        if k==n:return True\n",
    "        else: return False"
   ]
  },
  {
   "cell_type": "code",
   "execution_count": 76,
   "metadata": {},
   "outputs": [
    {
     "data": {
      "text/plain": [
       "'1'"
      ]
     },
     "execution_count": 76,
     "metadata": {},
     "output_type": "execute_result"
    }
   ],
   "source": [
    "ls=['1']\n",
    "','.join(ls)"
   ]
  },
  {
   "cell_type": "code",
   "execution_count": null,
   "metadata": {},
   "outputs": [],
   "source": []
  }
 ],
 "metadata": {
  "kernelspec": {
   "display_name": "Python 3",
   "language": "python",
   "name": "python3"
  },
  "language_info": {
   "codemirror_mode": {
    "name": "ipython",
    "version": 3
   },
   "file_extension": ".py",
   "mimetype": "text/x-python",
   "name": "python",
   "nbconvert_exporter": "python",
   "pygments_lexer": "ipython3",
   "version": "3.8.3"
  }
 },
 "nbformat": 4,
 "nbformat_minor": 4
}
