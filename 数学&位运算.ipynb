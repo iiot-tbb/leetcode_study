{
 "cells": [
  {
   "cell_type": "markdown",
   "metadata": {},
   "source": [
    "## 136.只出现一次的数字\n",
    "---\n",
    "给定一个非空整数数组，除了某个元素只出现一次以外，其余每个元素均出现两次，找出了哪个只出现一次的元素。  \n",
    "**说明**  \n",
    "你的算法应该具备线性时间复杂度。你可以不使用额外空间来实现吗？  \n",
    "**示例1:**  \n",
    "```\n",
    "输入: [2,2,1]\n",
    "输出: 1\n",
    "```\n",
    "**示例2:**\n",
    "```\n",
    "输入: [4,1,2,1,2]\n",
    "输出: 4\n",
    "```"
   ]
  },
  {
   "cell_type": "markdown",
   "metadata": {},
   "source": [
    "### 思路一，排序后进行遍历"
   ]
  },
  {
   "cell_type": "code",
   "execution_count": 2,
   "metadata": {},
   "outputs": [],
   "source": [
    "from typing import List\n",
    "class Solution:\n",
    "    def singleNumber(self, nums: List[int]) -> int:\n",
    "        nums = sorted(nums)\n",
    "        print(nums)\n",
    "        print(list(range(0,len(nums),2)))\n",
    "        for i in range(0,len(nums)-1,2):\n",
    "            if nums[i]!=nums[i+1]:\n",
    "                return nums[i]\n",
    "        return nums[-1]"
   ]
  },
  {
   "cell_type": "markdown",
   "metadata": {},
   "source": [
    "### 思路二：构造辅助空间(略)"
   ]
  },
  {
   "cell_type": "markdown",
   "metadata": {},
   "source": [
    "### 思路三：使用位运算"
   ]
  },
  {
   "cell_type": "markdown",
   "metadata": {},
   "source": [
    "假设数组中有2m+1 个数，其中m个数各出现两次，一个数出现一次。令 $a_1,a_2、... a_m$为出现两次的m个数,$a_{m+1}$ 为出现一次的数。根据性质3,数组中的全部元素的异或运算结果总是可以写成如下形式:\n",
    "$$(a_1\\oplus{a_1})\\oplus(a_2\\oplus{a_2})\\oplus...\\oplus(a_m\\oplus{a_m})\\oplus{a_{m+1}}$$\n",
    "根据性质2和性质1，上式可简化和计算得到如下结果:  \n",
    "$$0\\oplus{0}\\oplus{0}...\\oplus{0}\\oplus{a_{m+1}} = a_{m+1}$$  \n",
    "因此，数组中的全部元素的异或运算结果即为数组中出现一次的数字"
   ]
  },
  {
   "cell_type": "code",
   "execution_count": 3,
   "metadata": {},
   "outputs": [],
   "source": [
    "class Solution:\n",
    "    def singleNumber(self, nums: List[int]) -> int:\n",
    "        return reduce(lambda x,y:x^y,nums)"
   ]
  },
  {
   "cell_type": "code",
   "execution_count": null,
   "metadata": {},
   "outputs": [],
   "source": []
  }
 ],
 "metadata": {
  "kernelspec": {
   "display_name": "Python 3",
   "language": "python",
   "name": "python3"
  },
  "language_info": {
   "codemirror_mode": {
    "name": "ipython",
    "version": 3
   },
   "file_extension": ".py",
   "mimetype": "text/x-python",
   "name": "python",
   "nbconvert_exporter": "python",
   "pygments_lexer": "ipython3",
   "version": "3.8.3"
  }
 },
 "nbformat": 4,
 "nbformat_minor": 4
}
