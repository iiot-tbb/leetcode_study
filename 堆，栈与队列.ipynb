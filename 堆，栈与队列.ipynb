{
 "cells": [
  {
   "cell_type": "markdown",
   "metadata": {},
   "source": [
    "## 155.最小栈"
   ]
  },
  {
   "cell_type": "markdown",
   "metadata": {},
   "source": [
    "设计一个支持 push ，pop ，top 操作，并能在常数时间内检索到最小元素的栈。\n",
    "- push(x) —— 将元素 x 推入栈中。\n",
    "- pop() —— 删除栈顶的元素。\n",
    "- top() —— 获取栈顶元素。\n",
    "- getMin() —— 检索栈中的最小元素。\n"
   ]
  },
  {
   "cell_type": "markdown",
   "metadata": {},
   "source": [
    "示例:\n",
    "\n",
    "```\n",
    "输入：\n",
    "[\"MinStack\",\"push\",\"push\",\"push\",\"getMin\",\"pop\",\"top\",\"getMin\"]\n",
    "[[],[-2],[0],[-3],[],[],[],[]]\n",
    "\n",
    "输出：\n",
    "[null,null,null,null,-3,null,0,-2]\n",
    "\n",
    "解释：\n",
    "MinStack minStack = new MinStack();\n",
    "minStack.push(-2);\n",
    "minStack.push(0);\n",
    "minStack.push(-3);\n",
    "minStack.getMin();   --> 返回 -3.\n",
    "minStack.pop();\n",
    "minStack.top();      --> 返回 0.\n",
    "minStack.getMin();   --> 返回 -2.\n",
    "\n",
    "```"
   ]
  },
  {
   "cell_type": "markdown",
   "metadata": {},
   "source": [
    "### 使用辅助栈"
   ]
  },
  {
   "cell_type": "markdown",
   "metadata": {},
   "source": [
    "#### 使用辅助栈来保存当前的最小值"
   ]
  },
  {
   "cell_type": "code",
   "execution_count": 8,
   "metadata": {},
   "outputs": [],
   "source": [
    "class MinStack:\n",
    "\n",
    "    def __init__(self):\n",
    "        \"\"\"\n",
    "        initialize your data structure here.\n",
    "        \"\"\"\n",
    "        self._min_ = []\n",
    "        self.stack=[]\n",
    "        self.size=0\n",
    "    def push(self, x: int) -> None:\n",
    "        self.stack.insert(0,x)\n",
    "        if self.size==0:\n",
    "            self._min_.insert(0,x)\n",
    "        else:\n",
    "            if x<=self._min_[0]:\n",
    "                self._min_.insert(0,x)\n",
    "        self.size+=1\n",
    "        \n",
    "    def pop(self) -> None:\n",
    "        if self.size>0:\n",
    "            if self.stack[0]==self._min_[0]:\n",
    "                self._min_.pop(0)\n",
    "            self.stack.pop(0)\n",
    "            self.size-=1\n",
    "\n",
    "\n",
    "\n",
    "    def top(self) -> int:\n",
    "        #print(\"top\",self.stack)\n",
    "        if self.size>0:\n",
    "            return self.stack[0]\n",
    "        #print(\"top\",self.stack)\n",
    "\n",
    "    def getMin(self) -> int:\n",
    "        #print(\"getmin\",self.stack)\n",
    "        if self.size>0:\n",
    "            return self._min_[0]\n",
    "\n",
    "\n"
   ]
  },
  {
   "cell_type": "markdown",
   "metadata": {},
   "source": [
    "## 215.数组中的第K个最大元素\n",
    "---\n",
    "\n",
    "\n",
    "### 在未排序的数组中找到第k个最大的元素。请注意，你需要找的是数组排序后的第k个最大的元素。而不是第k个不同的元素\n",
    "示例1：\n",
    "```\n",
    "输入: [3,2,1,5,6,4] 和 k = 2\n",
    "输出: 5\n",
    "```\n",
    "示例2：\n",
    "```\n",
    "输入: [3,2,3,1,2,4,5,5,6] 和 k = 4\n",
    "输出: 4\n",
    "```\n",
    "#### 说明：  \n",
    "你可以假设k总是有效地，且 1<=k<=数组的长度。\n"
   ]
  },
  {
   "cell_type": "markdown",
   "metadata": {},
   "source": [
    "### 方法1： 排序"
   ]
  },
  {
   "cell_type": "code",
   "execution_count": null,
   "metadata": {},
   "outputs": [],
   "source": [
    "class Solution:\n",
    "    def findKthLargest(self, nums: List[int], k: int) -> int:\n",
    "        return sorted(nums)[-k]"
   ]
  },
  {
   "cell_type": "markdown",
   "metadata": {},
   "source": [
    "### 方法2： 自己实现快速排序"
   ]
  },
  {
   "cell_type": "code",
   "execution_count": 11,
   "metadata": {},
   "outputs": [],
   "source": [
    "import random\n",
    "class Solution:\n",
    "    def quickSelect(self, a, l, r, index):\n",
    "        q = self.randomPartition(a, l, r)\n",
    "        if q == index:\n",
    "            return a[q]\n",
    "        else:\n",
    "            return self.quickSelect(a, q+1, r, index) if q < index else self.quickSelect(a, l, q-1, index)\n",
    "    def randomPartition(self, a, l, r):\n",
    "        i = random.randint(l, r)#引入随机可以提高排序效率\n",
    "        a[i], a[r] = a[r], a[i]\n",
    "        return self.partition(a, l, r)\n",
    "    def partition(self, a, l, r):        \n",
    "        x = a[r]\n",
    "        i = l - 1\n",
    "        for j in range(l, r):\n",
    "            if a[j] < x:\n",
    "                i += 1\n",
    "                a[i], a[j] = a[j], a[i]\n",
    "        i += 1\n",
    "        a[i], a[r] = a[r], a[i]\n",
    "        return i\n",
    "            \n",
    "    def findKthLargest(self, nums, k):\n",
    "        return self.quickSelect(nums, 0, len(nums)-1, len(nums)-k)"
   ]
  },
  {
   "cell_type": "markdown",
   "metadata": {},
   "source": [
    "#### 快速排序2"
   ]
  },
  {
   "cell_type": "code",
   "execution_count": 87,
   "metadata": {},
   "outputs": [],
   "source": [
    "def quickSort(arr, left=None, right=None):\n",
    "    left = 0 if not isinstance(left,(int, float)) else left\n",
    "    right = len(arr)-1 if not isinstance(right,(int, float)) else right\n",
    "    if left < right:\n",
    "        partitionIndex = partition(arr, left, right)\n",
    "        quickSort(arr, left, partitionIndex-1)\n",
    "        quickSort(arr, partitionIndex+1, right)\n",
    "    return arr\n",
    "\n",
    "def partition(arr, left, right):\n",
    "    pivot = left\n",
    "    index = pivot+1\n",
    "    i = index\n",
    "    while  i <= right:\n",
    "        if arr[i] < arr[pivot]:\n",
    "            swap(arr, i, index)\n",
    "            index+=1\n",
    "        i+=1\n",
    "    swap(arr,pivot,index-1)\n",
    "    return index-1\n",
    "\n",
    "def swap(arr, i, j):\n",
    "    arr[i], arr[j] = arr[j], arr[i]"
   ]
  },
  {
   "cell_type": "code",
   "execution_count": 86,
   "metadata": {},
   "outputs": [
    {
     "data": {
      "text/plain": [
       "0"
      ]
     },
     "execution_count": 86,
     "metadata": {},
     "output_type": "execute_result"
    }
   ],
   "source": [
    "random.randint(0,1)"
   ]
  },
  {
   "cell_type": "markdown",
   "metadata": {},
   "source": [
    "### 方法3：堆排序"
   ]
  },
  {
   "cell_type": "code",
   "execution_count": null,
   "metadata": {},
   "outputs": [],
   "source": [
    "class Solution:\n",
    "    def maxHeapify(self, a, i, heapSize):\n",
    "        l = i * 2 + 1\n",
    "        r = i * 2 + 2\n",
    "        largest = i\n",
    "        if l < heapSize and a[l] > a[largest]:\n",
    "            largest = l\n",
    "        if r < heapSize and a[r] > a[largest]:\n",
    "            largest = r\n",
    "        if largest != i:\n",
    "            a[i], a[largest] = a[largest], a[i]\n",
    "            self.maxHeapify(a, largest, heapSize)\n",
    "\n",
    "    def buildMaxHeap(self, a, heapSize):\n",
    "        for i in range(heapSize//2, -1, -1):\n",
    "            self.maxHeapify(a, i, heapSize)\n",
    "\n",
    "    def findKthLargest(self, nums, k):\n",
    "        heapSize = len(nums)\n",
    "        self.buildMaxHeap(nums, heapSize)\n",
    "        for i in range(len(nums)-1, len(nums)-k, -1):\n",
    "            nums[0], nums[i] = nums[i], nums[0]\n",
    "            heapSize -= 1\n",
    "            self.maxHeapify(nums, 0, heapSize)\n",
    "        return nums[0]"
   ]
  },
  {
   "cell_type": "markdown",
   "metadata": {},
   "source": [
    "## 数据流中的中位数\n",
    "---\n",
    "中位数是有序列表中间的数。如果列表长度是偶数，中位数则是中间两个数的平均值。  \n",
    "例如，  \n",
    "[2,3,4] 的中位数是 3  \n",
    "[2,3] 的中位数是 (2 + 3) / 2 = 2.5  \n",
    "设计一个支持以下两种操作的数据结构：\n",
    "\n",
    "- void addNum(int num) - 从数据流中添加一个整数到数据结构中。\n",
    "- double findMedian() - 返回目前所有元素的中位数。\n",
    "\n",
    "示例 :  \n",
    "```\n",
    "addNum(1)\n",
    "addNum(2)\n",
    "findMedian() -> 1.5\n",
    "addNum(3) \n",
    "findMedian() -> 2\n",
    "```\n",
    "\n",
    "1.如果数据流中所有整数都在 0 到 100 范围内，你将如何优化你的算法？  \n",
    "2.如果数据流中 99% 的整数都在 0 到 100 范围内，你将如何优化你的算法？"
   ]
  },
  {
   "cell_type": "code",
   "execution_count": 91,
   "metadata": {},
   "outputs": [],
   "source": [
    "class MedianFinder:\n",
    "\n",
    "    def __init__(self):\n",
    "        \"\"\"\n",
    "        initialize your data structure here.\n",
    "        \"\"\"\n",
    "        self.num=[]\n",
    "        self.size=0\n",
    "\n",
    "    def addNum(self, num: int) -> None:\n",
    "        if self.size==0:\n",
    "            self.num.insert(0,num)\n",
    "            self.size+=1\n",
    "            return\n",
    "        for i,w in enumerate(self.num):\n",
    "            if num>w:\n",
    "                continue\n",
    "            elif num <=w:\n",
    "                self.num.insert(i,num)\n",
    "                self.size+=1\n",
    "                return\n",
    "        self.num.insert(self.size,num)\n",
    "        self.size+=1\n",
    "    def findMedian(self) -> float:\n",
    "        #print(self.num)\n",
    "        mid = self.size // 2\n",
    "        if self.size%2==0:\n",
    "            return float((self.num[mid]+self.num[mid-1])/2)\n",
    "        else:\n",
    "            return self.num[mid]\n",
    "        \n",
    "\n",
    "\n",
    "# Your MedianFinder object will be instantiated and called as such:\n",
    "# obj = MedianFinder()\n",
    "# obj.addNum(num)\n",
    "# param_2 = obj.findMedian()"
   ]
  },
  {
   "cell_type": "markdown",
   "metadata": {},
   "source": [
    "## 有序矩阵中第K小的元素\n",
    "---\n",
    "给定一个`n×n`矩阵，其中每行和每列元素均按升序排序，找到矩阵中第 k 小的元素。  \n",
    "请注意，它是排序后的第 k 小元素，而不是第 k 个不同的元素。  \n",
    "**示例**\n",
    "```\n",
    "matrix = [\n",
    "   [ 1,  5,  9],\n",
    "   [10, 11, 13],\n",
    "   [12, 13, 15]\n",
    "],\n",
    "k = 8,\n",
    "\n",
    "返回 13。\n",
    "```  \n",
    "**提示：**  \n",
    "你可以假设 k 的值永远是有效的，`1 ≤ k ≤ n2` 。"
   ]
  },
  {
   "cell_type": "markdown",
   "metadata": {},
   "source": [
    "### 思路1：直接拼接全部二维数组，然后排序"
   ]
  },
  {
   "cell_type": "code",
   "execution_count": null,
   "metadata": {},
   "outputs": [],
   "source": [
    "class Solution:\n",
    "    def kthSmallest(self, matrix: List[List[int]], k: int) -> int:\n",
    "        import math\n",
    "        self.flatten = []\n",
    "        #self.len_ = math.ceil(k/(len(matrix)))+1\n",
    "        self.len_=len(matrix)\n",
    "        for s in range(self.len_):\n",
    "            if s>=len(matrix):\n",
    "                break\n",
    "            self.flatten+=matrix[s]\n",
    "\n",
    "        self.flatten=sorted(self.flatten)\n",
    "        return self.flatten[k-1]"
   ]
  },
  {
   "cell_type": "markdown",
   "metadata": {},
   "source": [
    "### 方法二：归并排序"
   ]
  },
  {
   "cell_type": "markdown",
   "metadata": {},
   "source": [
    "### 方法三：二分查找"
   ]
  },
  {
   "cell_type": "markdown",
   "metadata": {},
   "source": [
    "## 347.前 K 个高频元素\n",
    "---\n",
    "示例1：\n",
    "```\n",
    "输入: nums = [1,1,1,2,2,3], k = 2\n",
    "输出: [1,2]\n",
    "```\n",
    "\n",
    "示例2：\n",
    "```\n",
    "输入: nums = [1], k = 1\n",
    "输出: [1]\n",
    "```\n",
    "提示：  \n",
    "- 你可以假设给定的 k 总是合理的，且 1 ≤ k ≤ 数组中不相同的元素的个数。\n",
    "- 你的算法的时间复杂度必须优于 O(n log n) , n 是数组的大小。\n",
    "- 题目数据保证答案唯一，换句话说，数组中前 k 个高频元素的集合是唯一的。\n",
    "- 你可以按任意顺序返回答案。\n"
   ]
  },
  {
   "cell_type": "markdown",
   "metadata": {},
   "source": [
    "### 建小根堆，堆排序筛选出最大k个值"
   ]
  },
  {
   "cell_type": "code",
   "execution_count": null,
   "metadata": {},
   "outputs": [],
   "source": [
    "class Solution:\n",
    "    def topKFrequent(self, nums: List[int], k: int) -> List[int]:\n",
    "        from collections import defaultdict\n",
    "        dic = defaultdict(int)\n",
    "\n",
    "        for s in nums:\n",
    "            dic[s]+=1\n",
    "        lis = list(set(nums))\n",
    "        if len(lis)<=k:\n",
    "            return lis\n",
    "        lis.insert(0,-float('inf'))\n",
    "        def build_dump():\n",
    "            i=k//2\n",
    "            while i>0:\n",
    "                tp=i\n",
    "                while tp*2<=k:\n",
    "                    tmp = tp*2\n",
    "                    if tmp+1<=k:\n",
    "                        if dic[lis[tmp]]>dic[lis[tmp+1]]:\n",
    "                            tmp=tmp+1\n",
    "                    if dic[lis[tmp]]<dic[lis[tp]]:\n",
    "                        lis[tmp],lis[tp]=lis[tp],lis[tmp]\n",
    "                        tp=tmp\n",
    "                    else:\n",
    "                        break\n",
    "                i-=1\n",
    "        def down_adj():\n",
    "            j=1\n",
    "            while j*2<=k:\n",
    "                tmp = 2*j\n",
    "                if tmp+1<=k:\n",
    "                    if dic[lis[tmp+1]]<dic[lis[tmp]]:\n",
    "                        tmp+=1\n",
    "                if dic[lis[tmp]]<dic[lis[j]]:\n",
    "                    lis[tmp],lis[j]=lis[j],lis[tmp]\n",
    "                else:break\n",
    "                j = tmp\n",
    "\n",
    "        build_dump()\n",
    "        \n",
    "        for t in range(len(lis)-k-1):\n",
    "            if dic[lis[t+k+1]]>dic[lis[1]]:\n",
    "                lis[t+k+1],lis[1]=lis[1],lis[t+k+1]\n",
    "                #build_dump()\n",
    "                down_adj()\n",
    "        #print(lis)\n",
    "        print(dic[5])\n",
    "        print(dic[-4])\n",
    "        #return sorted(lis[1:k+1],key=lambda x:dic[x],reverse=True)\n",
    "        return lis[1:k+1]"
   ]
  },
  {
   "cell_type": "markdown",
   "metadata": {},
   "source": [
    "## 239.滑动窗口最大值\n",
    "\n",
    "给定一个数组 nums，有一个大小为 k 的滑动窗口从数组的最左侧移动到数组的最右侧。你只可以看到在滑动窗口内的 k 个数字。滑动窗口每次只向右移动一位。  \n",
    "返回滑动窗口中的最大值。  \n",
    "**进阶：**  \n",
    "你能在线性时间复杂度内解决此题吗？  \n",
    "**示例：**\n",
    "```\n",
    "输入: nums = [1,3,-1,-3,5,3,6,7], 和 k = 3\n",
    "输出: [3,3,5,5,6,7] \n",
    "解释: \n",
    "\n",
    "  滑动窗口的位置                最大值\n",
    "---------------               -----\n",
    "[1  3  -1] -3  5  3  6  7       3\n",
    " 1 [3  -1  -3] 5  3  6  7       3\n",
    " 1  3 [-1  -3  5] 3  6  7       5\n",
    " 1  3  -1 [-3  5  3] 6  7       5\n",
    " 1  3  -1  -3 [5  3  6] 7       6\n",
    " 1  3  -1  -3  5 [3  6  7]      7\n",
    "\n",
    "```"
   ]
  },
  {
   "cell_type": "markdown",
   "metadata": {},
   "source": [
    "### 堆排序的队列保存窗口内的最大值"
   ]
  },
  {
   "cell_type": "code",
   "execution_count": 96,
   "metadata": {},
   "outputs": [],
   "source": [
    "class Solution:\n",
    "    def maxSlidingWindow(self, nums, k: int):\n",
    "        self.lis_heap=[0]\n",
    "        max_num=[]\n",
    "        def insert(j):\n",
    "            self.lis_heap.append(j)\n",
    "            self.lis_heap[0]+=1\n",
    "            adj_up()\n",
    "\n",
    "        def adj_up():\n",
    "            i =self.lis_heap[0]\n",
    "            while i>0:\n",
    "                par = i//2\n",
    "                if nums[self.lis_heap[par]]<nums[self.lis_heap[i]]:\n",
    "                    self.lis_heap[par],self.lis_heap[i]=self.lis_heap[i],self.lis_heap[par]\n",
    "                    i=par\n",
    "                else:break\n",
    "        \n",
    "        def heap_down_adj(i):\n",
    "        \n",
    "            while i>0:\n",
    "                p=i\n",
    "                while p*2<=self.lis_heap[0]:\n",
    "                    tmp=p*2\n",
    "                    if p*2+1<=self.lis_heap[0]:\n",
    "                        if nums[self.lis_heap[tmp]]<nums[self.lis_heap[tmp+1]]:\n",
    "                            tmp+=1\n",
    "                            print('gsdf0',nums[tmp])\n",
    "                    if nums[self.lis_heap[p]]<nums[self.lis_heap[tmp]]:\n",
    "                        self.lis_heap[p],self.lis_heap[tmp]=self.lis_heap[tmp],self.lis_heap[p]\n",
    "                        p=tmp\n",
    "                    else:\n",
    "                        break\n",
    "                i-=1       \n",
    "        for i in range(len(nums)):\n",
    "            if len(nums)<=1 or k==1:\n",
    "                return nums\n",
    "            if len(self.lis_heap)==1:\n",
    "                self.lis_heap.append(i)\n",
    "                self.lis_heap[0]=1\n",
    "                continue\n",
    "            if nums[self.lis_heap[1]]<=nums[i]:\n",
    "                self.lis_heap.clear()\n",
    "                self.lis_heap.append(1)\n",
    "                self.lis_heap.append(i)\n",
    "            else:\n",
    "                insert(i)\n",
    "                print('iiiii',i)\n",
    "            while i-k+1>self.lis_heap[1]:\n",
    "                if len(self.lis_heap)==1:\n",
    "                    break\n",
    "                print('000',self.lis_heap)\n",
    "                print(self.lis_heap[self.lis_heap[0]])\n",
    "                self.lis_heap[self.lis_heap[0]],self.lis_heap[1]=self.lis_heap[1],self.lis_heap[self.lis_heap[0]]\n",
    "                self.lis_heap.pop()\n",
    "                self.lis_heap[0]-=1\n",
    "                heap_down_adj(1)\n",
    "            if i<k-1:\n",
    "                continue\n",
    "            max_num.append(nums[self.lis_heap[1]])\n",
    "            print('self.lis_heap',self.lis_heap)\n",
    "            print('max_num',max_num)\n",
    "             \n",
    "        return max_num"
   ]
  },
  {
   "cell_type": "markdown",
   "metadata": {},
   "source": [
    "## 227.基本计算器\n",
    "---\n",
    "\n",
    "实现一个基本的计算器来计算一个简单的字符串表达式的值。\n",
    "\n",
    "字符串表达式仅包含非负整数，`+`， `-` ，`*`，`/ `四种运算符和空格` `  。 整数除法仅保留整数部分。\n",
    "\n",
    "**示例1：**\n",
    "```\n",
    "输入: \"3+2*2\"\n",
    "输出: 7\n",
    "```\n",
    "**示例2：**\n",
    "```\n",
    "输入: \" 3/2 \"\n",
    "输出: 1\n",
    "```\n",
    "**示例3：**\n",
    "```\n",
    "输入: \" 3/2 \"\n",
    "输出: 1\n",
    "```\n",
    "**说明：**\n",
    "- 你可以假设所给定的表达式都是有效的。\n",
    "- 请不要使用内置的库函数 eval。"
   ]
  },
  {
   "cell_type": "markdown",
   "metadata": {},
   "source": [
    "### 用数栈和符号栈来实现"
   ]
  },
  {
   "cell_type": "code",
   "execution_count": 109,
   "metadata": {},
   "outputs": [],
   "source": [
    "class Solution:\n",
    "    def calculate(self, s: str) -> int:\n",
    "        num_stack=[]\n",
    "        cal_stack=[]\n",
    "        dic ={'+':1,'-':1,'*':2,'/':2}\n",
    "        word=''\n",
    "        for w in s:\n",
    "            #print(num_stack)\n",
    "            #print(cal_stack)\n",
    "            if w==' ':\n",
    "                continue\n",
    "            if '0'<=w<='9':\n",
    "                word+=w\n",
    "            elif w in dic:\n",
    "                \n",
    "                if word!='':\n",
    "                    num_stack.append(int(word))\n",
    "                    word=''\n",
    "            \n",
    "                if len(cal_stack)==0:\n",
    "                    cal_stack.append(w)\n",
    "                else:\n",
    "                    if dic[cal_stack[-1]]<dic[w]:\n",
    "                        cal_stack.append(w)\n",
    "                    else:\n",
    "                        while(len(cal_stack)!=0 and dic[cal_stack[-1]]>=dic[w]):\n",
    "                            s1=int(num_stack.pop())\n",
    "                            if len(num_stack)!=0:\n",
    "                                s2 = int(num_stack.pop())\n",
    "                            else:\n",
    "                                s2=0\n",
    "                            cal =cal_stack.pop()\n",
    "                            if cal=='+':\n",
    "                                num_stack.append(s2+s1)\n",
    "                            elif cal=='-':\n",
    "                                num_stack.append(s2-s1)\n",
    "                            elif cal=='*':\n",
    "                                num_stack.append(s2*s1)\n",
    "                            elif cal=='/':\n",
    "                                num_stack.append(s2//s1)\n",
    "                        cal_stack.append(w)\n",
    "        num_stack.append(int(word))\n",
    "        while(len(cal_stack)!=0):\n",
    "\n",
    "            s1=int(num_stack.pop())\n",
    "            if len(num_stack)!=0:\n",
    "                s2 = int(num_stack.pop())\n",
    "            else:\n",
    "                s2=0\n",
    "            cal =cal_stack.pop()\n",
    "            if cal=='+':\n",
    "                num_stack.append(s2+s1)\n",
    "            elif cal=='-':\n",
    "                num_stack.append(s2-s1)\n",
    "            elif cal=='*':\n",
    "                num_stack.append(s2*s1)\n",
    "            elif cal=='/':\n",
    "                num_stack.append(s2//s1)\n",
    "        if len(num_stack)==1:\n",
    "            return num_stack[0]"
   ]
  },
  {
   "cell_type": "markdown",
   "metadata": {},
   "source": [
    "## 341.扁平化嵌套列表迭代器\n",
    "---\n",
    "给你一个嵌套的整型列表。请你设计一个迭代器，使其能够遍历这个整型列表中的所有整数。  \n",
    "列表中的每一项或者为一个整数，或者是另一个列表。其中列表的元素也可能是整数或其他列表。\n",
    "\n",
    "**示例1：**\n",
    "```\n",
    "输入: [[1,1],2,[1,1]]\n",
    "输出: [1,1,2,1,1]\n",
    "解释: 通过重复调用 next 直到 hasNext 返回 false，next 返回的元素的顺序应该是: [1,1,2,1,1]。\n",
    "\n",
    "```\n",
    "**示例2：**\n",
    "```\n",
    "输入: [1,[4,[6]]]\n",
    "输出: [1,4,6]\n",
    "解释: 通过重复调用 next 直到 hasNext 返回 false，next 返回的元素的顺序应该是: [1,4,6]。\n",
    "\n",
    "```\n"
   ]
  },
  {
   "cell_type": "markdown",
   "metadata": {},
   "source": [
    "### 字符串处理"
   ]
  },
  {
   "cell_type": "code",
   "execution_count": null,
   "metadata": {},
   "outputs": [],
   "source": [
    "# \"\"\"\n",
    "# This is the interface that allows for creating nested lists.\n",
    "# You should not implement it, or speculate about its implementation\n",
    "# \"\"\"\n",
    "#class NestedInteger:\n",
    "#    def isInteger(self) -> bool:\n",
    "#        \"\"\"\n",
    "#        @return True if this NestedInteger holds a single integer, rather than a nested list.\n",
    "#        \"\"\"\n",
    "#\n",
    "#    def getInteger(self) -> int:\n",
    "#        \"\"\"\n",
    "#        @return the single integer that this NestedInteger holds, if it holds a single integer\n",
    "#        Return None if this NestedInteger holds a nested list\n",
    "#        \"\"\"\n",
    "#\n",
    "#    def getList(self) -> [NestedInteger]:\n",
    "#        \"\"\"\n",
    "#        @return the nested list that this NestedInteger holds, if it holds a nested list\n",
    "#        Return None if this NestedInteger holds a single integer\n",
    "#        \"\"\"\n",
    "\n",
    "class NestedIterator:\n",
    "    def __init__(self, nestedList: [NestedInteger]):\n",
    "        self.index =-1\n",
    "        self.word=''\n",
    "        self.fu=''\n",
    "        self.lis=[]\n",
    "        for s in str(nestedList):\n",
    "            if s in'\\,\\[\\]':\n",
    "                #print(1)\n",
    "                if self.word != '':\n",
    "                    self.lis.append(int(self.fu+self.word))\n",
    "                    self.word=''\n",
    "            elif s.isdigit():\n",
    "                self.word+=s\n",
    "            else:\n",
    "                self.fu=s\n",
    "        self.lens=len(self.lis)\n",
    "    def next(self) -> int:\n",
    "        if self.hasNext()==True:\n",
    "            \n",
    "            self.index+=1\n",
    "            return self.lis[self.index]\n",
    "    def hasNext(self) -> bool:\n",
    "        if self.index<self.lens-1:\n",
    "            return True\n",
    "        return False\n",
    "         \n",
    "\n",
    "# Your NestedIterator object will be instantiated and called as such:\n",
    "# i, v = NestedIterator(nestedList), []\n",
    "# while i.hasNext(): v.append(i.next())"
   ]
  },
  {
   "cell_type": "markdown",
   "metadata": {},
   "source": [
    "### python栈，迭代"
   ]
  },
  {
   "cell_type": "code",
   "execution_count": null,
   "metadata": {},
   "outputs": [],
   "source": [
    "class NestedIterator:\n",
    "    def __init__(self, nestedList: [NestedInteger]):\n",
    "        # 对于nestedList中的内容，我们需要从左往右遍历，\n",
    "        # 但堆栈pop是从右端开始，所以我们压栈的时候需要将nestedList反转再压栈\n",
    "        self.stack = nestedList[::-1]\n",
    "\n",
    "    def next(self) -> int:\n",
    "        # hasNext 函数中已经保证栈顶是integer，所以直接返回pop结果\n",
    "        return self.stack.pop(-1).getInteger()\n",
    "\n",
    "    def hasNext(self) -> bool: \n",
    "        # 对栈顶进行‘剥皮’，如果栈顶是List，把List反转再依次压栈，\n",
    "        # 然后再看栈顶，依次循环直到栈顶为Integer。\n",
    "        # 同时可以处理空的List，类似[[[]],[]]这种test case           \n",
    "        while len(self.stack) > 0 and self.stack[-1].isInteger() is False:\n",
    "            self.stack += self.stack.pop().getList()[::-1]\n",
    "        return len(self.stack) > 0\n"
   ]
  },
  {
   "cell_type": "code",
   "execution_count": 160,
   "metadata": {},
   "outputs": [],
   "source": [
    "ls=[1,2,3,[3,4,[4,5,[4,],3],5],6]"
   ]
  },
  {
   "cell_type": "code",
   "execution_count": 161,
   "metadata": {},
   "outputs": [
    {
     "data": {
      "text/plain": [
       "[6, [3, 4, [4, 5, [4], 3], 5], 3, 2, 1]"
      ]
     },
     "execution_count": 161,
     "metadata": {},
     "output_type": "execute_result"
    }
   ],
   "source": [
    "ls[::-1]"
   ]
  },
  {
   "cell_type": "markdown",
   "metadata": {},
   "source": [
    "## 逆波兰表达式求值\n",
    "---\n",
    "根据 [逆波兰表达式（后缀表达式）](https://baike.baidu.com/item/%E9%80%86%E6%B3%A2%E5%85%B0%E5%BC%8F/128437)，求表达式的值。  \n",
    "有效的运算符包括`+`,`-`,`*`,`/`。每个运算对象可以是整数，也可以是另一个逆波兰表达式。\n",
    "**说明：**\n",
    "- 整数除法只保留整数部分。\n",
    "- 给定逆波兰表达式总是有效的。换句话说，表达式总会得出有效数值且不存在除数为0的情况。\n",
    "**示例1：**\n",
    "```\n",
    "输入: [\"2\", \"1\", \"+\", \"3\", \"*\"]\n",
    "输出: 9\n",
    "解释: 该算式转化为常见的中缀算术表达式为：((2 + 1) * 3) = 9\n",
    "```\n",
    "**示例 2：**\n",
    "```\n",
    "输入: [\"4\", \"13\", \"5\", \"/\", \"+\"]\n",
    "输出: 6\n",
    "解释: 该算式转化为常见的中缀算术表达式为：(4 + (13 / 5)) = 6\n",
    "```\n",
    "\n",
    "**示例3：**\n",
    "```\n",
    "输入: [\"10\", \"6\", \"9\", \"3\", \"+\", \"-11\", \"*\", \"/\", \"*\", \"17\", \"+\", \"5\", \"+\"]\n",
    "输出: 22\n",
    "解释: \n",
    "该算式转化为常见的中缀算术表达式为：\n",
    "  ((10 * (6 / ((9 + 3) * -11))) + 17) + 5\n",
    "= ((10 * (6 / (12 * -11))) + 17) + 5\n",
    "= ((10 * (6 / -132)) + 17) + 5\n",
    "= ((10 * 0) + 17) + 5\n",
    "= (0 + 17) + 5\n",
    "= 17 + 5\n",
    "= 22\n",
    "\n",
    "```\n",
    "\n",
    "**逆波兰表达式：**  \n",
    "逆波兰表达式是一种后缀表达式，所谓后缀就是指算符写在后面。  \n",
    "- 平常使用的算式则是一种中缀表达式，如 ( 1 + 2 ) * ( 3 + 4 ) 。\n",
    "- 该算式的逆波兰表达式写法为 ( ( 1 2 + ) ( 3 4 + ) * ) 。\n",
    "逆波兰表达式主要有以下两个优点：\n",
    "- 去掉括号后表达式无歧义，上式即便写成 1 2 + 3 4 + * 也可以依据次序计算出正确结果。\n",
    "- 适合用栈操作运算：遇到数字则入栈；遇到算符则取出栈顶两个数字进行计算，并将结果压入栈中。\n"
   ]
  },
  {
   "cell_type": "code",
   "execution_count": 169,
   "metadata": {},
   "outputs": [],
   "source": [
    "i=int('-10')"
   ]
  },
  {
   "cell_type": "code",
   "execution_count": 174,
   "metadata": {},
   "outputs": [
    {
     "data": {
      "text/plain": [
       "0"
      ]
     },
     "execution_count": 174,
     "metadata": {},
     "output_type": "execute_result"
    }
   ],
   "source": [
    "int(6/(-132))"
   ]
  },
  {
   "cell_type": "code",
   "execution_count": null,
   "metadata": {},
   "outputs": [],
   "source": [
    "class Solution:\n",
    "    def evalRPN(self, tokens: List[str]) -> int:\n",
    "        self.stack=[]\n",
    "        for i in tokens:\n",
    "            if i[-1].isdigit():\n",
    "                self.stack.append(int(i))\n",
    "            elif i in '\\-\\+\\*\\/':\n",
    "                s0=self.stack.pop()\n",
    "                if len(self.stack)!=0:\n",
    "                    s1=self.stack.pop()\n",
    "                else:\n",
    "                    s1=0\n",
    "                \n",
    "                if i=='-':\n",
    "                    self.stack.append(s1-s0)\n",
    "                    print(s1,i,s0)\n",
    "                elif i=='+':\n",
    "                    self.stack.append(s1+s0)\n",
    "                    print(s1,i,s0)\n",
    "                elif i=='*':\n",
    "                    self.stack.append(s1*s0)\n",
    "                    print(s1,i,s0)\n",
    "                elif i=='/':\n",
    "                    self.stack.append(int(s1/s0))\n",
    "                    print(s1,i,s0)\n",
    "        print(self.stack)\n",
    "        return self.stack[0]"
   ]
  }
 ],
 "metadata": {
  "kernelspec": {
   "display_name": "Python 3",
   "language": "python",
   "name": "python3"
  },
  "language_info": {
   "codemirror_mode": {
    "name": "ipython",
    "version": 3
   },
   "file_extension": ".py",
   "mimetype": "text/x-python",
   "name": "python",
   "nbconvert_exporter": "python",
   "pygments_lexer": "ipython3",
   "version": "3.7.4"
  }
 },
 "nbformat": 4,
 "nbformat_minor": 4
}
