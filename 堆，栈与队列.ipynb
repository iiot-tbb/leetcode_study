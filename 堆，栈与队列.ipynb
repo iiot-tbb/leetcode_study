{
 "cells": [
  {
   "cell_type": "markdown",
   "metadata": {},
   "source": [
    "## 最小栈"
   ]
  },
  {
   "cell_type": "markdown",
   "metadata": {},
   "source": [
    "设计一个支持 push ，pop ，top 操作，并能在常数时间内检索到最小元素的栈。\n",
    "- push(x) —— 将元素 x 推入栈中。\n",
    "- pop() —— 删除栈顶的元素。\n",
    "- top() —— 获取栈顶元素。\n",
    "- getMin() —— 检索栈中的最小元素。\n"
   ]
  },
  {
   "cell_type": "markdown",
   "metadata": {},
   "source": [
    "示例:\n",
    "\n",
    "```\n",
    "输入：\n",
    "[\"MinStack\",\"push\",\"push\",\"push\",\"getMin\",\"pop\",\"top\",\"getMin\"]\n",
    "[[],[-2],[0],[-3],[],[],[],[]]\n",
    "\n",
    "输出：\n",
    "[null,null,null,null,-3,null,0,-2]\n",
    "\n",
    "解释：\n",
    "MinStack minStack = new MinStack();\n",
    "minStack.push(-2);\n",
    "minStack.push(0);\n",
    "minStack.push(-3);\n",
    "minStack.getMin();   --> 返回 -3.\n",
    "minStack.pop();\n",
    "minStack.top();      --> 返回 0.\n",
    "minStack.getMin();   --> 返回 -2.\n",
    "\n",
    "```"
   ]
  },
  {
   "cell_type": "markdown",
   "metadata": {},
   "source": [
    "### 使用辅助栈"
   ]
  },
  {
   "cell_type": "markdown",
   "metadata": {},
   "source": [
    "#### 使用辅助栈来保存当前的最小值"
   ]
  },
  {
   "cell_type": "code",
   "execution_count": 8,
   "metadata": {},
   "outputs": [],
   "source": [
    "class MinStack:\n",
    "\n",
    "    def __init__(self):\n",
    "        \"\"\"\n",
    "        initialize your data structure here.\n",
    "        \"\"\"\n",
    "        self._min_ = []\n",
    "        self.stack=[]\n",
    "        self.size=0\n",
    "    def push(self, x: int) -> None:\n",
    "        self.stack.insert(0,x)\n",
    "        if self.size==0:\n",
    "            self._min_.insert(0,x)\n",
    "        else:\n",
    "            if x<=self._min_[0]:\n",
    "                self._min_.insert(0,x)\n",
    "        self.size+=1\n",
    "        \n",
    "    def pop(self) -> None:\n",
    "        if self.size>0:\n",
    "            if self.stack[0]==self._min_[0]:\n",
    "                self._min_.pop(0)\n",
    "            self.stack.pop(0)\n",
    "            self.size-=1\n",
    "\n",
    "\n",
    "\n",
    "    def top(self) -> int:\n",
    "        #print(\"top\",self.stack)\n",
    "        if self.size>0:\n",
    "            return self.stack[0]\n",
    "        #print(\"top\",self.stack)\n",
    "\n",
    "    def getMin(self) -> int:\n",
    "        #print(\"getmin\",self.stack)\n",
    "        if self.size>0:\n",
    "            return self._min_[0]\n",
    "\n",
    "\n"
   ]
  },
  {
   "cell_type": "markdown",
   "metadata": {},
   "source": [
    "## 215.数组中的第K个最大元素\n",
    "---\n",
    "\n",
    "\n",
    "### 在未排序的数组中找到第k个最大的元素。请注意，你需要找的是数组排序后的第k个最大的元素。而不是第k个不同的元素\n",
    "示例1：\n",
    "```\n",
    "输入: [3,2,1,5,6,4] 和 k = 2\n",
    "输出: 5\n",
    "```\n",
    "示例2：\n",
    "```\n",
    "输入: [3,2,3,1,2,4,5,5,6] 和 k = 4\n",
    "输出: 4\n",
    "```\n",
    "#### 说明：  \n",
    "你可以假设k总是有效地，且 1<=k<=数组的长度。\n"
   ]
  },
  {
   "cell_type": "markdown",
   "metadata": {},
   "source": [
    "### 方法1： 排序"
   ]
  },
  {
   "cell_type": "code",
   "execution_count": null,
   "metadata": {},
   "outputs": [],
   "source": [
    "class Solution:\n",
    "    def findKthLargest(self, nums: List[int], k: int) -> int:\n",
    "        return sorted(nums)[-k]"
   ]
  },
  {
   "cell_type": "markdown",
   "metadata": {},
   "source": [
    "### 方法2： 自己实现快速排序"
   ]
  },
  {
   "cell_type": "code",
   "execution_count": 11,
   "metadata": {},
   "outputs": [],
   "source": [
    "import random\n",
    "class Solution:\n",
    "    def quickSelect(self, a, l, r, index):\n",
    "        q = self.randomPartition(a, l, r)\n",
    "        if q == index:\n",
    "            return a[q]\n",
    "        else:\n",
    "            return self.quickSelect(a, q+1, r, index) if q < index else self.quickSelect(a, l, q-1, index)\n",
    "    def randomPartition(self, a, l, r):\n",
    "        i = random.randint(l, r)\n",
    "        a[i], a[r] = a[r], a[i]\n",
    "        return self.partition(a, l, r)\n",
    "    def partition(self, a, l, r):        \n",
    "        x = a[r]\n",
    "        i = l - 1\n",
    "        for j in range(l, r):\n",
    "            if a[j] < x:\n",
    "                i += 1\n",
    "                a[i], a[j] = a[j], a[i]\n",
    "        i += 1\n",
    "        a[i], a[r] = a[r], a[i]\n",
    "        return i\n",
    "            \n",
    "    def findKthLargest(self, nums, k):\n",
    "        return self.quickSelect(nums, 0, len(nums)-1, len(nums)-k)"
   ]
  },
  {
   "cell_type": "markdown",
   "metadata": {},
   "source": [
    "#### 快速排序2"
   ]
  },
  {
   "cell_type": "code",
   "execution_count": 87,
   "metadata": {},
   "outputs": [],
   "source": [
    "def quickSort(arr, left=None, right=None):\n",
    "    left = 0 if not isinstance(left,(int, float)) else left\n",
    "    right = len(arr)-1 if not isinstance(right,(int, float)) else right\n",
    "    if left < right:\n",
    "        partitionIndex = partition(arr, left, right)\n",
    "        quickSort(arr, left, partitionIndex-1)\n",
    "        quickSort(arr, partitionIndex+1, right)\n",
    "    return arr\n",
    "\n",
    "def partition(arr, left, right):\n",
    "    pivot = left\n",
    "    index = pivot+1\n",
    "    i = index\n",
    "    while  i <= right:\n",
    "        if arr[i] < arr[pivot]:\n",
    "            swap(arr, i, index)\n",
    "            index+=1\n",
    "        i+=1\n",
    "    swap(arr,pivot,index-1)\n",
    "    return index-1\n",
    "\n",
    "def swap(arr, i, j):\n",
    "    arr[i], arr[j] = arr[j], arr[i]"
   ]
  },
  {
   "cell_type": "code",
   "execution_count": 86,
   "metadata": {},
   "outputs": [
    {
     "data": {
      "text/plain": [
       "0"
      ]
     },
     "execution_count": 86,
     "metadata": {},
     "output_type": "execute_result"
    }
   ],
   "source": [
    "random.randint(0,1)"
   ]
  },
  {
   "cell_type": "markdown",
   "metadata": {},
   "source": [
    "### 方法3：堆排序"
   ]
  },
  {
   "cell_type": "code",
   "execution_count": null,
   "metadata": {},
   "outputs": [],
   "source": [
    "class Solution:\n",
    "    def maxHeapify(self, a, i, heapSize):\n",
    "        l = i * 2 + 1\n",
    "        r = i * 2 + 2\n",
    "        largest = i\n",
    "        if l < heapSize and a[l] > a[largest]:\n",
    "            largest = l\n",
    "        if r < heapSize and a[r] > a[largest]:\n",
    "            largest = r\n",
    "        if largest != i:\n",
    "            a[i], a[largest] = a[largest], a[i]\n",
    "            self.maxHeapify(a, largest, heapSize)\n",
    "\n",
    "    def buildMaxHeap(self, a, heapSize):\n",
    "        for i in range(heapSize//2, -1, -1):\n",
    "            self.maxHeapify(a, i, heapSize)\n",
    "\n",
    "    def findKthLargest(self, nums, k):\n",
    "        heapSize = len(nums)\n",
    "        self.buildMaxHeap(nums, heapSize)\n",
    "        for i in range(len(nums)-1, len(nums)-k, -1):\n",
    "            nums[0], nums[i] = nums[i], nums[0]\n",
    "            heapSize -= 1\n",
    "            self.maxHeapify(nums, 0, heapSize)\n",
    "        return nums[0]"
   ]
  },
  {
   "cell_type": "markdown",
   "metadata": {},
   "source": [
    "## 数据流中的中位数\n",
    "---\n",
    "中位数是有序列表中间的数。如果列表长度是偶数，中位数则是中间两个数的平均值。  \n",
    "例如，  \n",
    "[2,3,4] 的中位数是 3  \n",
    "[2,3] 的中位数是 (2 + 3) / 2 = 2.5  \n",
    "设计一个支持以下两种操作的数据结构：\n",
    "\n",
    "- void addNum(int num) - 从数据流中添加一个整数到数据结构中。\n",
    "- double findMedian() - 返回目前所有元素的中位数。\n",
    "\n",
    "示例 :  \n",
    "```\n",
    "addNum(1)\n",
    "addNum(2)\n",
    "findMedian() -> 1.5\n",
    "addNum(3) \n",
    "findMedian() -> 2\n",
    "```\n",
    "\n",
    "1.如果数据流中所有整数都在 0 到 100 范围内，你将如何优化你的算法？  \n",
    "2.如果数据流中 99% 的整数都在 0 到 100 范围内，你将如何优化你的算法？"
   ]
  },
  {
   "cell_type": "code",
   "execution_count": 91,
   "metadata": {},
   "outputs": [],
   "source": [
    "class MedianFinder:\n",
    "\n",
    "    def __init__(self):\n",
    "        \"\"\"\n",
    "        initialize your data structure here.\n",
    "        \"\"\"\n",
    "        self.num=[]\n",
    "        self.size=0\n",
    "\n",
    "    def addNum(self, num: int) -> None:\n",
    "        if self.size==0:\n",
    "            self.num.insert(0,num)\n",
    "            self.size+=1\n",
    "            return\n",
    "        for i,w in enumerate(self.num):\n",
    "            if num>w:\n",
    "                continue\n",
    "            elif num <=w:\n",
    "                self.num.insert(i,num)\n",
    "                self.size+=1\n",
    "                return\n",
    "        self.num.insert(self.size,num)\n",
    "        self.size+=1\n",
    "    def findMedian(self) -> float:\n",
    "        #print(self.num)\n",
    "        mid = self.size // 2\n",
    "        if self.size%2==0:\n",
    "            return float((self.num[mid]+self.num[mid-1])/2)\n",
    "        else:\n",
    "            return self.num[mid]\n",
    "        \n",
    "\n",
    "\n",
    "# Your MedianFinder object will be instantiated and called as such:\n",
    "# obj = MedianFinder()\n",
    "# obj.addNum(num)\n",
    "# param_2 = obj.findMedian()"
   ]
  },
  {
   "cell_type": "markdown",
   "metadata": {},
   "source": [
    "## 有序矩阵中第K小的元素\n",
    "---\n",
    "给定一个`n×n`矩阵，其中每行和每列元素均按升序排序，找到矩阵中第 k 小的元素。  \n",
    "请注意，它是排序后的第 k 小元素，而不是第 k 个不同的元素。  \n",
    "**示例**\n",
    "```\n",
    "matrix = [\n",
    "   [ 1,  5,  9],\n",
    "   [10, 11, 13],\n",
    "   [12, 13, 15]\n",
    "],\n",
    "k = 8,\n",
    "\n",
    "返回 13。\n",
    "```  \n",
    "**提示：**  \n",
    "你可以假设 k 的值永远是有效的，`1 ≤ k ≤ n2` 。"
   ]
  },
  {
   "cell_type": "markdown",
   "metadata": {},
   "source": [
    "### 思路1：直接拼接全部二维数组，然后排序"
   ]
  },
  {
   "cell_type": "code",
   "execution_count": null,
   "metadata": {},
   "outputs": [],
   "source": [
    "class Solution:\n",
    "    def kthSmallest(self, matrix: List[List[int]], k: int) -> int:\n",
    "        import math\n",
    "        self.flatten = []\n",
    "        #self.len_ = math.ceil(k/(len(matrix)))+1\n",
    "        self.len_=len(matrix)\n",
    "        for s in range(self.len_):\n",
    "            if s>=len(matrix):\n",
    "                break\n",
    "            self.flatten+=matrix[s]\n",
    "\n",
    "        self.flatten=sorted(self.flatten)\n",
    "        return self.flatten[k-1]"
   ]
  },
  {
   "cell_type": "markdown",
   "metadata": {},
   "source": [
    "### 方法二：归并排序"
   ]
  },
  {
   "cell_type": "markdown",
   "metadata": {},
   "source": [
    "### 方法三：二分查找"
   ]
  },
  {
   "cell_type": "code",
   "execution_count": null,
   "metadata": {},
   "outputs": [],
   "source": []
  }
 ],
 "metadata": {
  "kernelspec": {
   "display_name": "Python 3",
   "language": "python",
   "name": "python3"
  },
  "language_info": {
   "codemirror_mode": {
    "name": "ipython",
    "version": 3
   },
   "file_extension": ".py",
   "mimetype": "text/x-python",
   "name": "python",
   "nbconvert_exporter": "python",
   "pygments_lexer": "ipython3",
   "version": "3.8.3"
  }
 },
 "nbformat": 4,
 "nbformat_minor": 4
}
