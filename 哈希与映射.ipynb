{
 "cells": [
  {
   "cell_type": "markdown",
   "metadata": {},
   "source": [
    "## 171.Excel 表列序号\n",
    "---\n",
    "给定一个Excel表格中的列名称，返回其相应的列序号  \n",
    "\n",
    "**例如**\n",
    "\n",
    "```\n",
    "    A -> 1\n",
    "    B -> 2\n",
    "    C -> 3\n",
    "    ...\n",
    "    Z -> 26\n",
    "    AA -> 27\n",
    "    AB -> 28 \n",
    "    ...\n",
    "```"
   ]
  },
  {
   "cell_type": "markdown",
   "metadata": {},
   "source": [
    "#### 示例1：\n",
    "```\n",
    "输入: \"A\"\n",
    "输出: 1\n",
    "```\n",
    "#### 示例2：\n",
    "```\n",
    "输入: \"AB\"\n",
    "输出: 28\n",
    "```\n",
    "#### 示例3：\n",
    "```\n",
    "输入: \"ZY\"\n",
    "输出: 701\n",
    "```"
   ]
  },
  {
   "cell_type": "code",
   "execution_count": 12,
   "metadata": {},
   "outputs": [],
   "source": [
    "class Solution:\n",
    "    def titleToNumber(self, s: str) -> int:\n",
    "        import string\n",
    "        a = string.ascii_uppercase\n",
    "        dic={w:i+1 for i,w in enumerate(a)}\n",
    "        i=1\n",
    "        num = 0\n",
    "        for w in s[::-1]:\n",
    "            num+= dic[w]*i\n",
    "            i=i*26\n",
    "        return num"
   ]
  },
  {
   "cell_type": "markdown",
   "metadata": {},
   "source": [
    "## 454.四数相加 II\n",
    "---\n",
    "给定四个包含整数的数组列表A，B，C，D，计算有多少个元组`(i,j,k,l)`,使得`A[i] + B[j] + C[k] +D[l] = 0`.  \n",
    "为了使问题简单化，所有的A,B,C,D具有相同的长度N， 且 $0\\leqslant{N}\\leqslant500$. 所有的整数的范围在$-2^{28}$到 $2^{28}-1$之间，最终不会超过$2^{31} - 1$ 。\n",
    "\n",
    "**例如：**\n",
    "```\n",
    "输入:\n",
    "A = [ 1, 2]\n",
    "B = [-2,-1]\n",
    "C = [-1, 2]\n",
    "D = [ 0, 2]\n",
    "\n",
    "输出:\n",
    "2\n",
    "\n",
    "解释:\n",
    "两个元组如下:\n",
    "1. (0, 0, 0, 1) -> A[0] + B[0] + C[0] + D[1] = 1 + (-2) + (-1) + 2 = 0\n",
    "2. (1, 1, 0, 0) -> A[1] + B[1] + C[0] + D[0] = 2 + (-1) + (-1) + 0 = 0\n",
    "\n",
    "```"
   ]
  },
  {
   "cell_type": "markdown",
   "metadata": {},
   "source": [
    "### 分治思想+ 字典哈希"
   ]
  },
  {
   "cell_type": "code",
   "execution_count": 13,
   "metadata": {},
   "outputs": [
    {
     "data": {
      "text/plain": [
       "0"
      ]
     },
     "execution_count": 13,
     "metadata": {},
     "output_type": "execute_result"
    }
   ],
   "source": [
    "class Solution:\n",
    "    def fourSumCount(self, A: List[int], B: List[int], C: List[int], D: List[int]) -> int:\n",
    "        count =0\n",
    "        #all_=list(set(A+B+C+D))\n",
    "        from collections import defaultdict\n",
    "        dicA,dicB,dicC,dicD,dicAB,dicCD = defaultdict(int),defaultdict(int),defaultdict(int),defaultdict(int),defaultdict(int),defaultdict(int)\n",
    "        def func(lis,dic):\n",
    "            for s in lis:\n",
    "                dic[s]+=1\n",
    "        func(A,dicA)\n",
    "        func(B,dicB)\n",
    "        func(C,dicC)\n",
    "        func(D,dicD)\n",
    "        for s in list(set(A)):\n",
    "            for b in list(set(B)):\n",
    "                dicAB[s+b] += dicA[s]*dicB[b]\n",
    "        for s in list(set(C)):\n",
    "            for b in list(set(D)):\n",
    "                dicCD[s+b]+= dicC[s]*dicD[b]\n",
    "\n",
    "        for s in dicAB:\n",
    "            if -s in dicCD:\n",
    "                count+=dicAB[s]*dicCD[-s]\n",
    "        \n",
    "        return count"
   ]
  },
  {
   "cell_type": "code",
   "execution_count": null,
   "metadata": {},
   "outputs": [],
   "source": []
  }
 ],
 "metadata": {
  "kernelspec": {
   "display_name": "Python 3",
   "language": "python",
   "name": "python3"
  },
  "language_info": {
   "codemirror_mode": {
    "name": "ipython",
    "version": 3
   },
   "file_extension": ".py",
   "mimetype": "text/x-python",
   "name": "python",
   "nbconvert_exporter": "python",
   "pygments_lexer": "ipython3",
   "version": "3.8.3"
  }
 },
 "nbformat": 4,
 "nbformat_minor": 4
}
