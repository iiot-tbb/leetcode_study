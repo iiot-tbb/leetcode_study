{
 "cells": [
  {
   "cell_type": "markdown",
   "metadata": {},
   "source": [
    "## 171.Excel 表列序号\n",
    "---\n",
    "给定一个Excel表格中的列名称，返回其相应的列序号  \n",
    "\n",
    "**例如**\n",
    "\n",
    "```\n",
    "    A -> 1\n",
    "    B -> 2\n",
    "    C -> 3\n",
    "    ...\n",
    "    Z -> 26\n",
    "    AA -> 27\n",
    "    AB -> 28 \n",
    "    ...\n",
    "```"
   ]
  },
  {
   "cell_type": "markdown",
   "metadata": {},
   "source": [
    "#### 示例1：\n",
    "```\n",
    "输入: \"A\"\n",
    "输出: 1\n",
    "```\n",
    "#### 示例2：\n",
    "```\n",
    "输入: \"AB\"\n",
    "输出: 28\n",
    "```\n",
    "#### 示例3：\n",
    "```\n",
    "输入: \"ZY\"\n",
    "输出: 701\n",
    "```"
   ]
  },
  {
   "cell_type": "code",
   "execution_count": 12,
   "metadata": {},
   "outputs": [],
   "source": [
    "class Solution:\n",
    "    def titleToNumber(self, s: str) -> int:\n",
    "        import string\n",
    "        a = string.ascii_uppercase\n",
    "        dic={w:i+1 for i,w in enumerate(a)}\n",
    "        i=1\n",
    "        num = 0\n",
    "        for w in s[::-1]:\n",
    "            num+= dic[w]*i\n",
    "            i=i*26\n",
    "        return num"
   ]
  },
  {
   "cell_type": "code",
   "execution_count": null,
   "metadata": {},
   "outputs": [],
   "source": []
  }
 ],
 "metadata": {
  "kernelspec": {
   "display_name": "Python 3",
   "language": "python",
   "name": "python3"
  },
  "language_info": {
   "codemirror_mode": {
    "name": "ipython",
    "version": 3
   },
   "file_extension": ".py",
   "mimetype": "text/x-python",
   "name": "python",
   "nbconvert_exporter": "python",
   "pygments_lexer": "ipython3",
   "version": "3.8.3"
  }
 },
 "nbformat": 4,
 "nbformat_minor": 4
}
