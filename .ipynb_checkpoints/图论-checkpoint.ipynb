{
 "cells": [
  {
   "cell_type": "markdown",
   "metadata": {},
   "source": [
    "## 127.单词接龙\n",
    "---\n",
    "给定两个单词（beginWord 和 endWord）和一个字典，找到从 beginWord 到 endWord 的最短转换序列的长度。转换需遵循如下规则：\n",
    "\n",
    "    1.每次转换只能改变一个字母。\n",
    "    2.转换过程中的中间单词必须是字典中的单词。\n",
    "\n",
    "**说明：**\n",
    "   - 如果不存在这样的转换序列，返回 0。\n",
    "   - 所有单词具有相同的长度。\n",
    "   - 所有单词只由小写字母组成。\n",
    "   - 字典中不存在重复的单词。\n",
    "   - 你可以假设 beginWord 和 endWord 是非空的，且二者不相同。  \n",
    "\n",
    "**示例1:**\n",
    "```\n",
    "输入:\n",
    "beginWord = \"hit\",\n",
    "endWord = \"cog\",\n",
    "wordList = [\"hot\",\"dot\",\"dog\",\"lot\",\"log\",\"cog\"]\n",
    "\n",
    "输出: 5\n",
    "\n",
    "解释: 一个最短转换序列是 \"hit\" -> \"hot\" -> \"dot\" -> \"dog\" -> \"cog\",\n",
    "     返回它的长度 5。\n",
    "```\n",
    "\n",
    "**示例2:**\n",
    "```\n",
    "输入:\n",
    "beginWord = \"hit\"\n",
    "endWord = \"cog\"\n",
    "wordList = [\"hot\",\"dot\",\"dog\",\"lot\",\"log\"]\n",
    "\n",
    "输出: 0\n",
    "\n",
    "解释: endWord \"cog\" 不在字典中，所以无法进行转换。\n",
    "\n",
    "```"
   ]
  },
  {
   "cell_type": "markdown",
   "metadata": {},
   "source": [
    "### DFS超时"
   ]
  },
  {
   "cell_type": "code",
   "execution_count": null,
   "metadata": {},
   "outputs": [],
   "source": [
    "class Solution:\n",
    "    def __init__(self):\n",
    "        self.minlen = float('inf')\n",
    "    def ladderLength(self, beginWord: str, endWord: str, wordList: List[str]) -> int:\n",
    "        if endWord not in wordList:return 0\n",
    "        def if_distance(s1,s2):\n",
    "            if len(s1)!=len(s2):return 0\n",
    "            t=0\n",
    "            for i in range(len(s1)):\n",
    "                if s1[i]!=s2[i]:\n",
    "                    t+=1\n",
    "                if t>1:return 0\n",
    "            if t==0:return 0           \n",
    "            return 1\n",
    "        from collections import defaultdict\n",
    "        dic = defaultdict(bool)\n",
    "        def DFS(text,times):\n",
    "            if text ==endWord:\n",
    "                if times<self.minlen:\n",
    "                    self.minlen=times\n",
    "                return\n",
    "            for s in wordList:\n",
    "                if if_distance(text,s) and dic[s]==False:\n",
    "                    dic[s]=True\n",
    "                    DFS(s,times+1)\n",
    "                    dic[s]=False\n",
    "        \n",
    "        DFS(beginWord,1)\n",
    "        if self.minlen==float('inf'):return 0\n",
    "        return self.minlen\n"
   ]
  },
  {
   "cell_type": "markdown",
   "metadata": {},
   "source": [
    "### 方法1：BFS广度优先搜索"
   ]
  },
  {
   "cell_type": "markdown",
   "metadata": {},
   "source": [
    "**想法**\n",
    "\n",
    "利用广度优先搜索搜索从 beginWord 到 endWord 的路径。\n",
    "\n",
    "**算法**\n",
    "\n",
    "    1.对给定的 wordList 做预处理，找出所有的通用状态。将通用状态记录在字典中，键是通用状态，值是所有具有通用状态的单词。\n",
    "\n",
    "    2.将包含 beginWord 和 1 的元组放入队列中，1 代表节点的层次。我们需要返回 endWord 的层次也就是从 beginWord 出发的最短距离。\n",
    "\n",
    "    3.为了防止出现环，使用访问数组记录。\n",
    "\n",
    "    4.当队列中有元素的时候，取出第一个元素，记为 current_word。\n",
    "\n",
    "    5.找到 current_word 的所有通用状态，并检查这些通用状态是否存在其它单词的映射，这一步通过检查 all_combo_dict 来实现。\n",
    "\n",
    "    6.从 all_combo_dict 获得的所有单词，都和 current_word 共有一个通用状态，所以都和 current_word 相连，因此将他们加入到队列中。\n",
    "\n",
    "    7.对于新获得的所有单词，向队列中加入元素 (word, level + 1) 其中 level 是 current_word 的层次。\n",
    "\n",
    "    8.最终当你到达期望的单词，对应的层次就是最短变换序列的长度。\n"
   ]
  },
  {
   "cell_type": "code",
   "execution_count": 4,
   "metadata": {},
   "outputs": [],
   "source": [
    "from typing import List\n",
    "class Solution:\n",
    "    from collections import defaultdict\n",
    "    def ladderLength(self, beginWord: str, endWord: str, wordList: List[str]) -> int:\n",
    "        if endWord not in wordList or endWord is None or not wordList: return 0\n",
    "        dic_mdi = defaultdict(list)\n",
    "        vist={}\n",
    "        Lens = len(wordList[0])\n",
    "        lenlist = len(wordList)\n",
    "        for s in wordList:\n",
    "            for i in range(Lens):\n",
    "                word = s[:i]+'*'+s[i+1:]\n",
    "                dic_mdi[word].append(s)\n",
    "        sequence = [(beginWord,1)]\n",
    "        \n",
    "        while len(sequence):\n",
    "            word,time = sequence.pop(0)\n",
    "            if word==endWord:return time\n",
    "            if len(vist)==lenlist:return 0\n",
    "            for s in range(Lens):\n",
    "                tmp = word[:s]+'*'+word[s+1:]\n",
    "                for a in dic_mdi[tmp]:\n",
    "                    if a not in vist:\n",
    "                        sequence.append((a,time+1))\n",
    "                        vist[a]=True\n",
    "                    if a == endWord: return time+1\n",
    "        return 0"
   ]
  },
  {
   "cell_type": "markdown",
   "metadata": {},
   "source": [
    "### 方法 2：双向广度优先搜索"
   ]
  },
  {
   "cell_type": "markdown",
   "metadata": {},
   "source": [
    "##### 上面稍作改进即可"
   ]
  },
  {
   "cell_type": "code",
   "execution_count": null,
   "metadata": {},
   "outputs": [],
   "source": []
  }
 ],
 "metadata": {
  "kernelspec": {
   "display_name": "Python 3",
   "language": "python",
   "name": "python3"
  },
  "language_info": {
   "codemirror_mode": {
    "name": "ipython",
    "version": 3
   },
   "file_extension": ".py",
   "mimetype": "text/x-python",
   "name": "python",
   "nbconvert_exporter": "python",
   "pygments_lexer": "ipython3",
   "version": "3.8.3"
  }
 },
 "nbformat": 4,
 "nbformat_minor": 4
}
