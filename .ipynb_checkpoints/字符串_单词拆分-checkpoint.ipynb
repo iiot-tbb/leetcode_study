{
 "cells": [
  {
   "cell_type": "markdown",
   "metadata": {},
   "source": [
    "#### 1.给定一个字符串，验证它是否是回文串，只考虑字母和数字字符，可以忽略字母的大小写。\n",
    "\n",
    "说明：本题中，我们将空字符串定义为有效的回文串。"
   ]
  },
  {
   "cell_type": "code",
   "execution_count": 1,
   "metadata": {},
   "outputs": [],
   "source": [
    "class Solution:\n",
    "    def isPalindrome(self, s: str) -> bool:\n",
    "        sigore = ''\n",
    "        if s =='':\n",
    "            return True\n",
    "        for i in range(len(s)):\n",
    "            if s[i].isdigit():\n",
    "                sigore+=s[i]\n",
    "            elif s[i].isalpha():\n",
    "                if s[i].isupper():\n",
    "                    sigore+=s[i].lower()\n",
    "                elif s[i].islower():\n",
    "                    sigore+=s[i]\n",
    "        \n",
    "        \n",
    "        print(sigore)\n",
    "        print(sigore[::-1])\n",
    "        if sigore == sigore[::-1]:\n",
    "            return True\n",
    "        return False"
   ]
  },
  {
   "cell_type": "code",
   "execution_count": 2,
   "metadata": {},
   "outputs": [],
   "source": [
    "Sol = Solution()"
   ]
  },
  {
   "cell_type": "code",
   "execution_count": 3,
   "metadata": {},
   "outputs": [
    {
     "name": "stdout",
     "output_type": "stream",
     "text": [
      "amanaplanacanalpanama\n",
      "amanaplanacanalpanama\n"
     ]
    },
    {
     "data": {
      "text/plain": [
       "True"
      ]
     },
     "execution_count": 3,
     "metadata": {},
     "output_type": "execute_result"
    }
   ],
   "source": [
    "Sol.isPalindrome(\"A man, a plan, a canal: Panama\")"
   ]
  },
  {
   "cell_type": "markdown",
   "metadata": {},
   "source": [
    "#### 2.给定一个字符串 s，将 s 分割成一些子串，使每个子串都是回文串。返回 s 所有可能的分割方案。"
   ]
  },
  {
   "cell_type": "code",
   "execution_count": 27,
   "metadata": {},
   "outputs": [],
   "source": [
    "class Solution:\n",
    "    def partition(self,s:str):\n",
    "        split_result = []\n",
    "        \n",
    "        if len(s) == 0:\n",
    "            return split_result\n",
    "        \n",
    "        def back(start = 0, res = None):\n",
    "            if res is None:\n",
    "                res = []\n",
    "            if start >= len(s):\n",
    "                split_result.append(res)\n",
    "                return\n",
    "            for end in range(start+1,len(s)+1):\n",
    "                split_s=s[start:end]\n",
    "                if split_s == s[start:end][::-1]:\n",
    "                    back(end,res+[split_s])\n",
    "        back()\n",
    "        print(split_result)\n",
    "        return split_result"
   ]
  },
  {
   "cell_type": "code",
   "execution_count": 28,
   "metadata": {},
   "outputs": [],
   "source": [
    "Sol= Solution()"
   ]
  },
  {
   "cell_type": "code",
   "execution_count": 29,
   "metadata": {},
   "outputs": [
    {
     "name": "stdout",
     "output_type": "stream",
     "text": [
      "[['a', 'a', 'b'], ['aa', 'b']]\n"
     ]
    },
    {
     "data": {
      "text/plain": [
       "[['a', 'a', 'b'], ['aa', 'b']]"
      ]
     },
     "execution_count": 29,
     "metadata": {},
     "output_type": "execute_result"
    }
   ],
   "source": [
    "Sol.partition(\"aab\")"
   ]
  },
  {
   "cell_type": "markdown",
   "metadata": {},
   "source": [
    "#### 3.给定一个非空字符串 s 和一个包含非空单词列表的字典 wordDict，判定 s 是否可以被空格拆分为一个或多个在字典中出现的单词。\n",
    "\n",
    "说明：\n",
    "- 拆分时可以重复使用字典中的单词。\n",
    "- 你可以假设字典中没有重复的单词。\n",
    "\n",
    "示例1：\n",
    "```\n",
    "输入: s = \"leetcode\", wordDict = [\"leet\", \"code\"]\n",
    "输出: true\n",
    "解释: 返回 true 因为 \"leetcode\" 可以被拆分成 \"leet code\"。\n",
    "```\n",
    "示例2;\n",
    "```\n",
    "输入: s = \"applepenapple\", wordDict = [\"apple\", \"pen\"]\n",
    "输出: true\n",
    "解释: 返回 true 因为 \"applepenapple\" 可以被拆分成 \"apple pen apple\"。\n",
    "     注意你可以重复使用字典中的单词。\n",
    "```\n",
    "示例3:\n",
    "```\n",
    "输入: s = \"catsandog\", wordDict = [\"cats\", \"dog\", \"sand\", \"and\", \"cat\"]\n",
    "输出: false\n",
    "```"
   ]
  },
  {
   "cell_type": "markdown",
   "metadata": {},
   "source": [
    "### 题解\n",
    "#### 动态规划\n",
    "1.初始化dp = [False,..,False],长度为n+1。n为字符串长度。dp[i]表示s的前i位是否可以用wordDict中的单词表示。\n",
    "2.初始化dp[0]= True,空字符可以表示。\n",
    "3.遍历字符串的所有字串，遍历开始索引i,遍历区间[0,n):\n",
    "- 遍历结束，遍历结束索引j,遍历区间[i+1,n+1);\n",
    "```\n",
    "若dp[i] = True且s[i,...,j)在word list中，dp[j]=True.解释dp[i]=True说明s的前i位可以用wordlist表示，则s[i,...,j)出现在wordDict中，说明s的前j位可以表示。\n",
    "```\n",
    "\n",
    "4.返回dp[n]"
   ]
  },
  {
   "cell_type": "code",
   "execution_count": null,
   "metadata": {},
   "outputs": [],
   "source": [
    "class Solution:\n",
    "    def wordBreak(self, s: str, wordDict: List[str]) -> bool:       \n",
    "        n=len(s)\n",
    "        dp=[False]*(n+1)\n",
    "        dp[0]=True\n",
    "        for i in range(n):\n",
    "            for j in range(i+1,n+1):\n",
    "                if(dp[i] and (s[i:j] in wordDict)):\n",
    "                    dp[j]=True\n",
    "        return dp[-1]\n"
   ]
  },
  {
   "cell_type": "markdown",
   "metadata": {},
   "source": [
    "#### 记忆回溯法\n",
    "```\n",
    "- 1.使用记忆化函数，保存出现过的backrack(s),避免重复计算。\n",
    "- 2.定义回溯函数 backtrack(s)\n",
    "    - 若s长度为0，则返回True，表示已经使用wordDict中的单词分割完。\n",
    "    - 初始化当前字符串是否可以被分割 res = False\n",
    "    - 遍历结束索引i，遍历区间[1,n+1):\n",
    "        - 若s[0,...,i-1]在wordDict中: res= backtrack(s[i,...,n-1]) or res。解释：保存遍历结束索引中，可以使字符串切割完成的情况\n",
    "        - 返回res\n",
    "\n",
    "```\n"
   ]
  },
  {
   "cell_type": "code",
   "execution_count": 36,
   "metadata": {},
   "outputs": [],
   "source": [
    "class Solution:\n",
    "    def wordBreak(self, s: str, wordDict) -> bool:\n",
    "        import functools\n",
    "        @functools.lru_cache(None)\n",
    "        def back_track(s):\n",
    "            if(not s):\n",
    "                return True\n",
    "            res=False\n",
    "            for i in range(1,len(s)+1):\n",
    "                if(s[:i] in wordDict):\n",
    "                    res=back_track(s[i:])# or res\n",
    "            return res\n",
    "        return back_track(s)\n"
   ]
  },
  {
   "cell_type": "code",
   "execution_count": 37,
   "metadata": {},
   "outputs": [],
   "source": [
    "Sol= Solution()"
   ]
  },
  {
   "cell_type": "code",
   "execution_count": 38,
   "metadata": {},
   "outputs": [
    {
     "data": {
      "text/plain": [
       "True"
      ]
     },
     "execution_count": 38,
     "metadata": {},
     "output_type": "execute_result"
    }
   ],
   "source": [
    "Sol.wordBreak('leetcode',['leet','code'])"
   ]
  },
  {
   "cell_type": "code",
   "execution_count": null,
   "metadata": {},
   "outputs": [],
   "source": []
  }
 ],
 "metadata": {
  "kernelspec": {
   "display_name": "Python 3",
   "language": "python",
   "name": "python3"
  },
  "language_info": {
   "codemirror_mode": {
    "name": "ipython",
    "version": 3
   },
   "file_extension": ".py",
   "mimetype": "text/x-python",
   "name": "python",
   "nbconvert_exporter": "python",
   "pygments_lexer": "ipython3",
   "version": "3.8.3"
  }
 },
 "nbformat": 4,
 "nbformat_minor": 4
}
