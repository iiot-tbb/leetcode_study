{
 "cells": [
  {
   "cell_type": "markdown",
   "metadata": {},
   "source": [
    "## 136.只出现一次的数字\n",
    "---\n",
    "给定一个非空整数数组，除了某个元素只出现一次以外，其余每个元素均出现两次，找出了哪个只出现一次的元素。  \n",
    "**说明**  \n",
    "你的算法应该具备线性时间复杂度。你可以不使用额外空间来实现吗？  \n",
    "**示例1:**  \n",
    "```\n",
    "输入: [2,2,1]\n",
    "输出: 1\n",
    "```\n",
    "**示例2:**\n",
    "```\n",
    "输入: [4,1,2,1,2]\n",
    "输出: 4\n",
    "```"
   ]
  },
  {
   "cell_type": "markdown",
   "metadata": {},
   "source": [
    "### 思路一，排序后进行遍历"
   ]
  },
  {
   "cell_type": "code",
   "execution_count": 2,
   "metadata": {},
   "outputs": [],
   "source": [
    "from typing import List\n",
    "class Solution:\n",
    "    def singleNumber(self, nums: List[int]) -> int:\n",
    "        nums = sorted(nums)\n",
    "        print(nums)\n",
    "        print(list(range(0,len(nums),2)))\n",
    "        for i in range(0,len(nums)-1,2):\n",
    "            if nums[i]!=nums[i+1]:\n",
    "                return nums[i]\n",
    "        return nums[-1]"
   ]
  },
  {
   "cell_type": "markdown",
   "metadata": {},
   "source": [
    "### 思路二：构造辅助空间(略)"
   ]
  },
  {
   "cell_type": "markdown",
   "metadata": {},
   "source": [
    "### 思路三：使用位运算"
   ]
  },
  {
   "cell_type": "markdown",
   "metadata": {},
   "source": [
    "假设数组中有2m+1 个数，其中m个数各出现两次，一个数出现一次。令 $a_1,a_2、... a_m$为出现两次的m个数,$a_{m+1}$ 为出现一次的数。根据性质3,数组中的全部元素的异或运算结果总是可以写成如下形式:\n",
    "$$(a_1\\oplus{a_1})\\oplus(a_2\\oplus{a_2})\\oplus...\\oplus(a_m\\oplus{a_m})\\oplus{a_{m+1}}$$\n",
    "根据性质2和性质1，上式可简化和计算得到如下结果:  \n",
    "$$0\\oplus{0}\\oplus{0}...\\oplus{0}\\oplus{a_{m+1}} = a_{m+1}$$  \n",
    "因此，数组中的全部元素的异或运算结果即为数组中出现一次的数字"
   ]
  },
  {
   "cell_type": "code",
   "execution_count": 3,
   "metadata": {},
   "outputs": [],
   "source": [
    "class Solution:\n",
    "    def singleNumber(self, nums: List[int]) -> int:\n",
    "        return reduce(lambda x,y:x^y,nums)"
   ]
  },
  {
   "cell_type": "markdown",
   "metadata": {},
   "source": [
    "## 149. 直线上最多的点数\n",
    "---\n",
    "给定一个二维平面，平面上有`n`个点，求最多有多少个点在同一直线上。  \n",
    "**示例1:**\n",
    "```\n",
    "输入: [[1,1],[2,2],[3,3]]\n",
    "输出: 3\n",
    "解释:\n",
    "^\n",
    "|\n",
    "|        o\n",
    "|     o\n",
    "|  o  \n",
    "+------------->\n",
    "0  1  2  3  4\n",
    "\n",
    "```\n",
    "**示例2:**\n",
    "```\n",
    "输入: [[1,1],[3,2],[5,3],[4,1],[2,3],[1,4]]\n",
    "输出: 4\n",
    "解释:\n",
    "^\n",
    "|\n",
    "|  o\n",
    "|     o        o\n",
    "|        o\n",
    "|  o        o\n",
    "+------------------->\n",
    "0  1  2  3  4  5  6\n",
    "\n",
    "```"
   ]
  },
  {
   "cell_type": "markdown",
   "metadata": {},
   "source": [
    "### [方法:枚举](https://leetcode-cn.com/problems/max-points-on-a-line/solution/zhi-xian-shang-zui-duo-de-dian-shu-by-leetcode/)\n"
   ]
  },
  {
   "cell_type": "code",
   "execution_count": 4,
   "metadata": {},
   "outputs": [],
   "source": [
    "def gcd(a,b):\n",
    "    while b:\n",
    "        a,b=b,a%b\n",
    "    return a"
   ]
  },
  {
   "cell_type": "code",
   "execution_count": 18,
   "metadata": {},
   "outputs": [
    {
     "data": {
      "text/plain": [
       "-27"
      ]
     },
     "execution_count": 18,
     "metadata": {},
     "output_type": "execute_result"
    }
   ],
   "source": [
    "gcd(-27,0)"
   ]
  },
  {
   "cell_type": "code",
   "execution_count": 19,
   "metadata": {},
   "outputs": [],
   "source": [
    "from typing import List\n",
    "class Solution:\n",
    "    def maxPoints(self, points: List[List[int]]) -> int:\n",
    "        def gcd(a,b):\n",
    "            x1,y1=a,b\n",
    "            while b:\n",
    "                a,b=b,a%b\n",
    "            return x1/a,y1/a\n",
    "        def fuhao(x,y):\n",
    "            if x*y>0:\n",
    "                if x<0:\n",
    "                    return -x,-y\n",
    "                return x,y\n",
    "            else:\n",
    "                if x<0:\n",
    "                    return x,y\n",
    "                else:return -x,y\n",
    "        def cal(p1,p2):\n",
    "            k1,k2 = fuhao(*gcd(p1[1]-p2[1],p1[0]-p2[0]))\n",
    "            b1,b2 = fuhao(*gcd(p2[0]*p1[1]-p1[0]*p2[1],p2[0]-p1[0]))\n",
    "            \n",
    "            return (int(k1),int(k2),int(b1),int(b2))\n",
    "        if len(points)<2: return len(points)\n",
    "        points=sorted(points)\n",
    "        print(points)\n",
    "        dic = {}\n",
    "        dic2 = {}# 记录水平或竖直的线\n",
    "        from collections import defaultdict\n",
    "        dic3=defaultdict(int)\n",
    "        for s in points:\n",
    "            dic3[(s[0],s[1])]+=1\n",
    "        maval = 1\n",
    "        lens = len(points)\n",
    "        for i,s in enumerate(points):\n",
    "            for j in range(i+1,lens):\n",
    "                if s[0]-points[j][0]==0 or s[1]-points[j][1]==0:\n",
    "                    if s[0]-points[j][0]==0:\n",
    "                        if (s[0],0) in dic2:\n",
    "                            continue\n",
    "                        dic2[(s[0],0)]=2\n",
    "                        for i in range(j+1,lens):\n",
    "                            if points[i][0]==s[0]:\n",
    "                                dic2[(s[0],0)]+=1\n",
    "                        if dic2[(s[0],0)]>maval:maval=dic2[(s[0],0)]\n",
    "                    elif s[1]-points[j][1]==0:\n",
    "                        if (0,s[1]) in dic2:\n",
    "                            continue\n",
    "                        dic2[(0,s[1])]=2\n",
    "                        for i in range(j+1,lens):\n",
    "                            if points[i][1]==s[1]:\n",
    "                                dic2[(0,s[1])]+=1\n",
    "                        if dic2[(0,s[1])]>maval:maval=dic2[(0,s[1])]\n",
    "                    continue\n",
    "                k1,k2,b1,b2 = cal(s,points[j])\n",
    "                #print(k1,k2,b1,b2)\n",
    "                if (k1,k2,b1,b2) in dic:\n",
    "                    continue\n",
    "                #print('yes')\n",
    "                dic[(k1,k2,b1,b2)] = dic3[(s[0],s[1])]+1\n",
    "                a=j+1\n",
    "                while a<lens:\n",
    "                    #print(\"****\")\n",
    "                    #print(k2*points[a][1])\n",
    "                    #print(k1*b2*points[a][0]+b1*k2)\n",
    "                    #print(\"****\")\n",
    "                    if k2*b2*points[a][1] == k1*b2*points[a][0]+b1*k2:\n",
    "                        dic[(k1,k2,b1,b2)]+=1\n",
    "                        print(dic[(k1,k2,b1,b2)])\n",
    "                    a+=1\n",
    "                if dic[(k1,k2,b1,b2)]>maval:maval=dic[(k1,k2,b1,b2)]\n",
    "        return maval\n"
   ]
  },
  {
   "cell_type": "markdown",
   "metadata": {},
   "source": [
    "## 166.分数到小数\n",
    "---\n",
    "给定两个整数，分别表示分数的分子numerator和分母denominaator，以字符串形式返回小数。如果小数部分为循环小数，则将循环的部分括在括号内。\n",
    "\n",
    "**示例1：**\n",
    "```\n",
    "输入: numerator = 1, denominator = 2\n",
    "输出: \"0.5\"\n",
    "```\n",
    "**示例2:**\n",
    "```\n",
    "输入: numerator = 2, denominator = 1\n",
    "输出: \"2\"\n",
    "```\n",
    "**示例3:**\n",
    "```\n",
    "输入: numerator = 2, denominator = 3\n",
    "输出: \"0.(6)\"\n",
    "```"
   ]
  },
  {
   "cell_type": "code",
   "execution_count": null,
   "metadata": {},
   "outputs": [],
   "source": [
    "class Solution:\n",
    "    def fractionToDecimal(self, numerator: int, denominator: int) -> str:\n",
    "        if numerator>=0:\n",
    "            fu1=1\n",
    "        else:\n",
    "            fu1=-1\n",
    "            numerator=-numerator\n",
    "        if denominator>=0:\n",
    "            fu2=1\n",
    "        else:\n",
    "            fu2=-1\n",
    "            denominator=-denominator\n",
    "        if numerator==0: return  '0'\n",
    "        from collections import defaultdict\n",
    "        dic = defaultdict(bool)\n",
    "        dic2 = {}\n",
    "        str_result = ''\n",
    "        if fu1*fu2<0:\n",
    "            str_result+='-'\n",
    "        stack=[]\n",
    "        int_str = numerator//denominator\n",
    "        str_result+=str(int_str)\n",
    "        dboule_num = numerator%denominator\n",
    "        if dboule_num:\n",
    "            str_result+='.'\n",
    "        #dic[(int_str,dboule_num)]=True\n",
    "        denote=False\n",
    "        repeat =''\n",
    "        while dboule_num:\n",
    "            dboule_num =dboule_num*10\n",
    "            tp = dboule_num//denominator\n",
    "            tmp = dboule_num\n",
    "            dboule_num=dboule_num % denominator\n",
    "            #print('yes ',(tp,dboule_num))\n",
    "            if dic[(tp,dboule_num)]==True:\n",
    "                print('yes ',(tp,dboule_num))\n",
    "                denote=True\n",
    "                dboule_num=tmp\n",
    "                while (tp,dboule_num) not in dic2:\n",
    "                    print(tp)\n",
    "                    tp = dboule_num//denominator\n",
    "                    print(tp)\n",
    "                    dboule_num = dboule_num%denominator\n",
    "                    dboule_num =dboule_num*10\n",
    "                    dic2[(tp,dboule_num)]=True\n",
    "                    repeat+=str(tp)\n",
    "\n",
    "                break\n",
    "            stack.append(str(tp))\n",
    "            dic[(tp,dboule_num)]=True\n",
    "        nums = ''.join(stack)\n",
    "        if denote:\n",
    "            if repeat:\n",
    "                print('repeat',repeat)\n",
    "                po=nums.find(repeat)\n",
    "                nore,re = nums[:po],nums[po:]\n",
    "                nums = nore+'('+re+')'\n",
    "            #nums='({})'.format(nums)\n",
    "           \n",
    "        #print(str_result+nums)\n",
    "        return str_result+nums"
   ]
  }
 ],
 "metadata": {
  "kernelspec": {
   "display_name": "Python 3",
   "language": "python",
   "name": "python3"
  },
  "language_info": {
   "codemirror_mode": {
    "name": "ipython",
    "version": 3
   },
   "file_extension": ".py",
   "mimetype": "text/x-python",
   "name": "python",
   "nbconvert_exporter": "python",
   "pygments_lexer": "ipython3",
   "version": "3.8.3"
  }
 },
 "nbformat": 4,
 "nbformat_minor": 4
}
