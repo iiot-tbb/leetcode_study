{
 "cells": [
  {
   "cell_type": "markdown",
   "metadata": {},
   "source": [
    "#### 1.给定一个字符串，验证它是否是回文串，只考虑字母和数字字符，可以忽略字母的大小写。\n",
    "\n",
    "说明：本题中，我们将空字符串定义为有效的回文串。"
   ]
  },
  {
   "cell_type": "code",
   "execution_count": 1,
   "metadata": {},
   "outputs": [],
   "source": [
    "class Solution:\n",
    "    def isPalindrome(self, s: str) -> bool:\n",
    "        sigore = ''\n",
    "        if s =='':\n",
    "            return True\n",
    "        for i in range(len(s)):\n",
    "            if s[i].isdigit():\n",
    "                sigore+=s[i]\n",
    "            elif s[i].isalpha():\n",
    "                if s[i].isupper():\n",
    "                    sigore+=s[i].lower()\n",
    "                elif s[i].islower():\n",
    "                    sigore+=s[i]\n",
    "        \n",
    "        \n",
    "        print(sigore)\n",
    "        print(sigore[::-1])\n",
    "        if sigore == sigore[::-1]:\n",
    "            return True\n",
    "        return False"
   ]
  },
  {
   "cell_type": "code",
   "execution_count": 2,
   "metadata": {},
   "outputs": [],
   "source": [
    "Sol = Solution()"
   ]
  },
  {
   "cell_type": "code",
   "execution_count": 3,
   "metadata": {},
   "outputs": [
    {
     "name": "stdout",
     "output_type": "stream",
     "text": [
      "amanaplanacanalpanama\n",
      "amanaplanacanalpanama\n"
     ]
    },
    {
     "data": {
      "text/plain": [
       "True"
      ]
     },
     "execution_count": 3,
     "metadata": {},
     "output_type": "execute_result"
    }
   ],
   "source": [
    "Sol.isPalindrome(\"A man, a plan, a canal: Panama\")"
   ]
  },
  {
   "cell_type": "markdown",
   "metadata": {},
   "source": [
    "#### 2.给定一个字符串 s，将 s 分割成一些子串，使每个子串都是回文串。返回 s 所有可能的分割方案。"
   ]
  },
  {
   "cell_type": "code",
   "execution_count": 27,
   "metadata": {},
   "outputs": [],
   "source": [
    "class Solution:\n",
    "    def partition(self,s:str):\n",
    "        split_result = []\n",
    "        \n",
    "        if len(s) == 0:\n",
    "            return split_result\n",
    "        \n",
    "        def back(start = 0, res = None):\n",
    "            if res is None:\n",
    "                res = []\n",
    "            if start >= len(s):\n",
    "                split_result.append(res)\n",
    "                return\n",
    "            for end in range(start+1,len(s)+1):\n",
    "                split_s=s[start:end]\n",
    "                if split_s == s[start:end][::-1]:\n",
    "                    back(end,res+[split_s])\n",
    "        back()\n",
    "        print(split_result)\n",
    "        return split_result"
   ]
  },
  {
   "cell_type": "code",
   "execution_count": 28,
   "metadata": {},
   "outputs": [],
   "source": [
    "Sol= Solution()"
   ]
  },
  {
   "cell_type": "code",
   "execution_count": 29,
   "metadata": {},
   "outputs": [
    {
     "name": "stdout",
     "output_type": "stream",
     "text": [
      "[['a', 'a', 'b'], ['aa', 'b']]\n"
     ]
    },
    {
     "data": {
      "text/plain": [
       "[['a', 'a', 'b'], ['aa', 'b']]"
      ]
     },
     "execution_count": 29,
     "metadata": {},
     "output_type": "execute_result"
    }
   ],
   "source": [
    "Sol.partition(\"aab\")"
   ]
  },
  {
   "cell_type": "markdown",
   "metadata": {},
   "source": [
    "#### 3.给定一个非空字符串 s 和一个包含非空单词列表的字典 wordDict，判定 s 是否可以被空格拆分为一个或多个在字典中出现的单词。\n",
    "\n",
    "说明：\n",
    "- 拆分时可以重复使用字典中的单词。\n",
    "- 你可以假设字典中没有重复的单词。\n",
    "\n",
    "示例1：\n",
    "```\n",
    "输入: s = \"leetcode\", wordDict = [\"leet\", \"code\"]\n",
    "输出: true\n",
    "解释: 返回 true 因为 \"leetcode\" 可以被拆分成 \"leet code\"。\n",
    "```\n",
    "示例2;\n",
    "```\n",
    "输入: s = \"applepenapple\", wordDict = [\"apple\", \"pen\"]\n",
    "输出: true\n",
    "解释: 返回 true 因为 \"applepenapple\" 可以被拆分成 \"apple pen apple\"。\n",
    "     注意你可以重复使用字典中的单词。\n",
    "```\n",
    "示例3:\n",
    "```\n",
    "输入: s = \"catsandog\", wordDict = [\"cats\", \"dog\", \"sand\", \"and\", \"cat\"]\n",
    "输出: false\n",
    "```"
   ]
  },
  {
   "cell_type": "markdown",
   "metadata": {},
   "source": [
    "### 题解\n",
    "#### 动态规划\n",
    "1.初始化dp = [False,..,False],长度为n+1。n为字符串长度。dp[i]表示s的前i位是否可以用wordDict中的单词表示。\n",
    "2.初始化dp[0]= True,空字符可以表示。\n",
    "3.遍历字符串的所有字串，遍历开始索引i,遍历区间[0,n):\n",
    "- 遍历结束，遍历结束索引j,遍历区间[i+1,n+1);\n",
    "```\n",
    "若dp[i] = True且s[i,...,j)在word list中，dp[j]=True.解释dp[i]=True说明s的前i位可以用wordlist表示，则s[i,...,j)出现在wordDict中，说明s的前j位可以表示。\n",
    "```\n",
    "\n",
    "4.返回dp[n]"
   ]
  },
  {
   "cell_type": "code",
   "execution_count": null,
   "metadata": {},
   "outputs": [],
   "source": [
    "class Solution:\n",
    "    def wordBreak(self, s: str, wordDict: List[str]) -> bool:       \n",
    "        n=len(s)\n",
    "        dp=[False]*(n+1)\n",
    "        dp[0]=True\n",
    "        for i in range(n):\n",
    "            for j in range(i+1,n+1):\n",
    "                if(dp[i] and (s[i:j] in wordDict)):\n",
    "                    dp[j]=True\n",
    "        return dp[-1]\n"
   ]
  },
  {
   "cell_type": "markdown",
   "metadata": {},
   "source": [
    "#### 记忆回溯法\n",
    "```\n",
    "- 1.使用记忆化函数，保存出现过的backrack(s),避免重复计算。\n",
    "- 2.定义回溯函数 backtrack(s)\n",
    "    - 若s长度为0，则返回True，表示已经使用wordDict中的单词分割完。\n",
    "    - 初始化当前字符串是否可以被分割 res = False\n",
    "    - 遍历结束索引i，遍历区间[1,n+1):\n",
    "        - 若s[0,...,i-1]在wordDict中: res= backtrack(s[i,...,n-1]) or res。解释：保存遍历结束索引中，可以使字符串切割完成的情况\n",
    "        - 返回res\n",
    "\n",
    "```\n"
   ]
  },
  {
   "cell_type": "code",
   "execution_count": 36,
   "metadata": {},
   "outputs": [],
   "source": [
    "class Solution:\n",
    "    def wordBreak(self, s: str, wordDict) -> bool:\n",
    "        import functools\n",
    "        @functools.lru_cache(None)\n",
    "        def back_track(s):\n",
    "            if(not s):\n",
    "                return True\n",
    "            res=False\n",
    "            for i in range(1,len(s)+1):\n",
    "                if(s[:i] in wordDict):\n",
    "                    res=back_track(s[i:])# or res\n",
    "            return res\n",
    "        return back_track(s)\n"
   ]
  },
  {
   "cell_type": "code",
   "execution_count": 37,
   "metadata": {},
   "outputs": [],
   "source": [
    "Sol= Solution()"
   ]
  },
  {
   "cell_type": "code",
   "execution_count": 38,
   "metadata": {},
   "outputs": [
    {
     "data": {
      "text/plain": [
       "True"
      ]
     },
     "execution_count": 38,
     "metadata": {},
     "output_type": "execute_result"
    }
   ],
   "source": [
    "Sol.wordBreak('leetcode',['leet','code'])"
   ]
  },
  {
   "cell_type": "markdown",
   "metadata": {},
   "source": [
    "### 140.单词拆分\n",
    "\n",
    "#### 给定一个非空字符串 s 和一个包含非空单词列表的字典 wordDict，在字符串中增加空格来构建一个句子，使得句子中所有的单词都在词典中。返回所有这些可能的句子\n",
    "说明\n",
    "- 分隔时可以重复使用字典中的单词\n",
    "- 你可以假设字典中没有重复的单词\n",
    "\n",
    "\n",
    "示例1：\n",
    "```\n",
    "输入:\n",
    "s = \"catsanddog\"\n",
    "wordDict = [\"cat\", \"cats\", \"and\", \"sand\", \"dog\"]\n",
    "输出:\n",
    "[\n",
    "  \"cats and dog\",\n",
    "  \"cat sand dog\"\n",
    "]\n",
    "\n",
    "```\n",
    "示例 2：\n",
    "```\n",
    "输入:\n",
    "s = \"pineapplepenapple\"\n",
    "wordDict = [\"apple\", \"pen\", \"applepen\", \"pine\", \"pineapple\"]\n",
    "输出:\n",
    "[\n",
    "  \"pine apple pen apple\",\n",
    "  \"pineapple pen apple\",\n",
    "  \"pine applepen apple\"\n",
    "]\n",
    "解释: 注意你可以重复使用字典中的单词。\n",
    "\n",
    "```\n",
    "\n",
    "示例 3：\n",
    "```\n",
    "输入:\n",
    "s = \"catsandog\"\n",
    "wordDict = [\"cats\", \"dog\", \"sand\", \"and\", \"cat\"]\n",
    "输出:\n",
    "[]\n",
    "```"
   ]
  },
  {
   "cell_type": "code",
   "execution_count": null,
   "metadata": {},
   "outputs": [],
   "source": [
    "#超时\n",
    "class Solution:\n",
    "    def wordBreak(self, s: str, wordDict: List[str]) -> List[str]:\n",
    "        len_s = len(s)\n",
    "        sentence_list = []\n",
    "        senslice=\"\"\n",
    "        if len_s == 0:\n",
    "            return len_s\n",
    "        def deepSeek(sentence_slice= None,begin=0):\n",
    "            if begin >= len_s:\n",
    "                sentence_list.append(sentence_slice)\n",
    "                sentence_slice = None\n",
    "                return\n",
    "            for end in range(begin+1,len_s+1):\n",
    "                \n",
    "                if s[begin:end] in wordDict:\n",
    "                    lens= len(sentence_slice)\n",
    "                    if sentence_slice != \"\":\n",
    "                        sentence_slice +=\" \"\n",
    "                    sentence_slice += s[begin:end]\n",
    "                    deepSeek(sentence_slice,end)\n",
    "                    sentence_slice=sentence_slice[:lens]\n",
    "                if end ==len_s:\n",
    "                    sentence_slice=\"\"\n",
    "        deepSeek(senslice)\n",
    "        #sentence_list.sort()\n",
    "        #print(sentence_list)\n",
    "        return sentence_list"
   ]
  },
  {
   "cell_type": "code",
   "execution_count": null,
   "metadata": {},
   "outputs": [],
   "source": [
    "#超时\n",
    "class Solution:\n",
    "    def wordBreak(self, s: str, wordDict: List[str]) -> List[str]:\n",
    "        begin =0\n",
    "        lst_out = []\n",
    "        s_tempt=''\n",
    "        import functools\n",
    "        @lru_cache\n",
    "        def deep(begin,s_temp):\n",
    "            if begin==len(s):\n",
    "                tp=''.join(s_temp.split())\n",
    "                if tp==s:\n",
    "                    lst_out.append(s_temp)\n",
    "                return           \n",
    "        #while begin < len(s):\n",
    "            for end in range(begin+1,len(s)+1):\n",
    "                if s[begin:end] in wordDict:\n",
    "                    if len(s_temp) != 0: \n",
    "                        s_temp+=' '+s[begin:end]\n",
    "                    else:\n",
    "                        s_temp+=s[begin:end]\n",
    "                    deep(end,s_temp)\n",
    "                    s_temp = ' '.join(s_temp.split()[:-1])\n",
    "            begin+=1\n",
    "        deep(begin,s_tempt)\n",
    "        return lst_out"
   ]
  },
  {
   "cell_type": "markdown",
   "metadata": {},
   "source": [
    "### 解题思路 \n",
    "\n",
    "#### 动态规划"
   ]
  },
  {
   "cell_type": "code",
   "execution_count": 95,
   "metadata": {},
   "outputs": [],
   "source": [
    "class Solution:\n",
    "    def __init__(self):\n",
    "        pass\n",
    "    def __call__(self,s,worDict):\n",
    "        return self.wordBreak(s,wordDict)\n",
    "    def wordBreak(self, s: str, wordDict):\n",
    "        tmp = set(\"\".join(wordDict))\n",
    "        #print(tmp)\n",
    "        #print(any([i not in tmp for i in s]))\n",
    "        if any([i not in tmp for i in s]):\n",
    "            return []\n",
    "        #print(s[0])\n",
    "        #print(s[0] in wordDict)\n",
    "        dp = [[\"\"], [s[0]]*(s[0] in wordDict)]\n",
    "        #print(dp)\n",
    "        for i in range(1, len(s)):\n",
    "            print(sum([[f\"{k} {s[j: i+1]}\" if k else s[j: i+1] for k in dp[j]] for j in range(i+1) if s[j: i+1] in wordDict and dp[j]], []))\n",
    "            dp.append(sum([[f\"{k} {s[j: i+1]}\" if k else s[j: i+1] for k in dp[j]] for j in range(i+1) if s[j: i+1] in wordDict and dp[j]], []))\n",
    "        return dp[-1]\n"
   ]
  },
  {
   "cell_type": "code",
   "execution_count": 96,
   "metadata": {},
   "outputs": [],
   "source": [
    "s = \"pineapplepenapple\"\n",
    "wordDict = [\"apple\", \"pen\", \"applepen\", \"pine\", \"pineapple\"]"
   ]
  },
  {
   "cell_type": "code",
   "execution_count": 97,
   "metadata": {},
   "outputs": [],
   "source": [
    "A=Solution()"
   ]
  },
  {
   "cell_type": "code",
   "execution_count": 98,
   "metadata": {},
   "outputs": [
    {
     "name": "stdout",
     "output_type": "stream",
     "text": [
      "[]\n",
      "[]\n",
      "['pine']\n",
      "[]\n",
      "[]\n",
      "[]\n",
      "[]\n",
      "['pineapple', 'pine apple']\n",
      "[]\n",
      "[]\n",
      "['pine applepen', 'pineapple pen', 'pine apple pen']\n",
      "[]\n",
      "[]\n",
      "[]\n",
      "[]\n",
      "['pine applepen apple', 'pineapple pen apple', 'pine apple pen apple']\n",
      "['pine applepen apple', 'pineapple pen apple', 'pine apple pen apple']\n"
     ]
    }
   ],
   "source": [
    "print(A(s,wordDict))"
   ]
  },
  {
   "cell_type": "code",
   "execution_count": null,
   "metadata": {},
   "outputs": [],
   "source": [
    "class Solution:\n",
    "    def wordBreak(self, s: str, wordDict: List[str]) -> List[str]:\n",
    "        import functools\n",
    "        if not wordDict: return []\n",
    "        wordDict = set(wordDict)\n",
    "        max_len = max(map(len,wordDict))\n",
    "        @functools.lru_cache(None)\n",
    "        def helper(s):\n",
    "            res = []\n",
    "            if not s:\n",
    "                #res.append(\"\")\n",
    "                return res\n",
    "            for i in range(len(s)):\n",
    "                if i<max_len and s[:i+1] in wordDict:\n",
    "                    for t in helper(s[i+1:]):\n",
    "                        if not t:\n",
    "                            res.append(s[:i+1])\n",
    "                        else:\n",
    "                            res.append(s[:i+1] + \" \"+ t)\n",
    "            return res\n",
    "        return helper(s)"
   ]
  },
  {
   "cell_type": "markdown",
   "metadata": {},
   "source": [
    "### 208.实现前缀树"
   ]
  },
  {
   "cell_type": "code",
   "execution_count": 103,
   "metadata": {},
   "outputs": [],
   "source": [
    "class node:\n",
    "    def __init__(self):\n",
    "        self.value =''\n",
    "        self.next=[]\n",
    "        self.isEnd =False\n",
    "class Trie:\n",
    "\n",
    "    def __init__(self):\n",
    "        \"\"\"\n",
    "        Initialize your data structure here.\n",
    "        \"\"\"\n",
    "        self.head = node()\n",
    "        self.cursor =self.head\n",
    "\n",
    "\n",
    "    def insert(self, word: str) -> None:\n",
    "        \"\"\"\n",
    "        Inserts a word into the trie.\n",
    "        \"\"\"\n",
    "        def deep(node,word):\n",
    "            if word=='':\n",
    "                return\n",
    "            elif len(word)==1:\n",
    "                pass\n",
    "                \n",
    "            \n",
    "        lens =len(word)\n",
    "        for i,s in enumerate(word):\n",
    "            isIN= False\n",
    "            for node in self.cursor.next:\n",
    "                if node.value==s:\n",
    "                    isIN=True\n",
    "                    self.cursor = node\n",
    "                    break\n",
    "                \n",
    "                \n",
    "\n",
    "\n",
    "    def search(self, word: str) -> bool:\n",
    "        \"\"\"\n",
    "        Returns if the word is in the trie.\n",
    "        \"\"\"\n",
    "        pass\n",
    "\n",
    "\n",
    "    def startsWith(self, prefix: str) -> bool:\n",
    "        \"\"\"\n",
    "        Returns if there is any word in the trie that starts with the given prefix.\n",
    "        \"\"\"\n",
    "        pass"
   ]
  },
  {
   "cell_type": "code",
   "execution_count": null,
   "metadata": {},
   "outputs": [],
   "source": [
    "from collections import defaultdict\n",
    "class TireNode:\n",
    "    def __init__(self):\n",
    "        self.node = defaultdict(TireNode)\n",
    "        self.isEnd=False\n",
    "\n",
    "class Trie:\n",
    "    def __init__(self):\n",
    "        self.root = TireNode()\n",
    "    \n",
    "    def insert(self,word):\n",
    "        cur = self.root\n",
    "        for w in word:\n",
    "            cur = cur.node[w]\n",
    "        cur.isEnd = True\n",
    "    def search(self,word):\n",
    "        cur = self.root\n",
    "        for w in word:\n",
    "            if w in cur.node:\n",
    "                cur = cur.node[w]\n",
    "            else:\n",
    "                return False\n",
    "        return cur.isEnd\n",
    "    def startswith(self,prefix):\n",
    "        cur = self.root\n",
    "        for w in prefix:\n",
    "            if w in cur.node:\n",
    "                cur = cur.node[w]\n",
    "            else:\n",
    "                return False\n",
    "        return True\n",
    "            "
   ]
  },
  {
   "cell_type": "markdown",
   "metadata": {},
   "source": [
    "### 212单词搜索II"
   ]
  },
  {
   "cell_type": "markdown",
   "metadata": {},
   "source": [
    "给定一个二维网格 board 和一个字典中的单词列表 words，找出所有同时在二维网格和字典中出现的单词。\n",
    "\n",
    "单词必须按照字母顺序，通过相邻的单元格内的字母构成，其中“相邻”单元格是那些水平相邻或垂直相邻的单元格。同一个单元格内的字母在一个单词中不允许被重复使用。\n",
    "```\n",
    "输入: \n",
    "words = [\"oath\",\"pea\",\"eat\",\"rain\"] and board =\n",
    "[\n",
    "  ['o','a','a','n'],\n",
    "  ['e','t','a','e'],\n",
    "  ['i','h','k','r'],\n",
    "  ['i','f','l','v']\n",
    "]\n",
    "\n",
    "输出: [\"eat\",\"oath\"]\n",
    "\n",
    "```\n",
    "说明:\n",
    "你可以假设所有输入都由小写字母 a-z 组成。\n",
    "\n",
    "提示:\n",
    "\n",
    "- 你需要优化回溯算法以通过更大数据量的测试。你能否早点停止回溯？\n",
    "- 如果当前单词不存在于所有单词的前缀中，则可以立即停止回溯。什么样的数据结构可以有效地执行这样的操作？散列表是否可行？为什么？ 前缀树如何？如果你想学习如何实现一个基本的前缀树，请先查看这个问题： 实现Trie（前缀树）。\n"
   ]
  },
  {
   "cell_type": "code",
   "execution_count": 105,
   "metadata": {},
   "outputs": [],
   "source": [
    "from collections import defaultdict\n",
    "class TireNode:\n",
    "    def __init__(self):\n",
    "        self.node = defaultdict(TireNode)\n",
    "        self.isEnd=False\n",
    "\n",
    "class Trie:\n",
    "    def __init__(self):\n",
    "        self.root = TireNode()\n",
    "    \n",
    "    def insert(self,word):\n",
    "        cur = self.root\n",
    "        for w in word:\n",
    "            cur = cur.node[w]\n",
    "        cur.isEnd = True\n",
    "    def search(self,word):\n",
    "        cur = self.root\n",
    "        for w in word:\n",
    "            if w in cur.node:\n",
    "                cur = cur.node[w]\n",
    "            else:\n",
    "                return False\n",
    "        return cur.isEnd\n",
    "    def startswith(self,prefix):\n",
    "        cur = self.root\n",
    "        for w in prefix:\n",
    "            if w in cur.node:\n",
    "                cur = cur.node[w]\n",
    "            else:\n",
    "                return False\n",
    "        return True\n",
    "\n",
    "class Solution:\n",
    "    def Tree(self):\n",
    "        self.Trie = Trie()\n",
    "        self.lst=[]\n",
    "    def findWords(self, board: List[List[str]], words: List[str]) -> List[str]:\n",
    "        self.Tree()\n",
    "        self.H = len(board)   \n",
    "        if self.H !=0:\n",
    "            self.W=len(board[0])\n",
    "        self.vis = [[False for j in range(self.W)] for i in range(self.H)]\n",
    "        for word in words:\n",
    "            self.Trie.insert(word)\n",
    "        \n",
    "        def DFS(pos0,pos1,seq):#seq表示现在位置的字母\n",
    "            print(seq)\n",
    "            if self.Trie.search(seq):\n",
    "                self.lst.append(seq)\n",
    "                print(seq)\n",
    "                #return\n",
    "            if self.Trie.startswith(seq)==False:\n",
    "                return\n",
    "            self.vis[pos0][pos1]=True\n",
    "            for w,h in [[-1,0],[1,0],[0,-1],[0,1]]:\n",
    "                if pos0+h >=self.H or pos0+h<0:\n",
    "                    continue\n",
    "                if pos1+w >= self.W or pos1+w<0:\n",
    "                    continue\n",
    "                if self.vis[pos0+h][pos1+w]==False:\n",
    "                    #self.vis[pos0+h][pos1+w]=True\n",
    "                    DFS(pos0+h,pos1+w,seq+board[pos0+h][pos1+w])\n",
    "                    self.vis[pos0+h][pos1+w]=False\n",
    "            return\n",
    "        for i,_ in enumerate(board):\n",
    "            for j,w in enumerate(board[i]):\n",
    "                DFS(i,j,w)\n",
    "        return sorted(list(set(self.lst)))"
   ]
  },
  {
   "cell_type": "markdown",
   "metadata": {},
   "source": [
    "### 242有效的字母异位词\n",
    "\n",
    "给定两个字符串 s 和 t ，编写一个函数来判断 t 是否是 s 的字母异位词。\n",
    "\n",
    "示例 1:\n",
    "```\n",
    "输入: s = \"anagram\", t = \"nagaram\"\n",
    "输出: true\n",
    "```\n",
    "示例 2:\n",
    "```\n",
    "输入: s = \"rat\", t = \"car\"\n",
    "输出: false\n",
    "```\n",
    "说明:\n",
    "你可以假设字符串只包含小写字母。\n",
    "\n",
    "进阶:\n",
    "如果输入字符串包含 unicode 字符怎么办？你能否调整你的解法来应对这种情况？"
   ]
  },
  {
   "cell_type": "code",
   "execution_count": 107,
   "metadata": {},
   "outputs": [],
   "source": [
    "class Solution(object):\n",
    "    def isAnagram(self, s, t):\n",
    "        \"\"\"\n",
    "        :type s: str\n",
    "        :type t: str\n",
    "        :rtype: bool\n",
    "        \"\"\"\n",
    "        s1=''.join(sorted(s))\n",
    "        s2 = ''.join(sorted(t))\n",
    "        if s1==s2:\n",
    "            return True\n",
    "        return False"
   ]
  },
  {
   "cell_type": "code",
   "execution_count": 106,
   "metadata": {},
   "outputs": [
    {
     "data": {
      "text/plain": [
       "['e', 'f', 'g', 'r', 's']"
      ]
     },
     "execution_count": 106,
     "metadata": {},
     "output_type": "execute_result"
    }
   ],
   "source": [
    "sorted('fesgr')"
   ]
  },
  {
   "cell_type": "markdown",
   "metadata": {},
   "source": [
    "### 387字符串中的第一个唯一字符\n",
    "\n",
    "给定一个字符串，找到它的第一个不重复的字符，并返回它的索引。如果不存在，则返回 -1。\n",
    "\n",
    "示例：\n",
    "```\n",
    "s = \"leetcode\"\n",
    "返回 0\n",
    "\n",
    "s = \"loveleetcode\"\n",
    "返回 2\n",
    "```\n",
    "提示：你可以假定该字符串只包含小写字母。"
   ]
  },
  {
   "cell_type": "code",
   "execution_count": 108,
   "metadata": {},
   "outputs": [],
   "source": [
    "class Solution(object):\n",
    "    def firstUniqChar(self, s):\n",
    "        \"\"\"\n",
    "        :type s: str\n",
    "        :rtype: int\n",
    "        \"\"\"\n",
    "        dic={}\n",
    "        for i,w in enumerate(s):\n",
    "            if w not in dic:\n",
    "                dic[w]=[i]\n",
    "            else:\n",
    "                dic[w].append(i)\n",
    "        for w in s:\n",
    "             if len(dic[w])==1:\n",
    "                    return dic[w][0]\n",
    "        return -1"
   ]
  },
  {
   "cell_type": "code",
   "execution_count": 109,
   "metadata": {},
   "outputs": [],
   "source": [
    "s=['h','e','l','l','o']"
   ]
  },
  {
   "cell_type": "code",
   "execution_count": 117,
   "metadata": {},
   "outputs": [
    {
     "data": {
      "text/plain": [
       "['o', 'l', 'l', 'e', 'h']"
      ]
     },
     "execution_count": 117,
     "metadata": {},
     "output_type": "execute_result"
    }
   ],
   "source": [
    "s[-1::-1]"
   ]
  },
  {
   "cell_type": "code",
   "execution_count": null,
   "metadata": {},
   "outputs": [],
   "source": []
  }
 ],
 "metadata": {
  "kernelspec": {
   "display_name": "Python 3",
   "language": "python",
   "name": "python3"
  },
  "language_info": {
   "codemirror_mode": {
    "name": "ipython",
    "version": 3
   },
   "file_extension": ".py",
   "mimetype": "text/x-python",
   "name": "python",
   "nbconvert_exporter": "python",
   "pygments_lexer": "ipython3",
   "version": "3.8.3"
  }
 },
 "nbformat": 4,
 "nbformat_minor": 4
}
